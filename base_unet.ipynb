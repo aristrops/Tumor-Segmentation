{
 "cells": [
  {
   "cell_type": "code",
   "id": "initial_id",
   "metadata": {
    "ExecuteTime": {
     "end_time": "2025-02-14T19:23:50.054186Z",
     "start_time": "2025-02-14T19:23:50.050129Z"
    }
   },
   "source": [
    "import matplotlib.pyplot as plt\n",
    "import numpy as np\n",
    "import utils\n",
    "import network_layers\n",
    "import tensorflow as tf\n",
    "from keras import layers, Model"
   ],
   "outputs": [],
   "execution_count": 2
  },
  {
   "cell_type": "code",
   "id": "a20f360c3e6640b6",
   "metadata": {
    "ExecuteTime": {
     "end_time": "2025-02-14T19:23:51.451065Z",
     "start_time": "2025-02-14T19:23:51.446231Z"
    }
   },
   "source": [
    "#set the necessary seeds\n",
    "seed = 42\n",
    "tf.random.set_seed(seed)\n",
    "np.random.seed(seed)"
   ],
   "outputs": [],
   "execution_count": 3
  },
  {
   "cell_type": "markdown",
   "id": "4805a0f30f88b382",
   "metadata": {},
   "source": [
    "## Import datasets"
   ]
  },
  {
   "cell_type": "markdown",
   "id": "8693763c8c5bdb0c",
   "metadata": {},
   "source": [
    "### Breast cancer dataset"
   ]
  },
  {
   "cell_type": "code",
   "id": "c6ca6ba0b34b9c93",
   "metadata": {
    "ExecuteTime": {
     "end_time": "2025-02-14T19:23:55.447207Z",
     "start_time": "2025-02-14T19:23:55.422009Z"
    }
   },
   "source": [
    "train_pairs_breast, val_pairs_breast, test_pairs_breast = utils.split_dataset(utils.create_list())\n",
    "print(f\"Number of training pairs: {len(train_pairs_breast)}\")\n",
    "print(f\"Number of val pairs: {len(val_pairs_breast)}\")\n",
    "print(f\"Number of test_pairs pairs: {len(test_pairs_breast)}\")"
   ],
   "outputs": [
    {
     "name": "stdout",
     "output_type": "stream",
     "text": [
      "Number of training pairs: 388\n",
      "Number of val pairs: 129\n",
      "Number of test_pairs pairs: 130\n"
     ]
    }
   ],
   "execution_count": 4
  },
  {
   "cell_type": "code",
   "id": "738704434bbceeb4",
   "metadata": {
    "ExecuteTime": {
     "end_time": "2025-02-14T19:24:01.373287Z",
     "start_time": "2025-02-14T19:24:01.020559Z"
    }
   },
   "source": [
    "train_dataset_breast = utils.create_dataset(train_pairs_breast, augment=True)\n",
    "val_dataset_breast = utils.create_dataset(val_pairs_breast)\n",
    "test_dataset_breast = utils.create_dataset(test_pairs_breast)"
   ],
   "outputs": [],
   "execution_count": 6
  },
  {
   "metadata": {
    "ExecuteTime": {
     "end_time": "2025-02-14T19:24:02.745076Z",
     "start_time": "2025-02-14T19:24:02.740111Z"
    }
   },
   "cell_type": "code",
   "source": "batch_size = 8",
   "id": "af7ced6c96783948",
   "outputs": [],
   "execution_count": 7
  },
  {
   "cell_type": "code",
   "id": "11b55a31a3b64db1",
   "metadata": {
    "ExecuteTime": {
     "end_time": "2025-02-14T19:24:06.272018Z",
     "start_time": "2025-02-14T19:24:05.061380Z"
    }
   },
   "source": [
    "#batch the dataset and shuffle the training set\n",
    "\n",
    "train_dataset_breast = train_dataset_breast.shuffle(buffer_size=len(train_pairs_breast)).batch(batch_size)\n",
    "val_dataset_breast = val_dataset_breast.batch(batch_size)\n",
    "test_dataset_breast = test_dataset_breast.batch(batch_size)"
   ],
   "outputs": [],
   "execution_count": 8
  },
  {
   "cell_type": "markdown",
   "id": "f9fe8d46edfea787",
   "metadata": {},
   "source": [
    "### Skin cancer dataset"
   ]
  },
  {
   "cell_type": "code",
   "id": "7d832a36b44b3ff6",
   "metadata": {
    "ExecuteTime": {
     "end_time": "2025-02-14T19:24:34.662228Z",
     "start_time": "2025-02-14T19:24:33.999951Z"
    }
   },
   "source": [
    "train_dataset_skin = utils.create_dataset(utils.create_list_skin(\"Datasets/ISIC-2017_Training_Data\", \"Datasets/ISIC-2017_Training_Part1_GroundTruth\"), augment=True)\n",
    "val_dataset_skin = utils.create_dataset(utils.create_list_skin(\"Datasets/ISIC-2017_Validation_Data\", \"Datasets/ISIC-2017_Validation_Part1_GroundTruth\"))\n",
    "test_dataset_skin =utils. create_dataset(utils.create_list_skin(\"Datasets/ISIC-2017_Test_v2_Data\", \"Datasets/ISIC-2017_Test_v2_Part1_GroundTruth\"))"
   ],
   "outputs": [],
   "execution_count": 10
  },
  {
   "cell_type": "code",
   "id": "a02c18453e62a9e0",
   "metadata": {
    "ExecuteTime": {
     "end_time": "2025-02-14T19:24:36.086320Z",
     "start_time": "2025-02-14T19:24:36.074094Z"
    }
   },
   "source": [
    "train_dataset_skin = train_dataset_skin.shuffle(buffer_size=2000).batch(batch_size)\n",
    "val_dataset_skin = val_dataset_skin.batch(batch_size)\n",
    "test_dataset_skin = test_dataset_skin.batch(batch_size)"
   ],
   "outputs": [],
   "execution_count": 11
  },
  {
   "cell_type": "markdown",
   "id": "de17dd47d2aa2df1",
   "metadata": {},
   "source": [
    "### Brain cancer datatset"
   ]
  },
  {
   "cell_type": "code",
   "id": "5eb4ceb367932d1b",
   "metadata": {
    "ExecuteTime": {
     "end_time": "2025-02-11T19:40:30.310911Z",
     "start_time": "2025-02-11T19:40:30.269572Z"
    }
   },
   "source": [
    "train_pairs_brain, val_pairs_brain, test_pairs_brain = utils.split_dataset(utils.create_list_brain())\n",
    "print(f\"Number of training pairs: {len(train_pairs_brain)}\")\n",
    "print(f\"Number of val pairs: {len(val_pairs_brain)}\")\n",
    "print(f\"Number of test_pairs pairs: {len(test_pairs_brain)}\")"
   ],
   "outputs": [
    {
     "name": "stdout",
     "output_type": "stream",
     "text": [
      "Number of training pairs: 1838\n",
      "Number of val pairs: 613\n",
      "Number of test_pairs pairs: 613\n"
     ]
    }
   ],
   "execution_count": 4
  },
  {
   "cell_type": "code",
   "id": "4eeb15b23863ceb5",
   "metadata": {
    "ExecuteTime": {
     "end_time": "2025-02-11T19:40:35.141805Z",
     "start_time": "2025-02-11T19:40:31.623909Z"
    }
   },
   "source": [
    "train_dataset_brain = utils.create_dataset(train_pairs_brain, augment=True)\n",
    "val_dataset_brain = utils.create_dataset(val_pairs_brain)\n",
    "test_dataset_brain = utils.create_dataset(test_pairs_brain)"
   ],
   "outputs": [],
   "execution_count": 5
  },
  {
   "cell_type": "code",
   "id": "5dfa285a1e352180",
   "metadata": {
    "ExecuteTime": {
     "end_time": "2025-02-11T19:40:41.874206Z",
     "start_time": "2025-02-11T19:40:41.856280Z"
    }
   },
   "source": [
    "train_dataset_brain = train_dataset_brain.shuffle(buffer_size=len(train_pairs_brain)).batch(batch_size)\n",
    "val_dataset_brain = val_dataset_brain.batch(batch_size)\n",
    "test_dataset_brain = test_dataset_brain.batch(batch_size)"
   ],
   "outputs": [],
   "execution_count": 8
  },
  {
   "cell_type": "markdown",
   "id": "fafbef57300dd626",
   "metadata": {},
   "source": [
    "## Architecture definition"
   ]
  },
  {
   "metadata": {
    "ExecuteTime": {
     "end_time": "2025-02-14T19:24:11.202965Z",
     "start_time": "2025-02-14T19:24:11.193722Z"
    }
   },
   "cell_type": "code",
   "source": [
    "def basic_unet(input_size, num_filters=16):\n",
    "    inputs = tf.keras.Input(shape=input_size)\n",
    "\n",
    "    #encoder\n",
    "    first_conv = network_layers.convolutional_layer(inputs, num_filters)\n",
    "    first_layer = layers.MaxPool2D(pool_size=(2, 2))(first_conv)\n",
    "\n",
    "    second_conv = network_layers.convolutional_layer(first_layer, num_filters * 2)\n",
    "    second_layer = layers.MaxPool2D(pool_size=(2, 2))(second_conv)\n",
    "\n",
    "    third_conv = network_layers.convolutional_layer(second_layer, num_filters * 4)\n",
    "    third_layer = layers.MaxPool2D(pool_size=(2, 2))(third_conv)\n",
    "\n",
    "    fourth_conv = network_layers.convolutional_layer(third_layer, num_filters * 8)\n",
    "    fourth_layer = layers.MaxPool2D(pool_size=(2, 2))(fourth_conv)\n",
    "\n",
    "    fifth_conv = network_layers.convolutional_layer(fourth_layer, num_filters * 16)\n",
    "\n",
    "    #decoder\n",
    "    first_deconv = layers.UpSampling2D(size=(2, 2), interpolation=\"bilinear\")(fifth_conv)\n",
    "    sixth_layer = layers.concatenate([first_deconv, fourth_conv])\n",
    "    sixth_conv = network_layers.convolutional_layer(sixth_layer, num_filters * 8, dropout=True)\n",
    "\n",
    "    second_deconv = layers.UpSampling2D(size=(2, 2), interpolation=\"bilinear\")(sixth_conv)\n",
    "    seventh_layer = layers.concatenate([second_deconv, third_conv])\n",
    "    seventh_conv = network_layers.convolutional_layer(seventh_layer, num_filters * 4, dropout=True)\n",
    "\n",
    "    third_deconv = layers.UpSampling2D(size=(2, 2), interpolation=\"bilinear\")(seventh_conv)\n",
    "    eighth_layer = layers.concatenate([third_deconv, second_conv])\n",
    "    eighth_conv = network_layers.convolutional_layer(eighth_layer, num_filters * 2, dropout=True)\n",
    "\n",
    "    fourth_deconv = layers.UpSampling2D(size=(2, 2), interpolation=\"bilinear\")(eighth_conv)\n",
    "    ninth_layer = layers.concatenate([fourth_deconv, first_conv])\n",
    "    ninth_conv = network_layers.convolutional_layer(ninth_layer, num_filters, dropout=True)\n",
    "\n",
    "    #output Layer\n",
    "    output = layers.Conv2D(1, kernel_size=(1, 1), activation='sigmoid')(ninth_conv)\n",
    "\n",
    "    unet = Model(inputs=inputs, outputs=output)\n",
    "\n",
    "    return unet"
   ],
   "id": "9c8f6e9976aee800",
   "outputs": [],
   "execution_count": 9
  },
  {
   "metadata": {
    "ExecuteTime": {
     "end_time": "2025-02-10T19:32:02.422416Z",
     "start_time": "2025-02-10T19:32:01.829549Z"
    }
   },
   "cell_type": "code",
   "source": "basic_unet_model = basic_unet(input_size=(256, 256, 3))",
   "id": "2403aaccc06ee8fb",
   "outputs": [],
   "execution_count": 11
  },
  {
   "cell_type": "code",
   "id": "16523713facf582f",
   "metadata": {
    "ExecuteTime": {
     "end_time": "2025-02-10T15:51:43.095237Z",
     "start_time": "2025-02-10T15:51:42.897379Z"
    }
   },
   "source": "basic_unet_model.summary()",
   "outputs": [
    {
     "name": "stdout",
     "output_type": "stream",
     "text": [
      "Model: \"model_4\"\n",
      "__________________________________________________________________________________________________\n",
      " Layer (type)                Output Shape                 Param #   Connected to                  \n",
      "==================================================================================================\n",
      " input_5 (InputLayer)        [(None, 256, 256, 3)]        0         []                            \n",
      "                                                                                                  \n",
      " conv2d_76 (Conv2D)          (None, 256, 256, 16)         448       ['input_5[0][0]']             \n",
      "                                                                                                  \n",
      " batch_normalization_72 (Ba  (None, 256, 256, 16)         64        ['conv2d_76[0][0]']           \n",
      " tchNormalization)                                                                                \n",
      "                                                                                                  \n",
      " activation_72 (Activation)  (None, 256, 256, 16)         0         ['batch_normalization_72[0][0]\n",
      "                                                                    ']                            \n",
      "                                                                                                  \n",
      " conv2d_77 (Conv2D)          (None, 256, 256, 16)         2320      ['activation_72[0][0]']       \n",
      "                                                                                                  \n",
      " batch_normalization_73 (Ba  (None, 256, 256, 16)         64        ['conv2d_77[0][0]']           \n",
      " tchNormalization)                                                                                \n",
      "                                                                                                  \n",
      " activation_73 (Activation)  (None, 256, 256, 16)         0         ['batch_normalization_73[0][0]\n",
      "                                                                    ']                            \n",
      "                                                                                                  \n",
      " max_pooling2d_16 (MaxPooli  (None, 128, 128, 16)         0         ['activation_73[0][0]']       \n",
      " ng2D)                                                                                            \n",
      "                                                                                                  \n",
      " conv2d_78 (Conv2D)          (None, 128, 128, 32)         4640      ['max_pooling2d_16[0][0]']    \n",
      "                                                                                                  \n",
      " batch_normalization_74 (Ba  (None, 128, 128, 32)         128       ['conv2d_78[0][0]']           \n",
      " tchNormalization)                                                                                \n",
      "                                                                                                  \n",
      " activation_74 (Activation)  (None, 128, 128, 32)         0         ['batch_normalization_74[0][0]\n",
      "                                                                    ']                            \n",
      "                                                                                                  \n",
      " conv2d_79 (Conv2D)          (None, 128, 128, 32)         9248      ['activation_74[0][0]']       \n",
      "                                                                                                  \n",
      " batch_normalization_75 (Ba  (None, 128, 128, 32)         128       ['conv2d_79[0][0]']           \n",
      " tchNormalization)                                                                                \n",
      "                                                                                                  \n",
      " activation_75 (Activation)  (None, 128, 128, 32)         0         ['batch_normalization_75[0][0]\n",
      "                                                                    ']                            \n",
      "                                                                                                  \n",
      " max_pooling2d_17 (MaxPooli  (None, 64, 64, 32)           0         ['activation_75[0][0]']       \n",
      " ng2D)                                                                                            \n",
      "                                                                                                  \n",
      " conv2d_80 (Conv2D)          (None, 64, 64, 64)           18496     ['max_pooling2d_17[0][0]']    \n",
      "                                                                                                  \n",
      " batch_normalization_76 (Ba  (None, 64, 64, 64)           256       ['conv2d_80[0][0]']           \n",
      " tchNormalization)                                                                                \n",
      "                                                                                                  \n",
      " activation_76 (Activation)  (None, 64, 64, 64)           0         ['batch_normalization_76[0][0]\n",
      "                                                                    ']                            \n",
      "                                                                                                  \n",
      " conv2d_81 (Conv2D)          (None, 64, 64, 64)           36928     ['activation_76[0][0]']       \n",
      "                                                                                                  \n",
      " batch_normalization_77 (Ba  (None, 64, 64, 64)           256       ['conv2d_81[0][0]']           \n",
      " tchNormalization)                                                                                \n",
      "                                                                                                  \n",
      " activation_77 (Activation)  (None, 64, 64, 64)           0         ['batch_normalization_77[0][0]\n",
      "                                                                    ']                            \n",
      "                                                                                                  \n",
      " max_pooling2d_18 (MaxPooli  (None, 32, 32, 64)           0         ['activation_77[0][0]']       \n",
      " ng2D)                                                                                            \n",
      "                                                                                                  \n",
      " conv2d_82 (Conv2D)          (None, 32, 32, 128)          73856     ['max_pooling2d_18[0][0]']    \n",
      "                                                                                                  \n",
      " batch_normalization_78 (Ba  (None, 32, 32, 128)          512       ['conv2d_82[0][0]']           \n",
      " tchNormalization)                                                                                \n",
      "                                                                                                  \n",
      " activation_78 (Activation)  (None, 32, 32, 128)          0         ['batch_normalization_78[0][0]\n",
      "                                                                    ']                            \n",
      "                                                                                                  \n",
      " conv2d_83 (Conv2D)          (None, 32, 32, 128)          147584    ['activation_78[0][0]']       \n",
      "                                                                                                  \n",
      " batch_normalization_79 (Ba  (None, 32, 32, 128)          512       ['conv2d_83[0][0]']           \n",
      " tchNormalization)                                                                                \n",
      "                                                                                                  \n",
      " activation_79 (Activation)  (None, 32, 32, 128)          0         ['batch_normalization_79[0][0]\n",
      "                                                                    ']                            \n",
      "                                                                                                  \n",
      " max_pooling2d_19 (MaxPooli  (None, 16, 16, 128)          0         ['activation_79[0][0]']       \n",
      " ng2D)                                                                                            \n",
      "                                                                                                  \n",
      " conv2d_84 (Conv2D)          (None, 16, 16, 256)          295168    ['max_pooling2d_19[0][0]']    \n",
      "                                                                                                  \n",
      " batch_normalization_80 (Ba  (None, 16, 16, 256)          1024      ['conv2d_84[0][0]']           \n",
      " tchNormalization)                                                                                \n",
      "                                                                                                  \n",
      " activation_80 (Activation)  (None, 16, 16, 256)          0         ['batch_normalization_80[0][0]\n",
      "                                                                    ']                            \n",
      "                                                                                                  \n",
      " conv2d_85 (Conv2D)          (None, 16, 16, 256)          590080    ['activation_80[0][0]']       \n",
      "                                                                                                  \n",
      " batch_normalization_81 (Ba  (None, 16, 16, 256)          1024      ['conv2d_85[0][0]']           \n",
      " tchNormalization)                                                                                \n",
      "                                                                                                  \n",
      " activation_81 (Activation)  (None, 16, 16, 256)          0         ['batch_normalization_81[0][0]\n",
      "                                                                    ']                            \n",
      "                                                                                                  \n",
      " up_sampling2d_16 (UpSampli  (None, 32, 32, 256)          0         ['activation_81[0][0]']       \n",
      " ng2D)                                                                                            \n",
      "                                                                                                  \n",
      " concatenate_16 (Concatenat  (None, 32, 32, 384)          0         ['up_sampling2d_16[0][0]',    \n",
      " e)                                                                  'activation_79[0][0]']       \n",
      "                                                                                                  \n",
      " conv2d_86 (Conv2D)          (None, 32, 32, 128)          442496    ['concatenate_16[0][0]']      \n",
      "                                                                                                  \n",
      " batch_normalization_82 (Ba  (None, 32, 32, 128)          512       ['conv2d_86[0][0]']           \n",
      " tchNormalization)                                                                                \n",
      "                                                                                                  \n",
      " activation_82 (Activation)  (None, 32, 32, 128)          0         ['batch_normalization_82[0][0]\n",
      "                                                                    ']                            \n",
      "                                                                                                  \n",
      " dropout_16 (Dropout)        (None, 32, 32, 128)          0         ['activation_82[0][0]']       \n",
      "                                                                                                  \n",
      " conv2d_87 (Conv2D)          (None, 32, 32, 128)          147584    ['dropout_16[0][0]']          \n",
      "                                                                                                  \n",
      " batch_normalization_83 (Ba  (None, 32, 32, 128)          512       ['conv2d_87[0][0]']           \n",
      " tchNormalization)                                                                                \n",
      "                                                                                                  \n",
      " activation_83 (Activation)  (None, 32, 32, 128)          0         ['batch_normalization_83[0][0]\n",
      "                                                                    ']                            \n",
      "                                                                                                  \n",
      " up_sampling2d_17 (UpSampli  (None, 64, 64, 128)          0         ['activation_83[0][0]']       \n",
      " ng2D)                                                                                            \n",
      "                                                                                                  \n",
      " concatenate_17 (Concatenat  (None, 64, 64, 192)          0         ['up_sampling2d_17[0][0]',    \n",
      " e)                                                                  'activation_77[0][0]']       \n",
      "                                                                                                  \n",
      " conv2d_88 (Conv2D)          (None, 64, 64, 64)           110656    ['concatenate_17[0][0]']      \n",
      "                                                                                                  \n",
      " batch_normalization_84 (Ba  (None, 64, 64, 64)           256       ['conv2d_88[0][0]']           \n",
      " tchNormalization)                                                                                \n",
      "                                                                                                  \n",
      " activation_84 (Activation)  (None, 64, 64, 64)           0         ['batch_normalization_84[0][0]\n",
      "                                                                    ']                            \n",
      "                                                                                                  \n",
      " dropout_17 (Dropout)        (None, 64, 64, 64)           0         ['activation_84[0][0]']       \n",
      "                                                                                                  \n",
      " conv2d_89 (Conv2D)          (None, 64, 64, 64)           36928     ['dropout_17[0][0]']          \n",
      "                                                                                                  \n",
      " batch_normalization_85 (Ba  (None, 64, 64, 64)           256       ['conv2d_89[0][0]']           \n",
      " tchNormalization)                                                                                \n",
      "                                                                                                  \n",
      " activation_85 (Activation)  (None, 64, 64, 64)           0         ['batch_normalization_85[0][0]\n",
      "                                                                    ']                            \n",
      "                                                                                                  \n",
      " up_sampling2d_18 (UpSampli  (None, 128, 128, 64)         0         ['activation_85[0][0]']       \n",
      " ng2D)                                                                                            \n",
      "                                                                                                  \n",
      " concatenate_18 (Concatenat  (None, 128, 128, 96)         0         ['up_sampling2d_18[0][0]',    \n",
      " e)                                                                  'activation_75[0][0]']       \n",
      "                                                                                                  \n",
      " conv2d_90 (Conv2D)          (None, 128, 128, 32)         27680     ['concatenate_18[0][0]']      \n",
      "                                                                                                  \n",
      " batch_normalization_86 (Ba  (None, 128, 128, 32)         128       ['conv2d_90[0][0]']           \n",
      " tchNormalization)                                                                                \n",
      "                                                                                                  \n",
      " activation_86 (Activation)  (None, 128, 128, 32)         0         ['batch_normalization_86[0][0]\n",
      "                                                                    ']                            \n",
      "                                                                                                  \n",
      " dropout_18 (Dropout)        (None, 128, 128, 32)         0         ['activation_86[0][0]']       \n",
      "                                                                                                  \n",
      " conv2d_91 (Conv2D)          (None, 128, 128, 32)         9248      ['dropout_18[0][0]']          \n",
      "                                                                                                  \n",
      " batch_normalization_87 (Ba  (None, 128, 128, 32)         128       ['conv2d_91[0][0]']           \n",
      " tchNormalization)                                                                                \n",
      "                                                                                                  \n",
      " activation_87 (Activation)  (None, 128, 128, 32)         0         ['batch_normalization_87[0][0]\n",
      "                                                                    ']                            \n",
      "                                                                                                  \n",
      " up_sampling2d_19 (UpSampli  (None, 256, 256, 32)         0         ['activation_87[0][0]']       \n",
      " ng2D)                                                                                            \n",
      "                                                                                                  \n",
      " concatenate_19 (Concatenat  (None, 256, 256, 48)         0         ['up_sampling2d_19[0][0]',    \n",
      " e)                                                                  'activation_73[0][0]']       \n",
      "                                                                                                  \n",
      " conv2d_92 (Conv2D)          (None, 256, 256, 16)         6928      ['concatenate_19[0][0]']      \n",
      "                                                                                                  \n",
      " batch_normalization_88 (Ba  (None, 256, 256, 16)         64        ['conv2d_92[0][0]']           \n",
      " tchNormalization)                                                                                \n",
      "                                                                                                  \n",
      " activation_88 (Activation)  (None, 256, 256, 16)         0         ['batch_normalization_88[0][0]\n",
      "                                                                    ']                            \n",
      "                                                                                                  \n",
      " dropout_19 (Dropout)        (None, 256, 256, 16)         0         ['activation_88[0][0]']       \n",
      "                                                                                                  \n",
      " conv2d_93 (Conv2D)          (None, 256, 256, 16)         2320      ['dropout_19[0][0]']          \n",
      "                                                                                                  \n",
      " batch_normalization_89 (Ba  (None, 256, 256, 16)         64        ['conv2d_93[0][0]']           \n",
      " tchNormalization)                                                                                \n",
      "                                                                                                  \n",
      " activation_89 (Activation)  (None, 256, 256, 16)         0         ['batch_normalization_89[0][0]\n",
      "                                                                    ']                            \n",
      "                                                                                                  \n",
      " conv2d_94 (Conv2D)          (None, 256, 256, 1)          17        ['activation_89[0][0]']       \n",
      "                                                                                                  \n",
      "==================================================================================================\n",
      "Total params: 1968513 (7.51 MB)\n",
      "Trainable params: 1965569 (7.50 MB)\n",
      "Non-trainable params: 2944 (11.50 KB)\n",
      "__________________________________________________________________________________________________\n"
     ]
    }
   ],
   "execution_count": 49
  },
  {
   "metadata": {},
   "cell_type": "markdown",
   "source": "### Fit on the breast cancer dataset",
   "id": "d4451a25ba22c392"
  },
  {
   "metadata": {
    "ExecuteTime": {
     "end_time": "2025-02-10T17:33:19.521301Z",
     "start_time": "2025-02-10T16:47:57.592613Z"
    }
   },
   "cell_type": "code",
   "source": [
    "from tensorflow.keras.callbacks import EarlyStopping, ReduceLROnPlateau\n",
    "import time\n",
    "\n",
    "dice_scores = []\n",
    "iou_scores = []\n",
    "precision_scores = []\n",
    "recall_scores = []\n",
    "accuracy_scores = []\n",
    "training_times = []\n",
    "\n",
    "num_experiments = 5\n",
    "input_size = (256, 256, 3)\n",
    "\n",
    "best_dice = 0.0\n",
    "\n",
    "for i in range(num_experiments):\n",
    "    print(f\"Training experiment {i+1}/{num_experiments}\")\n",
    "\n",
    "    basic_unet_model = basic_unet(input_size)\n",
    "\n",
    "    optimizer = tf.keras.optimizers.Adam(learning_rate=1e-3)\n",
    "\n",
    "    basic_unet_model.compile(optimizer=optimizer,\n",
    "                       loss=utils.tversky_loss,\n",
    "                       metrics=[utils.dice_coefficient, utils.iou, \"accuracy\", tf.keras.metrics.Precision(name=\"precision_metric\"), tf.keras.metrics.Recall(name=\"recall_metric\")])\n",
    "\n",
    "    callbacks = [\n",
    "        EarlyStopping(monitor='val_dice_coefficient', patience=13, restore_best_weights=True, mode='max', verbose=0),\n",
    "        ReduceLROnPlateau(monitor='val_dice_coefficient', factor=0.1, patience=7, min_lr=1e-6, mode='max', verbose=0)\n",
    "    ]\n",
    "\n",
    "    start_time = time.time()\n",
    "\n",
    "    history = basic_unet_model.fit(train_dataset_breast, validation_data=val_dataset_breast, epochs=200, callbacks=callbacks, verbose=0)\n",
    "\n",
    "    elapsed_time = time.time() - start_time\n",
    "    training_times.append(elapsed_time)\n",
    "    print(f\"Training Time for Experiment {i+1}: {elapsed_time:.2f} seconds\")\n",
    "\n",
    "    #select best epoch in terms of dice\n",
    "    best_epoch_index = np.argmax(history.history['val_dice_coefficient'])\n",
    "\n",
    "    #get the metrics for that epoch\n",
    "    final_dice = history.history['val_dice_coefficient'][best_epoch_index]\n",
    "    final_iou = history.history['val_iou'][best_epoch_index]\n",
    "    final_precision = history.history['val_precision_metric'][best_epoch_index]\n",
    "    final_recall = history.history['val_recall_metric'][best_epoch_index]\n",
    "    final_accuracy = history.history['val_accuracy'][best_epoch_index]\n",
    "\n",
    "    #store the results\n",
    "    dice_scores.append(final_dice)\n",
    "    iou_scores.append(final_iou)\n",
    "    precision_scores.append(final_precision)\n",
    "    recall_scores.append(final_recall)\n",
    "    accuracy_scores.append(final_accuracy)\n",
    "\n",
    "    print(f\"Dice Coefficient: {final_dice}\", f\"IoU: {final_iou}\", f\"Precision: {final_precision}\", f\"Recall: {final_recall}\", f\"Accuracy: {final_accuracy}\")\n",
    "\n",
    "    #save best model based on Dice score\n",
    "    if final_dice > best_dice:\n",
    "        best_dice = final_dice\n",
    "        best_model = basic_unet_model\n",
    "        basic_unet_model.save(\"best_basic_unet_breast.h5\")\n",
    "        print(f\"New best model saved\")\n",
    "\n",
    "#compute mean ± std\n",
    "dice_mean, dice_std = np.mean(dice_scores), np.std(dice_scores)\n",
    "iou_mean, iou_std = np.mean(iou_scores), np.std(iou_scores)\n",
    "precision_mean, precision_std = np.mean(precision_scores), np.std(precision_scores)\n",
    "recall_mean, recall_std = np.mean(recall_scores), np.std(recall_scores)\n",
    "accuracy_mean, accuracy_std = np.mean(accuracy_scores), np.std(accuracy_scores)\n",
    "time_mean, time_std = np.mean(training_times), np.std(training_times)\n",
    "\n",
    "print(\"Final Results (Across All Runs):\")\n",
    "print(f\"Dice Score: {dice_mean:.2f} ± {dice_std:.2f}\")\n",
    "print(f\"IoU Score: {iou_mean:.2f} ± {iou_std:.2f}\")\n",
    "print(f\"Precision Score: {precision_mean:.2f} ± {precision_std:.2f}\")\n",
    "print(f\"Recall Score: {recall_mean:.2f} ± {recall_std:.2f}\")\n",
    "print(f\"Accuracy Score: {accuracy_mean:.2f} ± {accuracy_std:.2f}\")\n",
    "print(f\"Training Time: {time_mean:.2f} ± {time_std:.2f} seconds\")\n",
    "print(f\"Best Model Dice Score: {best_dice:.4f} (Saved as 'best_basic_unet_breast.h5')\")"
   ],
   "id": "5aebacf029ab01be",
   "outputs": [
    {
     "name": "stdout",
     "output_type": "stream",
     "text": [
      "Training experiment 1/5\n"
     ]
    },
    {
     "name": "stderr",
     "output_type": "stream",
     "text": [
      "WARNING: All log messages before absl::InitializeLog() is called are written to STDERR\n",
      "I0000 00:00:1739206088.044717   13172 device_compiler.h:186] Compiled cluster using XLA!  This line is logged at most once for the lifetime of the process.\n"
     ]
    },
    {
     "name": "stdout",
     "output_type": "stream",
     "text": [
      "Training Time for Experiment 1: 531.84 seconds\n",
      "Dice Coefficient: 0.6548338532447815 IoU: 0.4918386936187744 Precision: 0.7747526168823242 Recall: 0.5674335956573486 Accuracy: 0.9474079012870789\n"
     ]
    },
    {
     "name": "stderr",
     "output_type": "stream",
     "text": [
      "/usr/local/lib/python3.11/dist-packages/keras/src/engine/training.py:3103: UserWarning: You are saving your model as an HDF5 file via `model.save()`. This file format is considered legacy. We recommend using instead the native Keras format, e.g. `model.save('my_model.keras')`.\n",
      "  saving_api.save_model(\n"
     ]
    },
    {
     "name": "stdout",
     "output_type": "stream",
     "text": [
      "New best model saved\n",
      "Training experiment 2/5\n",
      "Training Time for Experiment 2: 469.85 seconds\n",
      "Dice Coefficient: 0.6520519256591797 IoU: 0.4910610318183899 Precision: 0.6611234545707703 Recall: 0.6550527215003967 Accuracy: 0.9398903250694275\n",
      "Training experiment 3/5\n",
      "Training Time for Experiment 3: 479.73 seconds\n",
      "Dice Coefficient: 0.620977520942688 IoU: 0.46521350741386414 Precision: 0.8030006885528564 Recall: 0.49386581778526306 Accuracy: 0.9448577165603638\n",
      "Training experiment 4/5\n",
      "Training Time for Experiment 4: 662.29 seconds\n",
      "Dice Coefficient: 0.6791243553161621 IoU: 0.5214102864265442 Precision: 0.6788145303726196 Recall: 0.6943897008895874 Accuracy: 0.9438549876213074\n",
      "New best model saved\n",
      "Training experiment 5/5\n",
      "Training Time for Experiment 5: 574.69 seconds\n",
      "Dice Coefficient: 0.6185857057571411 IoU: 0.46567094326019287 Precision: 0.7382568120956421 Recall: 0.6009658575057983 Accuracy: 0.9461842775344849\n",
      "Final Results (Across All Runs):\n",
      "Dice Score: 0.65 ± 0.02\n",
      "IoU Score: 0.49 ± 0.02\n",
      "Precision Score: 0.73 ± 0.05\n",
      "Recall Score: 0.60 ± 0.07\n",
      "Accuracy Score: 0.94 ± 0.00\n",
      "Training Time: 543.68 ± 70.30 seconds\n",
      "Best Model Dice Score: 0.6791 (Saved as 'best_basic_unet_breast.h5')\n"
     ]
    }
   ],
   "execution_count": 11
  },
  {
   "metadata": {},
   "cell_type": "markdown",
   "source": "### Fit on the skin cancer dataset",
   "id": "bf67612c27c5a745"
  },
  {
   "metadata": {
    "ExecuteTime": {
     "end_time": "2025-02-10T23:59:02.712466Z",
     "start_time": "2025-02-10T19:35:14.816666Z"
    }
   },
   "cell_type": "code",
   "source": [
    "dice_scores = []\n",
    "iou_scores = []\n",
    "precision_scores = []\n",
    "recall_scores = []\n",
    "accuracy_scores = []\n",
    "training_times = []\n",
    "\n",
    "num_experiments = 5\n",
    "input_size = (256, 256, 3)\n",
    "\n",
    "best_dice = 0.0\n",
    "\n",
    "for i in range(num_experiments):\n",
    "    print(f\"Training experiment {i+1}/{num_experiments}\")\n",
    "\n",
    "    basic_unet_model = basic_unet(input_size)\n",
    "\n",
    "    optimizer = tf.keras.optimizers.Adam(learning_rate=1e-3)\n",
    "\n",
    "    basic_unet_model.compile(optimizer=optimizer,\n",
    "                       loss=utils.tversky_loss,\n",
    "                       metrics=[utils.dice_coefficient, utils.iou, \"accuracy\", tf.keras.metrics.Precision(name=\"precision_metric\"), tf.keras.metrics.Recall(name=\"recall_metric\")])\n",
    "\n",
    "    callbacks = [\n",
    "        EarlyStopping(monitor='val_dice_coefficient', patience=13, restore_best_weights=True, mode='max', verbose=0),\n",
    "        ReduceLROnPlateau(monitor='val_dice_coefficient', factor=0.1, patience=7, min_lr=1e-6, mode='max', verbose=0)\n",
    "    ]\n",
    "\n",
    "    start_time = time.time()\n",
    "\n",
    "    history = basic_unet_model.fit(train_dataset_skin, validation_data=val_dataset_skin, epochs=100, callbacks=callbacks, verbose=0)\n",
    "\n",
    "    elapsed_time = time.time() - start_time\n",
    "    training_times.append(elapsed_time)\n",
    "    print(f\"Training Time for Experiment {i+1}: {elapsed_time:.2f} seconds\")\n",
    "\n",
    "    #select best epoch in terms of dice\n",
    "    best_epoch_index = np.argmax(history.history['val_dice_coefficient'])\n",
    "\n",
    "    #get the metrics for that epoch\n",
    "    final_dice = history.history['val_dice_coefficient'][best_epoch_index]\n",
    "    final_iou = history.history['val_iou'][best_epoch_index]\n",
    "    final_precision = history.history['val_precision_metric'][best_epoch_index]\n",
    "    final_recall = history.history['val_recall_metric'][best_epoch_index]\n",
    "    final_accuracy = history.history['val_accuracy'][best_epoch_index]\n",
    "\n",
    "    #store the results\n",
    "    dice_scores.append(final_dice)\n",
    "    iou_scores.append(final_iou)\n",
    "    precision_scores.append(final_precision)\n",
    "    recall_scores.append(final_recall)\n",
    "    accuracy_scores.append(final_accuracy)\n",
    "\n",
    "    print(f\"Dice Coefficient: {final_dice}\", f\"IoU: {final_iou}\", f\"Precision: {final_precision}\", f\"Recall: {final_recall}\", f\"Accuracy: {final_accuracy}\")\n",
    "\n",
    "    #save best model based on Dice score\n",
    "    if final_dice > best_dice:\n",
    "        best_dice = final_dice\n",
    "        best_model = basic_unet_model\n",
    "        basic_unet_model.save(\"best_basic_unet_skin.h5\")\n",
    "        print(f\"New best model saved\")\n",
    "\n",
    "#compute mean ± std\n",
    "dice_mean, dice_std = np.mean(dice_scores), np.std(dice_scores)\n",
    "iou_mean, iou_std = np.mean(iou_scores), np.std(iou_scores)\n",
    "precision_mean, precision_std = np.mean(precision_scores), np.std(precision_scores)\n",
    "recall_mean, recall_std = np.mean(recall_scores), np.std(recall_scores)\n",
    "accuracy_mean, accuracy_std = np.mean(accuracy_scores), np.std(accuracy_scores)\n",
    "time_mean, time_std = np.mean(training_times), np.std(training_times)\n",
    "\n",
    "print(\"Final Results (Across All Runs):\")\n",
    "print(f\"Dice Score: {dice_mean:.2f} ± {dice_std:.2f}\")\n",
    "print(f\"IoU Score: {iou_mean:.2f} ± {iou_std:.2f}\")\n",
    "print(f\"Precision Score: {precision_mean:.2f} ± {precision_std:.2f}\")\n",
    "print(f\"Recall Score: {recall_mean:.2f} ± {recall_std:.2f}\")\n",
    "print(f\"Accuracy Score: {accuracy_mean:.2f} ± {accuracy_std:.2f}\")\n",
    "print(f\"Training Time: {time_mean:.2f} ± {time_std:.2f} seconds\")\n",
    "print(f\"Best Model Dice Score: {best_dice:.4f} (Saved as 'best_basic_unet_skin.h5')\")"
   ],
   "id": "2a4c391b7c09e37a",
   "outputs": [
    {
     "name": "stdout",
     "output_type": "stream",
     "text": [
      "Training experiment 1/5\n"
     ]
    },
    {
     "name": "stderr",
     "output_type": "stream",
     "text": [
      "WARNING: All log messages before absl::InitializeLog() is called are written to STDERR\n",
      "I0000 00:00:1739216157.929650   67716 device_compiler.h:186] Compiled cluster using XLA!  This line is logged at most once for the lifetime of the process.\n"
     ]
    },
    {
     "name": "stdout",
     "output_type": "stream",
     "text": [
      "Training Time for Experiment 1: 4177.42 seconds\n",
      "Dice Coefficient: 0.8062329292297363 IoU: 0.6888327598571777 Precision: 0.8457568883895874 Recall: 0.7645635604858398 Accuracy: 0.9347679615020752\n"
     ]
    },
    {
     "name": "stderr",
     "output_type": "stream",
     "text": [
      "/usr/local/lib/python3.11/dist-packages/keras/src/engine/training.py:3103: UserWarning: You are saving your model as an HDF5 file via `model.save()`. This file format is considered legacy. We recommend using instead the native Keras format, e.g. `model.save('my_model.keras')`.\n",
      "  saving_api.save_model(\n"
     ]
    },
    {
     "name": "stdout",
     "output_type": "stream",
     "text": [
      "New best model saved\n",
      "Training experiment 2/5\n",
      "Training Time for Experiment 2: 3047.23 seconds\n",
      "Dice Coefficient: 0.8003872036933899 IoU: 0.6808502674102783 Precision: 0.8690135478973389 Recall: 0.7317819595336914 Accuracy: 0.9341546893119812\n",
      "Training experiment 3/5\n",
      "Training Time for Experiment 3: 3398.36 seconds\n",
      "Dice Coefficient: 0.8085063099861145 IoU: 0.6897390484809875 Precision: 0.8151325583457947 Recall: 0.7911481857299805 Accuracy: 0.9324297308921814\n",
      "New best model saved\n",
      "Training experiment 4/5\n",
      "Training Time for Experiment 4: 2110.97 seconds\n",
      "Dice Coefficient: 0.8031582236289978 IoU: 0.683013379573822 Precision: 0.871999979019165 Recall: 0.7349418997764587 Accuracy: 0.9351145625114441\n",
      "Training experiment 5/5\n",
      "Training Time for Experiment 5: 3089.87 seconds\n",
      "Dice Coefficient: 0.8199000358581543 IoU: 0.7030164003372192 Precision: 0.8204318881034851 Recall: 0.8265302181243896 Accuracy: 0.9383232593536377\n",
      "New best model saved\n",
      "Final Results (Across All Runs):\n",
      "Dice Score: 0.81 ± 0.01\n",
      "IoU Score: 0.69 ± 0.01\n",
      "Precision Score: 0.84 ± 0.02\n",
      "Recall Score: 0.77 ± 0.04\n",
      "Accuracy Score: 0.93 ± 0.00\n",
      "Training Time: 3164.77 ± 664.82 seconds\n",
      "Best Model Dice Score: 0.8199 (Saved as 'best_basic_unet_skin.h5')\n"
     ]
    }
   ],
   "execution_count": 13
  },
  {
   "metadata": {},
   "cell_type": "markdown",
   "source": "### Fit on the brain cancer dataset",
   "id": "b529626f72198a8c"
  },
  {
   "metadata": {
    "ExecuteTime": {
     "end_time": "2025-02-11T13:43:17.231361Z",
     "start_time": "2025-02-11T10:13:29.782647Z"
    }
   },
   "cell_type": "code",
   "source": [
    "dice_scores = []\n",
    "iou_scores = []\n",
    "precision_scores = []\n",
    "recall_scores = []\n",
    "accuracy_scores = []\n",
    "training_times = []\n",
    "\n",
    "num_experiments = 5\n",
    "input_size = (256, 256, 3)\n",
    "\n",
    "best_dice = 0.0\n",
    "\n",
    "for i in range(num_experiments):\n",
    "    print(f\"Training experiment {i+1}/{num_experiments}\")\n",
    "\n",
    "    basic_unet_model = basic_unet(input_size)\n",
    "\n",
    "    optimizer = tf.keras.optimizers.Adam(learning_rate=1e-3)\n",
    "\n",
    "    basic_unet_model.compile(optimizer=optimizer,\n",
    "                       loss=utils.tversky_loss,\n",
    "                       metrics=[utils.dice_coefficient, utils.iou, \"accuracy\", tf.keras.metrics.Precision(name=\"precision_metric\"), tf.keras.metrics.Recall(name=\"recall_metric\")])\n",
    "\n",
    "    callbacks = [\n",
    "        EarlyStopping(monitor='val_dice_coefficient', patience=13, restore_best_weights=True, mode='max', verbose=0),\n",
    "        ReduceLROnPlateau(monitor='val_dice_coefficient', factor=0.1, patience=7, min_lr=1e-6, mode='max', verbose=0)\n",
    "    ]\n",
    "\n",
    "    start_time = time.time()\n",
    "\n",
    "    history = basic_unet_model.fit(train_dataset_brain, validation_data=val_dataset_brain, epochs=200, callbacks=callbacks, verbose=0)\n",
    "\n",
    "    elapsed_time = time.time() - start_time\n",
    "    training_times.append(elapsed_time)\n",
    "    print(f\"Training Time for Experiment {i+1}: {elapsed_time:.2f} seconds\")\n",
    "\n",
    "    #select best epoch in terms of dice\n",
    "    best_epoch_index = np.argmax(history.history['val_dice_coefficient'])\n",
    "\n",
    "    #get the metrics for that epoch\n",
    "    final_dice = history.history['val_dice_coefficient'][best_epoch_index]\n",
    "    final_iou = history.history['val_iou'][best_epoch_index]\n",
    "    final_precision = history.history['val_precision_metric'][best_epoch_index]\n",
    "    final_recall = history.history['val_recall_metric'][best_epoch_index]\n",
    "    final_accuracy = history.history['val_accuracy'][best_epoch_index]\n",
    "\n",
    "    #store the results\n",
    "    dice_scores.append(final_dice)\n",
    "    iou_scores.append(final_iou)\n",
    "    precision_scores.append(final_precision)\n",
    "    recall_scores.append(final_recall)\n",
    "    accuracy_scores.append(final_accuracy)\n",
    "\n",
    "    print(f\"Dice Coefficient: {final_dice}\", f\"IoU: {final_iou}\", f\"Precision: {final_precision}\", f\"Recall: {final_recall}\", f\"Accuracy: {final_accuracy}\")\n",
    "\n",
    "    #save best model based on Dice score\n",
    "    if final_dice > best_dice:\n",
    "        best_dice = final_dice\n",
    "        best_model = basic_unet_model\n",
    "        basic_unet_model.save(\"best_basic_unet_brain.h5\")\n",
    "        print(f\"New best model saved\")\n",
    "\n",
    "#compute mean ± std\n",
    "dice_mean, dice_std = np.mean(dice_scores), np.std(dice_scores)\n",
    "iou_mean, iou_std = np.mean(iou_scores), np.std(iou_scores)\n",
    "precision_mean, precision_std = np.mean(precision_scores), np.std(precision_scores)\n",
    "recall_mean, recall_std = np.mean(recall_scores), np.std(recall_scores)\n",
    "accuracy_mean, accuracy_std = np.mean(accuracy_scores), np.std(accuracy_scores)\n",
    "time_mean, time_std = np.mean(training_times), np.std(training_times)\n",
    "\n",
    "print(\"Final Results (Across All Runs):\")\n",
    "print(f\"Dice Score: {dice_mean:.2f} ± {dice_std:.2f}\")\n",
    "print(f\"IoU Score: {iou_mean:.2f} ± {iou_std:.2f}\")\n",
    "print(f\"Precision Score: {precision_mean:.2f} ± {precision_std:.2f}\")\n",
    "print(f\"Recall Score: {recall_mean:.2f} ± {recall_std:.2f}\")\n",
    "print(f\"Accuracy Score: {accuracy_mean:.2f} ± {accuracy_std:.2f}\")\n",
    "print(f\"Training Time: {time_mean:.2f} ± {time_std:.2f} seconds\")\n",
    "print(f\"Best Model Dice Score: {best_dice:.4f} (Saved as 'best_basic_unet_skin.h5')\")"
   ],
   "id": "1ceca46046f57ac2",
   "outputs": [
    {
     "name": "stdout",
     "output_type": "stream",
     "text": [
      "Training experiment 1/5\n"
     ]
    },
    {
     "name": "stderr",
     "output_type": "stream",
     "text": [
      "WARNING: All log messages before absl::InitializeLog() is called are written to STDERR\n",
      "I0000 00:00:1739268826.474436   97553 device_compiler.h:186] Compiled cluster using XLA!  This line is logged at most once for the lifetime of the process.\n"
     ]
    },
    {
     "name": "stdout",
     "output_type": "stream",
     "text": [
      "Training Time for Experiment 1: 2871.05 seconds\n",
      "Dice Coefficient: 0.7269467711448669 IoU: 0.5829787254333496 Precision: 0.7903299331665039 Recall: 0.6928909420967102 Accuracy: 0.991180956363678\n"
     ]
    },
    {
     "name": "stderr",
     "output_type": "stream",
     "text": [
      "/usr/local/lib/python3.11/dist-packages/keras/src/engine/training.py:3103: UserWarning: You are saving your model as an HDF5 file via `model.save()`. This file format is considered legacy. We recommend using instead the native Keras format, e.g. `model.save('my_model.keras')`.\n",
      "  saving_api.save_model(\n"
     ]
    },
    {
     "name": "stdout",
     "output_type": "stream",
     "text": [
      "New best model saved\n",
      "Training experiment 2/5\n",
      "Training Time for Experiment 2: 3372.29 seconds\n",
      "Dice Coefficient: 0.7324671745300293 IoU: 0.5881706476211548 Precision: 0.8160882592201233 Recall: 0.6831697225570679 Accuracy: 0.9915364980697632\n",
      "New best model saved\n",
      "Training experiment 3/5\n",
      "Training Time for Experiment 3: 2615.89 seconds\n",
      "Dice Coefficient: 0.7202432155609131 IoU: 0.5721774101257324 Precision: 0.7991493344306946 Recall: 0.67440265417099 Accuracy: 0.991107702255249\n",
      "Training experiment 4/5\n",
      "Training Time for Experiment 4: 2145.10 seconds\n",
      "Dice Coefficient: 0.7274065613746643 IoU: 0.5814776420593262 Precision: 0.7575132846832275 Recall: 0.7201462984085083 Accuracy: 0.9907771348953247\n",
      "Training experiment 5/5\n",
      "Training Time for Experiment 5: 1578.53 seconds\n",
      "Dice Coefficient: 0.7297810912132263 IoU: 0.5844861268997192 Precision: 0.7310348153114319 Recall: 0.7534513473510742 Accuracy: 0.9905228018760681\n",
      "Final Results (Across All Runs):\n",
      "Dice Score: 0.73 ± 0.00\n",
      "IoU Score: 0.58 ± 0.01\n",
      "Precision Score: 0.78 ± 0.03\n",
      "Recall Score: 0.70 ± 0.03\n",
      "Accuracy Score: 0.99 ± 0.00\n",
      "Training Time: 2516.57 ± 614.12 seconds\n",
      "Best Model Dice Score: 0.7325 (Saved as 'best_basic_unet_skin.h5')\n"
     ]
    }
   ],
   "execution_count": 11
  },
  {
   "metadata": {
    "ExecuteTime": {
     "end_time": "2025-02-11T15:33:50.998242Z",
     "start_time": "2025-02-11T15:33:50.242905Z"
    }
   },
   "cell_type": "code",
   "source": [
    "plt.figure(figsize=(20, 5))\n",
    "plt.subplot(1, 4, 1)\n",
    "plt.plot(history.history['loss'], label='Train Loss')\n",
    "plt.plot(history.history['val_loss'], label='Validation Loss')\n",
    "plt.xlabel('Epochs')\n",
    "plt.ylabel('Loss')\n",
    "plt.title('Loss Curve')\n",
    "plt.legend()\n",
    "\n",
    "plt.subplot(1, 4, 2)\n",
    "plt.plot(history.history['accuracy'], label='Train Accuracy')\n",
    "plt.plot(history.history['val_accuracy'], label='Validation Accuracy')\n",
    "plt.xlabel('Epochs')\n",
    "plt.ylabel('Accuracy')\n",
    "plt.title('Accuracy Curve')\n",
    "plt.legend()\n",
    "\n",
    "plt.subplot(1, 4, 3)\n",
    "plt.plot(history.history['dice_coefficient'], label='Train Dice')\n",
    "plt.plot(history.history['val_dice_coefficient'], label='Validation Dice')\n",
    "plt.xlabel('Epochs')\n",
    "plt.ylabel('Dice Coefficient')\n",
    "plt.title('Dice Coefficient Curve')\n",
    "plt.legend()\n",
    "\n",
    "plt.subplot(1, 4, 4)\n",
    "plt.plot(history.history['iou'], label='Train IoU')\n",
    "plt.plot(history.history['val_iou'], label='Validation IoU')\n",
    "plt.xlabel('Epochs')\n",
    "plt.ylabel('IoU Score')\n",
    "plt.title('IoU Curve')\n",
    "plt.legend()\n",
    "\n",
    "plt.show()"
   ],
   "id": "f171870820a61865",
   "outputs": [
    {
     "data": {
      "text/plain": [
       "<Figure size 2000x500 with 4 Axes>"
      ],
      "image/png": "[encoded data removed]"
     },
     "metadata": {},
     "output_type": "display_data"
    }
   ],
   "execution_count": 15
  }
 ],
 "metadata": {
  "kernelspec": {
   "display_name": "Python 3 (ipykernel)",
   "language": "python",
   "name": "python3"
  },
  "language_info": {
   "codemirror_mode": {
    "name": "ipython",
    "version": 3
   },
   "file_extension": ".py",
   "mimetype": "text/x-python",
   "name": "python",
   "nbconvert_exporter": "python",
   "pygments_lexer": "ipython3",
   "version": "3.11.0rc1"
  }
 },
 "nbformat": 4,
 "nbformat_minor": 5
}
