{
 "cells": [
  {
   "cell_type": "code",
   "id": "initial_id",
   "metadata": {
    "collapsed": true,
    "ExecuteTime": {
     "end_time": "2025-01-06T18:21:37.307060Z",
     "start_time": "2025-01-06T18:21:30.743186Z"
    }
   },
   "source": [
    "import tensorflow as tf\n",
    "import matplotlib.pyplot as plt\n",
    "import numpy as np\n",
    "import os, time\n",
    "import random\n",
    "import cv2"
   ],
   "outputs": [],
   "execution_count": 1
  },
  {
   "metadata": {
    "ExecuteTime": {
     "end_time": "2025-01-06T18:29:34.767716Z",
     "start_time": "2025-01-06T18:29:34.073611Z"
    }
   },
   "cell_type": "code",
   "source": [
    "train_data = np.load(r\"train_data.npy\")\n",
    "val_data = np.load(r\"val_data.npy\")\n",
    "test_data = np.load(r\"test_data.npy\")"
   ],
   "id": "2895873a4fe125f4",
   "outputs": [],
   "execution_count": 3
  }
 ],
 "metadata": {
  "kernelspec": {
   "display_name": "Python 3",
   "language": "python",
   "name": "python3"
  },
  "language_info": {
   "codemirror_mode": {
    "name": "ipython",
    "version": 2
   },
   "file_extension": ".py",
   "mimetype": "text/x-python",
   "name": "python",
   "nbconvert_exporter": "python",
   "pygments_lexer": "ipython2",
   "version": "2.7.6"
  }
 },
 "nbformat": 4,
 "nbformat_minor": 5
}
