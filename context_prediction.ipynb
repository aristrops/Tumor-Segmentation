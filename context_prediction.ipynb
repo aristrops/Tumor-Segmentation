{
 "cells": [
  {
   "cell_type": "code",
   "id": "initial_id",
   "metadata": {
    "collapsed": true,
    "ExecuteTime": {
     "end_time": "2025-01-07T16:27:23.116506Z",
     "start_time": "2025-01-07T16:27:14.119563Z"
    }
   },
   "source": [
    "import tensorflow as tf\n",
    "import matplotlib.pyplot as plt\n",
    "import numpy as np\n",
    "import os, time, random\n",
    "import random\n",
    "import cv2"
   ],
   "outputs": [],
   "execution_count": 2
  },
  {
   "metadata": {
    "ExecuteTime": {
     "end_time": "2025-01-07T16:27:25.406068Z",
     "start_time": "2025-01-07T16:27:24.138210Z"
    }
   },
   "cell_type": "code",
   "source": [
    "train_data = np.load(r\"train_data.npy\")\n",
    "val_data = np.load(r\"val_data.npy\")\n",
    "test_data = np.load(r\"test_data.npy\")"
   ],
   "id": "2895873a4fe125f4",
   "outputs": [],
   "execution_count": 3
  },
  {
   "metadata": {
    "ExecuteTime": {
     "end_time": "2025-01-07T16:27:27.137578Z",
     "start_time": "2025-01-07T16:27:27.121930Z"
    }
   },
   "cell_type": "code",
   "source": "train_data.shape",
   "id": "bc8ed7433b2e4847",
   "outputs": [
    {
     "data": {
      "text/plain": [
       "(100000, 64, 64, 3)"
      ]
     },
     "execution_count": 4,
     "metadata": {},
     "output_type": "execute_result"
    }
   ],
   "execution_count": 4
  },
  {
   "metadata": {},
   "cell_type": "markdown",
   "source": "### Create patches and preprocess them",
   "id": "70684802f93caa70"
  },
  {
   "metadata": {},
   "cell_type": "markdown",
   "source": "Our images are of size 64x64, so we have to choose an appropriate size for the patch. We maintain pretty much the same number of patches within a single images (roughly around 32 in the original paper) by choosing 12x12 patches. We allow for a gap of around half the size of the patch and we jitter the location of the patch by -2 to 2 pixels in each direction.",
   "id": "c33c9ef54f603876"
  },
  {
   "metadata": {
    "ExecuteTime": {
     "end_time": "2025-01-07T17:01:09.020301Z",
     "start_time": "2025-01-07T17:01:08.988343Z"
    }
   },
   "cell_type": "code",
   "source": [
    "def sample_patch(x, y, grid_start_x, grid_start_y, patch_size, gap_size, jitter_size, image_size):\n",
    "\n",
    "    #initial position of the patch\n",
    "    x_start = grid_start_x + x * (patch_size[1] + gap_size) + random.randint(-jitter_size, jitter_size)\n",
    "    y_start = grid_start_y + y * (patch_size[0] + gap_size) + random.randint(-jitter_size, jitter_size)\n",
    "\n",
    "    #ensure the patch stays inside image boundaries\n",
    "    x_start_2 = min(max(x_start, 0), image_size[1] - patch_size[1])\n",
    "    y_start_2 = min(max(y_start, 0), image_size[0] - patch_size[0])\n",
    "\n",
    "    #return the coordinates of the upper-left corner\n",
    "    return (x_start_2, y_start_2)"
   ],
   "id": "befbbaf0adfc86bc",
   "outputs": [],
   "execution_count": 5
  },
  {
   "metadata": {
    "ExecuteTime": {
     "end_time": "2025-01-07T17:28:26.826163Z",
     "start_time": "2025-01-07T17:28:26.794230Z"
    }
   },
   "cell_type": "code",
   "source": [
    "def preprocess_patch(patch):\n",
    "    #randomly drop all but one color channel\n",
    "    kept_channel = random.randint(0, 2)\n",
    "\n",
    "    mean = [123.68, 116.779, 103.939]\n",
    "\n",
    "    for i in range(0, 3):\n",
    "        if i == kept_channel:\n",
    "            patch[:,:,i] -= np.mean(patch[:,:,i])\n",
    "        else:\n",
    "            patch[:,:,i] = np.random.uniform(0, 1, (patch.shape[0], patch.shape[1])) - 0.5\n",
    "\n",
    "    #normalize mean and variance\n",
    "    patch = patch/np.sqrt(np.mean(patch**2))*50\n",
    "\n",
    "    return patch"
   ],
   "id": "44a0665265a98985",
   "outputs": [],
   "execution_count": 1
  },
  {
   "metadata": {},
   "cell_type": "code",
   "outputs": [],
   "execution_count": null,
   "source": [
    "patch_size = (12, 12)\n",
    "gap_size = 6\n",
    "jitter_size = 2\n",
    "batch_size = 128 #maximum number of patches in a single batch"
   ],
   "id": "c8dbf3468ac94bda"
  },
  {
   "metadata": {},
   "cell_type": "code",
   "outputs": [],
   "execution_count": null,
   "source": [
    "#load images, extract a pair of patches and put them into a batch\n",
    "def image_loader(data_q, batch_size, images, seed, patch_size):\n",
    "    num_batches = 0\n",
    "    curr_idx = 0\n",
    "\n",
    "    #randomly permute the dataset\n",
    "    np.random.seed(seed)\n",
    "    ordered_imgs = np.random.permutation(len(images))\n",
    "\n",
    "    #sample grids per image\n",
    "    num_grids = 4\n",
    "    grids_left = 0\n",
    "\n",
    "    #store in a single batch\n",
    "    perm = []\n",
    "    label = []\n",
    "    patches = []\n",
    "\n",
    "    j = 0 #index of the current patch\n",
    "    while True: #loop until stopped\n",
    "        if grids_left == 0:\n",
    "          while True:\n",
    "            image = ordered_imgs[curr_idx%len(ordered_imgs)]\n",
    "            curr_idx = (curr_idx + 1) % (len(ordered_imgs)) #cycle back to the beginning of the dataset\n",
    "          grids_left = num_grids #reset number of grids left to compute\n",
    "\n",
    "        #compute where a grid starts and its size\n",
    "        grid_start_x = random.randint(0, patch_size[1] + gap_size - 1)\n",
    "        grid_start_y = random.randint(0, patch_size[0] + gap_size - 1)\n",
    "        grid_size_x = int(image.shape[1] + gap - grid_start_x)/(patch_size[1] + gap_size)\n",
    "        grid_size_y = int(image.shape[0] + gap - grid_start_y)/(patch_size[0] + gap_size)\n",
    "\n",
    "        grid = np.zeros((grid_size_x, grid_size_y), int) #to store the index of the patch\n",
    "\n",
    "        #put the batch in the queue when we reach the batch size\n",
    "        if (grid_size_x * grid_size_y + j) >= batch_size:\n",
    "            patches = map(preprocess_patch, patches)\n",
    "            data = np.array(patches)\n",
    "            num_batches += 1\n",
    "            perm = np.array(perm)\n",
    "            label = np.array(label)\n",
    "            dataq.put((np.ascontiguousarray(data), perm, label), timeout=600)\n",
    "            perm = []\n",
    "            label = []\n",
    "            patches = []\n",
    "            j = 0\n",
    "\n",
    "        grids_left -= 1\n",
    "        #sample a patch and search for patches that it can be paired with\n",
    "        for y in range(0, grid_size_y):\n",
    "            for x in range(0, grid_size_x):\n",
    "                (x_pixel, y_pixel) = sample_patch(x, y, grid_start_x, grid_start_y, patch_size, gap_size, jitter_size, image.shape)\n",
    "                patches.append(np.copy(image[y_pixel:y_pixel+patch_size[0], x_pixel:x_pixel+patch_size[1], :]*255))\n",
    "                grid[x, y] = j\n",
    "                for pair in [(-1, -1), (0, -1), (1, -1), (-1, 0)]:\n",
    "                    grid_pos_x = pair[0] + x\n",
    "                    grid_pos_y = pair[1] + y\n",
    "                    if grid_pos_x < 0 or grid_pos_y < 0 or grid_pos_x >= grid_size_x:\n",
    "                        continue;\n",
    "                    perm.append(np.array([j, grid[grid_pos_y, grid_pos_x]]))\n",
    "                    label.append(pos_2_label(pair))\n",
    "                    perm.append(np.array([grid[grid_pos_y, grid_pos_x], j]))\n",
    "                    label.append(pos_2_label((-pair[0], -pair[1])))\n",
    "                j += 1\n",
    "\n",
    "\n"
   ],
   "id": "d626b7a12ff4b8b4"
  }
 ],
 "metadata": {
  "kernelspec": {
   "display_name": "Python 3",
   "language": "python",
   "name": "python3"
  },
  "language_info": {
   "codemirror_mode": {
    "name": "ipython",
    "version": 2
   },
   "file_extension": ".py",
   "mimetype": "text/x-python",
   "name": "python",
   "nbconvert_exporter": "python",
   "pygments_lexer": "ipython2",
   "version": "2.7.6"
  }
 },
 "nbformat": 4,
 "nbformat_minor": 5
}
