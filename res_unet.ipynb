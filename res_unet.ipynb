{
 "cells": [
  {
   "cell_type": "code",
   "id": "initial_id",
   "metadata": {
    "collapsed": true,
    "ExecuteTime": {
     "end_time": "2025-02-06T15:47:50.541307Z",
     "start_time": "2025-02-06T15:47:46.030729Z"
    }
   },
   "source": [
    "%%capture\n",
    "import os\n",
    "os.environ['TF_CPP_MIN_LOG_LEVEL'] = '3'\n",
    "import matplotlib.pyplot as plt\n",
    "from PIL import Image\n",
    "import cv2\n",
    "import numpy as np\n",
    "import utils"
   ],
   "outputs": [],
   "execution_count": 1
  },
  {
   "metadata": {
    "ExecuteTime": {
     "end_time": "2025-02-06T15:47:52.643879Z",
     "start_time": "2025-02-06T15:47:52.290459Z"
    }
   },
   "cell_type": "code",
   "source": [
    "import tensorflow as tf\n",
    "print(\"Num GPUs Available: \", len(tf.config.list_physical_devices('GPU')))\n",
    "print(tf.__version__)\n",
    "\n",
    "gpus = tf.config.list_physical_devices('GPU')\n",
    "if gpus:\n",
    "  # Restrict TensorFlow to only allocate 1GB of memory on the first GPU\n",
    "  try:\n",
    "    tf.config.set_logical_device_configuration(\n",
    "        gpus[0],\n",
    "        [tf.config.LogicalDeviceConfiguration(memory_limit=6000)])\n",
    "    logical_gpus = tf.config.list_logical_devices('GPU')\n",
    "    print(len(gpus), \"Physical GPUs,\", len(logical_gpus), \"Logical GPUs\")\n",
    "  except RuntimeError as e:\n",
    "    # Virtual devices must be set before GPUs have been initialized\n",
    "    print(e)"
   ],
   "id": "d9e0b9108ef86baf",
   "outputs": [
    {
     "name": "stdout",
     "output_type": "stream",
     "text": [
      "Num GPUs Available:  1\n",
      "2.15.0\n",
      "1 Physical GPUs, 1 Logical GPUs\n"
     ]
    }
   ],
   "execution_count": 2
  },
  {
   "metadata": {
    "ExecuteTime": {
     "end_time": "2025-02-06T15:47:54.816540Z",
     "start_time": "2025-02-06T15:47:54.812838Z"
    }
   },
   "cell_type": "code",
   "source": [
    "#set the necessary seeds\n",
    "seed = 42\n",
    "tf.random.set_seed(seed)\n",
    "np.random.seed(seed)"
   ],
   "id": "c6d97967b621eb5f",
   "outputs": [],
   "execution_count": 3
  },
  {
   "metadata": {},
   "cell_type": "markdown",
   "source": "## Import datasets",
   "id": "55a2334686c1a125"
  },
  {
   "metadata": {},
   "cell_type": "markdown",
   "source": "### Breast cancer dataset",
   "id": "f780449362bd07ac"
  },
  {
   "metadata": {
    "ExecuteTime": {
     "end_time": "2025-02-06T15:47:57.888954Z",
     "start_time": "2025-02-06T15:47:57.866250Z"
    }
   },
   "cell_type": "code",
   "source": [
    "train_pairs_breast, val_pairs_breast, test_pairs_breast = utils.split_dataset(utils.create_list())\n",
    "print(f\"Number of training pairs: {len(train_pairs_breast)}\")\n",
    "print(f\"Number of val pairs: {len(val_pairs_breast)}\")\n",
    "print(f\"Number of test_pairs pairs: {len(test_pairs_breast)}\")"
   ],
   "id": "f009cf5f9a31e17d",
   "outputs": [
    {
     "name": "stdout",
     "output_type": "stream",
     "text": [
      "Number of training pairs: 388\n",
      "Number of val pairs: 129\n",
      "Number of test_pairs pairs: 130\n"
     ]
    }
   ],
   "execution_count": 4
  },
  {
   "metadata": {
    "ExecuteTime": {
     "end_time": "2025-02-06T15:48:02.505803Z",
     "start_time": "2025-02-06T15:47:59.480058Z"
    }
   },
   "cell_type": "code",
   "source": [
    "train_dataset_breast = utils.create_dataset(train_pairs_breast, augment=True)\n",
    "val_dataset_breast = utils.create_dataset(val_pairs_breast)\n",
    "test_dataset_breast = utils.create_dataset(test_pairs_breast)"
   ],
   "id": "27d201329406d40a",
   "outputs": [],
   "execution_count": 5
  },
  {
   "metadata": {
    "ExecuteTime": {
     "end_time": "2025-02-06T15:48:04.672498Z",
     "start_time": "2025-02-06T15:48:04.667492Z"
    }
   },
   "cell_type": "code",
   "source": "batch_size = 8",
   "id": "aad938991469ef0d",
   "outputs": [],
   "execution_count": 6
  },
  {
   "metadata": {
    "ExecuteTime": {
     "end_time": "2025-02-06T15:48:07.284084Z",
     "start_time": "2025-02-06T15:48:06.123575Z"
    }
   },
   "cell_type": "code",
   "source": [
    "#batch the dataset and shuffle the training set\n",
    "\n",
    "train_dataset_breast = train_dataset_breast.shuffle(buffer_size=len(train_pairs_breast)).batch(batch_size)\n",
    "val_dataset_breast = val_dataset_breast.batch(batch_size)\n",
    "test_dataset_breast = test_dataset_breast.batch(batch_size)"
   ],
   "id": "7ed6c3668f6a3afb",
   "outputs": [],
   "execution_count": 7
  },
  {
   "metadata": {},
   "cell_type": "markdown",
   "source": "### Skin cancer dataset",
   "id": "6aa5b3c9b4978713"
  },
  {
   "metadata": {},
   "cell_type": "code",
   "outputs": [],
   "execution_count": null,
   "source": [
    "train_dataset_skin = utils.create_dataset(utils.create_list_skin(\"ISIC-2017_Training_Data\", \"ISIC-2017_Training_Part1_GroundTruth\"), augment=True)\n",
    "val_dataset_skin = utils.create_dataset(utils.create_list_skin(\"ISIC-2017_Validation_Data\", \"ISIC-2017_Validation_Part1_GroundTruth\"))\n",
    "test_dataset_skin = utils.create_dataset(utils.create_list_skin(\"ISIC-2017_Test_v2_Data\", \"ISIC-2017_Test_v2_Part1_GroundTruth\"))"
   ],
   "id": "ccafcecbdc618175"
  },
  {
   "metadata": {},
   "cell_type": "code",
   "outputs": [],
   "execution_count": null,
   "source": [
    "train_dataset_skin = train_dataset_skin.shuffle(buffer_size=2000).batch(batch_size)\n",
    "val_dataset_skin = val_dataset_skin.batch(batch_size)\n",
    "test_dataset_skin = test_dataset_skin.batch(batch_size)"
   ],
   "id": "c6a47a9455034307"
  },
  {
   "metadata": {},
   "cell_type": "markdown",
   "source": "### Brain cancer dataset",
   "id": "d913a5e01697de2a"
  },
  {
   "metadata": {},
   "cell_type": "code",
   "outputs": [],
   "execution_count": null,
   "source": [
    "train_pairs_brain, val_pairs_brain, test_pairs_brain = utils.split_dataset(utils.create_list_brain())\n",
    "print(f\"Number of training pairs: {len(train_pairs_brain)}\")\n",
    "print(f\"Number of val pairs: {len(val_pairs_brain)}\")\n",
    "print(f\"Number of test_pairs pairs: {len(test_pairs_brain)}\")"
   ],
   "id": "7fa676ff7c2a22a1"
  },
  {
   "metadata": {},
   "cell_type": "code",
   "outputs": [],
   "execution_count": null,
   "source": [
    "train_dataset_brain = utils.create_dataset(train_pairs_brain, augment=True)\n",
    "val_dataset_brain = utils.create_dataset(val_pairs_brain)\n",
    "test_dataset_brain = utils.create_dataset(test_pairs_brain)"
   ],
   "id": "3e3e6a20ccbe9279"
  },
  {
   "metadata": {},
   "cell_type": "code",
   "outputs": [],
   "execution_count": null,
   "source": [
    "train_dataset_brain = train_dataset_brain.shuffle(buffer_size=len(train_pairs_brain)).batch(batch_size)\n",
    "val_dataset_brain = val_dataset_brain.batch(batch_size)\n",
    "test_dataset_brain = test_dataset_brain.batch(batch_size)"
   ],
   "id": "37dc6c78f9795dfd"
  },
  {
   "metadata": {},
   "cell_type": "markdown",
   "source": "## Architecture definition",
   "id": "3b113d75af828a76"
  },
  {
   "metadata": {
    "ExecuteTime": {
     "end_time": "2025-02-06T15:48:11.654951Z",
     "start_time": "2025-02-06T15:48:11.650800Z"
    }
   },
   "cell_type": "code",
   "source": [
    "from keras import layers\n",
    "\n",
    "#batch normalization and activation\n",
    "def batchnorm_relu(input):\n",
    "    x = layers.BatchNormalization()(input)\n",
    "    x = layers.Activation(\"relu\")(x)\n",
    "    return x"
   ],
   "id": "e0e48738fca0f937",
   "outputs": [],
   "execution_count": 8
  },
  {
   "metadata": {
    "ExecuteTime": {
     "end_time": "2025-02-06T15:48:13.190695Z",
     "start_time": "2025-02-06T15:48:13.184388Z"
    }
   },
   "cell_type": "code",
   "source": [
    "#residual block\n",
    "def residual_block(input, filters, kernel_size=3, strides=1, initializer=\"he_normal\"):\n",
    "\n",
    "    regularizer = tf.keras.regularizers.L2(0.001)\n",
    "\n",
    "    #first convolutional layer\n",
    "    x = batchnorm_relu(input)\n",
    "    x = layers.Conv2D(filters, kernel_size, strides=strides, padding=\"same\", kernel_initializer=initializer, kernel_regularizer=regularizer)(x)\n",
    "\n",
    "    #second convolutional layer\n",
    "    x = batchnorm_relu(x)\n",
    "    x = layers.Conv2D(filters, kernel_size, strides=1, padding=\"same\", kernel_initializer=initializer)(x)\n",
    "\n",
    "    #shortcut connection\n",
    "    shortcut = layers.Conv2D(filters, kernel_size=1, strides=strides, padding=\"same\", kernel_initializer=initializer, kernel_regularizer=regularizer)(input)\n",
    "\n",
    "    output = layers.Add()([x, shortcut])\n",
    "    return output"
   ],
   "id": "3783cf18f5e73078",
   "outputs": [],
   "execution_count": 9
  },
  {
   "metadata": {
    "ExecuteTime": {
     "end_time": "2025-02-06T15:48:15.899918Z",
     "start_time": "2025-02-06T15:48:15.894915Z"
    }
   },
   "cell_type": "code",
   "source": [
    "#upsampling\n",
    "def decoder(input, skip, filters, kernel_size=3, initializer=\"he_normal\"):\n",
    "    #upsample the input\n",
    "    x = layers.UpSampling2D((2, 2))(input)\n",
    "\n",
    "    #concantenate the skip connection\n",
    "    x = layers.concatenate([x, skip], axis=-1)\n",
    "\n",
    "    #residual block\n",
    "    x = residual_block(x, filters, kernel_size, strides=1, initializer = initializer)\n",
    "\n",
    "    return x"
   ],
   "id": "62fec6c78a401d3d",
   "outputs": [],
   "execution_count": 10
  },
  {
   "metadata": {
    "ExecuteTime": {
     "end_time": "2025-02-06T15:48:17.558389Z",
     "start_time": "2025-02-06T15:48:17.549313Z"
    }
   },
   "cell_type": "code",
   "source": [
    "def res_unet(input_size, filters=16):\n",
    "    input = layers.Input(input_size)\n",
    "    regularizer = tf.keras.regularizers.L2(0.001)\n",
    "\n",
    "    #stem block\n",
    "    x = layers.Conv2D(filters, 3, strides=1, padding=\"same\", kernel_initializer=\"he_normal\", kernel_regularizer=regularizer)(input)\n",
    "    x = batchnorm_relu(x)\n",
    "    x = layers.Conv2D(filters, 3, strides=1, padding=\"same\", kernel_initializer=\"he_normal\", kernel_regularizer=regularizer)(x)\n",
    "    s = layers.Conv2D(filters, 1, strides=1, padding=\"same\", kernel_initializer=\"he_normal\", kernel_regularizer=regularizer)(x)\n",
    "    skip_1 = layers.add([x, s])\n",
    "\n",
    "    #encoder\n",
    "    skip_2 = residual_block(skip_1, filters * 2, strides=2)\n",
    "    skip_3 = residual_block(skip_2, filters * 4, strides=2)\n",
    "    skip_4 = residual_block(skip_3, filters * 8, strides=2)\n",
    "    # skip_5 = residual_block(skip_4, filters * 16, strides=2)\n",
    "\n",
    "    skip_4 = layers.Conv2D(filters * 16, kernel_size=(3, 3), strides=1, padding=\"same\", kernel_initializer=\"he_normal\", kernel_regularizer=regularizer)(skip_4)\n",
    "    skip_4 = batchnorm_relu(skip_4)\n",
    "    skip_4 = layers.Conv2D(filters * 16, kernel_size=(3, 3), strides=1, padding=\"same\", kernel_initializer=\"he_normal\", kernel_regularizer=regularizer)(skip_4)\n",
    "    skip_4 = batchnorm_relu(skip_4)\n",
    "\n",
    "    #decoder\n",
    "    # first_decoder = decoder(skip_5, skip_4, filters * 8, initializer=\"he_normal\")\n",
    "    second_decoder = decoder(skip_4, skip_3, filters * 4, initializer=\"he_normal\")\n",
    "    third_decoder = decoder(second_decoder, skip_2, filters * 2, initializer=\"he_normal\")\n",
    "    fourth_decoder = decoder(third_decoder, skip_1, filters, initializer=\"he_normal\")\n",
    "\n",
    "    output = layers.Conv2D(1, kernel_size=(1, 1), padding=\"same\", activation=\"sigmoid\")(fourth_decoder)\n",
    "\n",
    "    res_unet = tf.keras.Model(inputs=input, outputs=output)\n",
    "\n",
    "    return res_unet"
   ],
   "id": "3323fdd052eed6ff",
   "outputs": [],
   "execution_count": 11
  },
  {
   "metadata": {
    "ExecuteTime": {
     "end_time": "2025-02-06T15:48:20.304036Z",
     "start_time": "2025-02-06T15:48:20.263433Z"
    }
   },
   "cell_type": "code",
   "source": [
    "tf.keras.utils.get_custom_objects()[\"dice_loss\"] = utils.dice_loss\n",
    "tf.keras.utils.get_custom_objects()[\"bce_dice_loss\"] = utils.bce_dice_loss\n",
    "tf.keras.utils.get_custom_objects()[\"tversky_loss\"] = utils.tversky_loss\n",
    "tf.keras.utils.get_custom_objects()[\"dice_coefficient\"] = utils.dice_coefficient\n",
    "tf.keras.utils.get_custom_objects()[\"iou\"] = utils.iou"
   ],
   "id": "eb1593489996cedc",
   "outputs": [],
   "execution_count": 12
  },
  {
   "metadata": {
    "ExecuteTime": {
     "end_time": "2025-02-06T15:48:35.542139Z",
     "start_time": "2025-02-06T15:48:34.917427Z"
    }
   },
   "cell_type": "code",
   "source": [
    "res_unet = res_unet(input_size=(256, 256, 3))\n",
    "\n",
    "optimizer = tf.keras.optimizers.Adam(learning_rate=1e-4)\n",
    "lr_adapter = tf.keras.callbacks.ReduceLROnPlateau(monitor=\"val_dice_coefficient\", mode = \"max\", factor=0.1, patience=7, min_lr=1e-6)\n",
    "early_stopping = tf.keras.callbacks.EarlyStopping(monitor=\"val_dice_coefficient\", mode= \"max\", patience=13, restore_best_weights=True)\n",
    "\n",
    "res_unet.compile(optimizer=optimizer, loss=utils.bce_dice_loss, metrics=[utils.dice_coefficient, utils.iou, \"accuracy\"])"
   ],
   "id": "f0a6b66447ae2e0",
   "outputs": [],
   "execution_count": 13
  },
  {
   "metadata": {
    "ExecuteTime": {
     "end_time": "2025-02-06T15:48:38.007358Z",
     "start_time": "2025-02-06T15:48:37.844073Z"
    }
   },
   "cell_type": "code",
   "source": "res_unet.summary()",
   "id": "ab812dd7118f6e45",
   "outputs": [
    {
     "name": "stdout",
     "output_type": "stream",
     "text": [
      "Model: \"model\"\n",
      "__________________________________________________________________________________________________\n",
      " Layer (type)                Output Shape                 Param #   Connected to                  \n",
      "==================================================================================================\n",
      " input_1 (InputLayer)        [(None, 256, 256, 3)]        0         []                            \n",
      "                                                                                                  \n",
      " conv2d (Conv2D)             (None, 256, 256, 16)         448       ['input_1[0][0]']             \n",
      "                                                                                                  \n",
      " batch_normalization (Batch  (None, 256, 256, 16)         64        ['conv2d[0][0]']              \n",
      " Normalization)                                                                                   \n",
      "                                                                                                  \n",
      " activation (Activation)     (None, 256, 256, 16)         0         ['batch_normalization[0][0]'] \n",
      "                                                                                                  \n",
      " conv2d_1 (Conv2D)           (None, 256, 256, 16)         2320      ['activation[0][0]']          \n",
      "                                                                                                  \n",
      " conv2d_2 (Conv2D)           (None, 256, 256, 16)         272       ['conv2d_1[0][0]']            \n",
      "                                                                                                  \n",
      " add (Add)                   (None, 256, 256, 16)         0         ['conv2d_1[0][0]',            \n",
      "                                                                     'conv2d_2[0][0]']            \n",
      "                                                                                                  \n",
      " batch_normalization_1 (Bat  (None, 256, 256, 16)         64        ['add[0][0]']                 \n",
      " chNormalization)                                                                                 \n",
      "                                                                                                  \n",
      " activation_1 (Activation)   (None, 256, 256, 16)         0         ['batch_normalization_1[0][0]'\n",
      "                                                                    ]                             \n",
      "                                                                                                  \n",
      " conv2d_3 (Conv2D)           (None, 128, 128, 32)         4640      ['activation_1[0][0]']        \n",
      "                                                                                                  \n",
      " batch_normalization_2 (Bat  (None, 128, 128, 32)         128       ['conv2d_3[0][0]']            \n",
      " chNormalization)                                                                                 \n",
      "                                                                                                  \n",
      " activation_2 (Activation)   (None, 128, 128, 32)         0         ['batch_normalization_2[0][0]'\n",
      "                                                                    ]                             \n",
      "                                                                                                  \n",
      " conv2d_4 (Conv2D)           (None, 128, 128, 32)         9248      ['activation_2[0][0]']        \n",
      "                                                                                                  \n",
      " conv2d_5 (Conv2D)           (None, 128, 128, 32)         544       ['add[0][0]']                 \n",
      "                                                                                                  \n",
      " add_1 (Add)                 (None, 128, 128, 32)         0         ['conv2d_4[0][0]',            \n",
      "                                                                     'conv2d_5[0][0]']            \n",
      "                                                                                                  \n",
      " batch_normalization_3 (Bat  (None, 128, 128, 32)         128       ['add_1[0][0]']               \n",
      " chNormalization)                                                                                 \n",
      "                                                                                                  \n",
      " activation_3 (Activation)   (None, 128, 128, 32)         0         ['batch_normalization_3[0][0]'\n",
      "                                                                    ]                             \n",
      "                                                                                                  \n",
      " conv2d_6 (Conv2D)           (None, 64, 64, 64)           18496     ['activation_3[0][0]']        \n",
      "                                                                                                  \n",
      " batch_normalization_4 (Bat  (None, 64, 64, 64)           256       ['conv2d_6[0][0]']            \n",
      " chNormalization)                                                                                 \n",
      "                                                                                                  \n",
      " activation_4 (Activation)   (None, 64, 64, 64)           0         ['batch_normalization_4[0][0]'\n",
      "                                                                    ]                             \n",
      "                                                                                                  \n",
      " conv2d_7 (Conv2D)           (None, 64, 64, 64)           36928     ['activation_4[0][0]']        \n",
      "                                                                                                  \n",
      " conv2d_8 (Conv2D)           (None, 64, 64, 64)           2112      ['add_1[0][0]']               \n",
      "                                                                                                  \n",
      " add_2 (Add)                 (None, 64, 64, 64)           0         ['conv2d_7[0][0]',            \n",
      "                                                                     'conv2d_8[0][0]']            \n",
      "                                                                                                  \n",
      " batch_normalization_5 (Bat  (None, 64, 64, 64)           256       ['add_2[0][0]']               \n",
      " chNormalization)                                                                                 \n",
      "                                                                                                  \n",
      " activation_5 (Activation)   (None, 64, 64, 64)           0         ['batch_normalization_5[0][0]'\n",
      "                                                                    ]                             \n",
      "                                                                                                  \n",
      " conv2d_9 (Conv2D)           (None, 32, 32, 128)          73856     ['activation_5[0][0]']        \n",
      "                                                                                                  \n",
      " batch_normalization_6 (Bat  (None, 32, 32, 128)          512       ['conv2d_9[0][0]']            \n",
      " chNormalization)                                                                                 \n",
      "                                                                                                  \n",
      " activation_6 (Activation)   (None, 32, 32, 128)          0         ['batch_normalization_6[0][0]'\n",
      "                                                                    ]                             \n",
      "                                                                                                  \n",
      " conv2d_10 (Conv2D)          (None, 32, 32, 128)          147584    ['activation_6[0][0]']        \n",
      "                                                                                                  \n",
      " conv2d_11 (Conv2D)          (None, 32, 32, 128)          8320      ['add_2[0][0]']               \n",
      "                                                                                                  \n",
      " add_3 (Add)                 (None, 32, 32, 128)          0         ['conv2d_10[0][0]',           \n",
      "                                                                     'conv2d_11[0][0]']           \n",
      "                                                                                                  \n",
      " conv2d_12 (Conv2D)          (None, 32, 32, 256)          295168    ['add_3[0][0]']               \n",
      "                                                                                                  \n",
      " batch_normalization_7 (Bat  (None, 32, 32, 256)          1024      ['conv2d_12[0][0]']           \n",
      " chNormalization)                                                                                 \n",
      "                                                                                                  \n",
      " activation_7 (Activation)   (None, 32, 32, 256)          0         ['batch_normalization_7[0][0]'\n",
      "                                                                    ]                             \n",
      "                                                                                                  \n",
      " conv2d_13 (Conv2D)          (None, 32, 32, 256)          590080    ['activation_7[0][0]']        \n",
      "                                                                                                  \n",
      " batch_normalization_8 (Bat  (None, 32, 32, 256)          1024      ['conv2d_13[0][0]']           \n",
      " chNormalization)                                                                                 \n",
      "                                                                                                  \n",
      " activation_8 (Activation)   (None, 32, 32, 256)          0         ['batch_normalization_8[0][0]'\n",
      "                                                                    ]                             \n",
      "                                                                                                  \n",
      " up_sampling2d (UpSampling2  (None, 64, 64, 256)          0         ['activation_8[0][0]']        \n",
      " D)                                                                                               \n",
      "                                                                                                  \n",
      " concatenate (Concatenate)   (None, 64, 64, 320)          0         ['up_sampling2d[0][0]',       \n",
      "                                                                     'add_2[0][0]']               \n",
      "                                                                                                  \n",
      " batch_normalization_9 (Bat  (None, 64, 64, 320)          1280      ['concatenate[0][0]']         \n",
      " chNormalization)                                                                                 \n",
      "                                                                                                  \n",
      " activation_9 (Activation)   (None, 64, 64, 320)          0         ['batch_normalization_9[0][0]'\n",
      "                                                                    ]                             \n",
      "                                                                                                  \n",
      " conv2d_14 (Conv2D)          (None, 64, 64, 64)           184384    ['activation_9[0][0]']        \n",
      "                                                                                                  \n",
      " batch_normalization_10 (Ba  (None, 64, 64, 64)           256       ['conv2d_14[0][0]']           \n",
      " tchNormalization)                                                                                \n",
      "                                                                                                  \n",
      " activation_10 (Activation)  (None, 64, 64, 64)           0         ['batch_normalization_10[0][0]\n",
      "                                                                    ']                            \n",
      "                                                                                                  \n",
      " conv2d_15 (Conv2D)          (None, 64, 64, 64)           36928     ['activation_10[0][0]']       \n",
      "                                                                                                  \n",
      " conv2d_16 (Conv2D)          (None, 64, 64, 64)           20544     ['concatenate[0][0]']         \n",
      "                                                                                                  \n",
      " add_4 (Add)                 (None, 64, 64, 64)           0         ['conv2d_15[0][0]',           \n",
      "                                                                     'conv2d_16[0][0]']           \n",
      "                                                                                                  \n",
      " up_sampling2d_1 (UpSamplin  (None, 128, 128, 64)         0         ['add_4[0][0]']               \n",
      " g2D)                                                                                             \n",
      "                                                                                                  \n",
      " concatenate_1 (Concatenate  (None, 128, 128, 96)         0         ['up_sampling2d_1[0][0]',     \n",
      " )                                                                   'add_1[0][0]']               \n",
      "                                                                                                  \n",
      " batch_normalization_11 (Ba  (None, 128, 128, 96)         384       ['concatenate_1[0][0]']       \n",
      " tchNormalization)                                                                                \n",
      "                                                                                                  \n",
      " activation_11 (Activation)  (None, 128, 128, 96)         0         ['batch_normalization_11[0][0]\n",
      "                                                                    ']                            \n",
      "                                                                                                  \n",
      " conv2d_17 (Conv2D)          (None, 128, 128, 32)         27680     ['activation_11[0][0]']       \n",
      "                                                                                                  \n",
      " batch_normalization_12 (Ba  (None, 128, 128, 32)         128       ['conv2d_17[0][0]']           \n",
      " tchNormalization)                                                                                \n",
      "                                                                                                  \n",
      " activation_12 (Activation)  (None, 128, 128, 32)         0         ['batch_normalization_12[0][0]\n",
      "                                                                    ']                            \n",
      "                                                                                                  \n",
      " conv2d_18 (Conv2D)          (None, 128, 128, 32)         9248      ['activation_12[0][0]']       \n",
      "                                                                                                  \n",
      " conv2d_19 (Conv2D)          (None, 128, 128, 32)         3104      ['concatenate_1[0][0]']       \n",
      "                                                                                                  \n",
      " add_5 (Add)                 (None, 128, 128, 32)         0         ['conv2d_18[0][0]',           \n",
      "                                                                     'conv2d_19[0][0]']           \n",
      "                                                                                                  \n",
      " up_sampling2d_2 (UpSamplin  (None, 256, 256, 32)         0         ['add_5[0][0]']               \n",
      " g2D)                                                                                             \n",
      "                                                                                                  \n",
      " concatenate_2 (Concatenate  (None, 256, 256, 48)         0         ['up_sampling2d_2[0][0]',     \n",
      " )                                                                   'add[0][0]']                 \n",
      "                                                                                                  \n",
      " batch_normalization_13 (Ba  (None, 256, 256, 48)         192       ['concatenate_2[0][0]']       \n",
      " tchNormalization)                                                                                \n",
      "                                                                                                  \n",
      " activation_13 (Activation)  (None, 256, 256, 48)         0         ['batch_normalization_13[0][0]\n",
      "                                                                    ']                            \n",
      "                                                                                                  \n",
      " conv2d_20 (Conv2D)          (None, 256, 256, 16)         6928      ['activation_13[0][0]']       \n",
      "                                                                                                  \n",
      " batch_normalization_14 (Ba  (None, 256, 256, 16)         64        ['conv2d_20[0][0]']           \n",
      " tchNormalization)                                                                                \n",
      "                                                                                                  \n",
      " activation_14 (Activation)  (None, 256, 256, 16)         0         ['batch_normalization_14[0][0]\n",
      "                                                                    ']                            \n",
      "                                                                                                  \n",
      " conv2d_21 (Conv2D)          (None, 256, 256, 16)         2320      ['activation_14[0][0]']       \n",
      "                                                                                                  \n",
      " conv2d_22 (Conv2D)          (None, 256, 256, 16)         784       ['concatenate_2[0][0]']       \n",
      "                                                                                                  \n",
      " add_6 (Add)                 (None, 256, 256, 16)         0         ['conv2d_21[0][0]',           \n",
      "                                                                     'conv2d_22[0][0]']           \n",
      "                                                                                                  \n",
      " conv2d_23 (Conv2D)          (None, 256, 256, 1)          17        ['add_6[0][0]']               \n",
      "                                                                                                  \n",
      "==================================================================================================\n",
      "Total params: 1487713 (5.68 MB)\n",
      "Trainable params: 1484833 (5.66 MB)\n",
      "Non-trainable params: 2880 (11.25 KB)\n",
      "__________________________________________________________________________________________________\n"
     ]
    }
   ],
   "execution_count": 14
  },
  {
   "metadata": {
    "ExecuteTime": {
     "end_time": "2025-02-06T15:57:06.662456Z",
     "start_time": "2025-02-06T15:48:50.199769Z"
    }
   },
   "cell_type": "code",
   "source": "history = res_unet.fit(train_dataset_breast, validation_data=val_dataset_breast, epochs=100, callbacks=[lr_adapter, early_stopping])",
   "id": "37364e4c2a77f0a",
   "outputs": [
    {
     "name": "stdout",
     "output_type": "stream",
     "text": [
      "Epoch 1/100\n"
     ]
    },
    {
     "name": "stderr",
     "output_type": "stream",
     "text": [
      "WARNING: All log messages before absl::InitializeLog() is called are written to STDERR\n",
      "I0000 00:00:1738856942.156127     291 device_compiler.h:186] Compiled cluster using XLA!  This line is logged at most once for the lifetime of the process.\n"
     ]
    },
    {
     "name": "stdout",
     "output_type": "stream",
     "text": [
      "49/49 [==============================] - 43s 366ms/step - loss: 3.8161 - dice_coefficient: 0.2180 - iou: 0.1237 - accuracy: 0.8200 - val_loss: 4.4843 - val_dice_coefficient: 0.1686 - val_iou: 0.0935 - val_accuracy: 0.3042 - lr: 1.0000e-04\n",
      "Epoch 2/100\n",
      "49/49 [==============================] - 7s 126ms/step - loss: 3.5339 - dice_coefficient: 0.2925 - iou: 0.1725 - accuracy: 0.8502 - val_loss: 3.7212 - val_dice_coefficient: 0.1743 - val_iou: 0.0965 - val_accuracy: 0.7609 - lr: 1.0000e-04\n",
      "Epoch 3/100\n",
      "49/49 [==============================] - 7s 125ms/step - loss: 3.4571 - dice_coefficient: 0.3128 - iou: 0.1868 - accuracy: 0.8635 - val_loss: 3.4980 - val_dice_coefficient: 0.2072 - val_iou: 0.1170 - val_accuracy: 0.8698 - lr: 1.0000e-04\n",
      "Epoch 4/100\n",
      "49/49 [==============================] - 8s 127ms/step - loss: 3.3903 - dice_coefficient: 0.3285 - iou: 0.1979 - accuracy: 0.8663 - val_loss: 3.5262 - val_dice_coefficient: 0.2101 - val_iou: 0.1189 - val_accuracy: 0.8163 - lr: 1.0000e-04\n",
      "Epoch 5/100\n",
      "49/49 [==============================] - 8s 134ms/step - loss: 3.3074 - dice_coefficient: 0.3576 - iou: 0.2193 - accuracy: 0.8688 - val_loss: 3.3843 - val_dice_coefficient: 0.2264 - val_iou: 0.1291 - val_accuracy: 0.8773 - lr: 1.0000e-04\n",
      "Epoch 6/100\n",
      "49/49 [==============================] - 8s 144ms/step - loss: 3.2790 - dice_coefficient: 0.3521 - iou: 0.2160 - accuracy: 0.8716 - val_loss: 3.3753 - val_dice_coefficient: 0.2688 - val_iou: 0.1582 - val_accuracy: 0.8180 - lr: 1.0000e-04\n",
      "Epoch 7/100\n",
      "49/49 [==============================] - 9s 148ms/step - loss: 3.2140 - dice_coefficient: 0.3745 - iou: 0.2321 - accuracy: 0.8788 - val_loss: 3.2288 - val_dice_coefficient: 0.2759 - val_iou: 0.1624 - val_accuracy: 0.8874 - lr: 1.0000e-04\n",
      "Epoch 8/100\n",
      "49/49 [==============================] - 9s 150ms/step - loss: 3.1764 - dice_coefficient: 0.3801 - iou: 0.2368 - accuracy: 0.8779 - val_loss: 3.3393 - val_dice_coefficient: 0.2635 - val_iou: 0.1542 - val_accuracy: 0.8198 - lr: 1.0000e-04\n",
      "Epoch 9/100\n",
      "49/49 [==============================] - 9s 159ms/step - loss: 3.1283 - dice_coefficient: 0.3918 - iou: 0.2462 - accuracy: 0.8812 - val_loss: 3.2598 - val_dice_coefficient: 0.2966 - val_iou: 0.1772 - val_accuracy: 0.8333 - lr: 1.0000e-04\n",
      "Epoch 10/100\n",
      "49/49 [==============================] - 9s 154ms/step - loss: 3.0721 - dice_coefficient: 0.4027 - iou: 0.2539 - accuracy: 0.8840 - val_loss: 3.1124 - val_dice_coefficient: 0.3254 - val_iou: 0.1978 - val_accuracy: 0.8743 - lr: 1.0000e-04\n",
      "Epoch 11/100\n",
      "49/49 [==============================] - 9s 162ms/step - loss: 3.0172 - dice_coefficient: 0.4160 - iou: 0.2654 - accuracy: 0.8873 - val_loss: 3.0503 - val_dice_coefficient: 0.3213 - val_iou: 0.1943 - val_accuracy: 0.8980 - lr: 1.0000e-04\n",
      "Epoch 12/100\n",
      "49/49 [==============================] - 9s 164ms/step - loss: 2.9820 - dice_coefficient: 0.4251 - iou: 0.2727 - accuracy: 0.8894 - val_loss: 2.9540 - val_dice_coefficient: 0.3541 - val_iou: 0.2206 - val_accuracy: 0.9219 - lr: 1.0000e-04\n",
      "Epoch 13/100\n",
      "49/49 [==============================] - 9s 163ms/step - loss: 2.9285 - dice_coefficient: 0.4450 - iou: 0.2892 - accuracy: 0.8931 - val_loss: 2.9324 - val_dice_coefficient: 0.3668 - val_iou: 0.2293 - val_accuracy: 0.9067 - lr: 1.0000e-04\n",
      "Epoch 14/100\n",
      "49/49 [==============================] - 10s 166ms/step - loss: 2.8954 - dice_coefficient: 0.4465 - iou: 0.2893 - accuracy: 0.8946 - val_loss: 2.9925 - val_dice_coefficient: 0.3566 - val_iou: 0.2212 - val_accuracy: 0.8763 - lr: 1.0000e-04\n",
      "Epoch 15/100\n",
      "49/49 [==============================] - 9s 164ms/step - loss: 2.8641 - dice_coefficient: 0.4517 - iou: 0.2946 - accuracy: 0.8935 - val_loss: 2.8478 - val_dice_coefficient: 0.3961 - val_iou: 0.2521 - val_accuracy: 0.9145 - lr: 1.0000e-04\n",
      "Epoch 16/100\n",
      "49/49 [==============================] - 9s 164ms/step - loss: 2.8128 - dice_coefficient: 0.4739 - iou: 0.3139 - accuracy: 0.8974 - val_loss: 2.8257 - val_dice_coefficient: 0.3989 - val_iou: 0.2552 - val_accuracy: 0.9179 - lr: 1.0000e-04\n",
      "Epoch 17/100\n",
      "49/49 [==============================] - 10s 167ms/step - loss: 2.7768 - dice_coefficient: 0.4792 - iou: 0.3194 - accuracy: 0.8996 - val_loss: 2.8017 - val_dice_coefficient: 0.4013 - val_iou: 0.2563 - val_accuracy: 0.9093 - lr: 1.0000e-04\n",
      "Epoch 18/100\n",
      "49/49 [==============================] - 10s 164ms/step - loss: 2.7421 - dice_coefficient: 0.4921 - iou: 0.3295 - accuracy: 0.9037 - val_loss: 2.8608 - val_dice_coefficient: 0.3882 - val_iou: 0.2476 - val_accuracy: 0.8884 - lr: 1.0000e-04\n",
      "Epoch 19/100\n",
      "49/49 [==============================] - 9s 163ms/step - loss: 2.7093 - dice_coefficient: 0.5010 - iou: 0.3369 - accuracy: 0.9039 - val_loss: 2.7500 - val_dice_coefficient: 0.4072 - val_iou: 0.2615 - val_accuracy: 0.9168 - lr: 1.0000e-04\n",
      "Epoch 20/100\n",
      "49/49 [==============================] - 9s 164ms/step - loss: 2.6791 - dice_coefficient: 0.5064 - iou: 0.3430 - accuracy: 0.9050 - val_loss: 2.7533 - val_dice_coefficient: 0.4120 - val_iou: 0.2655 - val_accuracy: 0.9165 - lr: 1.0000e-04\n",
      "Epoch 21/100\n",
      "49/49 [==============================] - 9s 163ms/step - loss: 2.6325 - dice_coefficient: 0.5244 - iou: 0.3591 - accuracy: 0.9071 - val_loss: 2.8301 - val_dice_coefficient: 0.3814 - val_iou: 0.2420 - val_accuracy: 0.8806 - lr: 1.0000e-04\n",
      "Epoch 22/100\n",
      "49/49 [==============================] - 9s 162ms/step - loss: 2.6376 - dice_coefficient: 0.5200 - iou: 0.3546 - accuracy: 0.9055 - val_loss: 2.7568 - val_dice_coefficient: 0.3942 - val_iou: 0.2517 - val_accuracy: 0.8971 - lr: 1.0000e-04\n",
      "Epoch 23/100\n",
      "49/49 [==============================] - 9s 163ms/step - loss: 2.5649 - dice_coefficient: 0.5398 - iou: 0.3729 - accuracy: 0.9136 - val_loss: 2.7529 - val_dice_coefficient: 0.3587 - val_iou: 0.2311 - val_accuracy: 0.9284 - lr: 1.0000e-04\n",
      "Epoch 24/100\n",
      "49/49 [==============================] - 9s 162ms/step - loss: 2.5254 - dice_coefficient: 0.5607 - iou: 0.3949 - accuracy: 0.9160 - val_loss: 2.6964 - val_dice_coefficient: 0.3777 - val_iou: 0.2418 - val_accuracy: 0.9247 - lr: 1.0000e-04\n",
      "Epoch 25/100\n",
      "49/49 [==============================] - 9s 163ms/step - loss: 2.4913 - dice_coefficient: 0.5685 - iou: 0.4033 - accuracy: 0.9163 - val_loss: 2.7582 - val_dice_coefficient: 0.3500 - val_iou: 0.2276 - val_accuracy: 0.9278 - lr: 1.0000e-04\n",
      "Epoch 26/100\n",
      "49/49 [==============================] - 9s 165ms/step - loss: 2.4544 - dice_coefficient: 0.5847 - iou: 0.4176 - accuracy: 0.9214 - val_loss: 2.8334 - val_dice_coefficient: 0.3092 - val_iou: 0.2004 - val_accuracy: 0.9260 - lr: 1.0000e-04\n",
      "Epoch 27/100\n",
      "49/49 [==============================] - 10s 165ms/step - loss: 2.3887 - dice_coefficient: 0.6145 - iou: 0.4476 - accuracy: 0.9288 - val_loss: 2.6963 - val_dice_coefficient: 0.3952 - val_iou: 0.2572 - val_accuracy: 0.9230 - lr: 1.0000e-04\n",
      "Epoch 28/100\n",
      "49/49 [==============================] - 10s 164ms/step - loss: 2.3358 - dice_coefficient: 0.6443 - iou: 0.4775 - accuracy: 0.9320 - val_loss: 2.5844 - val_dice_coefficient: 0.4382 - val_iou: 0.2914 - val_accuracy: 0.9248 - lr: 1.0000e-05\n",
      "Epoch 29/100\n",
      "49/49 [==============================] - 9s 163ms/step - loss: 2.2935 - dice_coefficient: 0.6642 - iou: 0.5022 - accuracy: 0.9390 - val_loss: 2.5848 - val_dice_coefficient: 0.4452 - val_iou: 0.2952 - val_accuracy: 0.9173 - lr: 1.0000e-05\n",
      "Epoch 30/100\n",
      "49/49 [==============================] - 9s 162ms/step - loss: 2.2921 - dice_coefficient: 0.6680 - iou: 0.5059 - accuracy: 0.9385 - val_loss: 2.5769 - val_dice_coefficient: 0.4436 - val_iou: 0.2956 - val_accuracy: 0.9257 - lr: 1.0000e-05\n",
      "Epoch 31/100\n",
      "49/49 [==============================] - 10s 164ms/step - loss: 2.2914 - dice_coefficient: 0.6649 - iou: 0.5011 - accuracy: 0.9388 - val_loss: 2.5756 - val_dice_coefficient: 0.4461 - val_iou: 0.2965 - val_accuracy: 0.9210 - lr: 1.0000e-05\n",
      "Epoch 32/100\n",
      "49/49 [==============================] - 9s 163ms/step - loss: 2.2873 - dice_coefficient: 0.6669 - iou: 0.5047 - accuracy: 0.9387 - val_loss: 2.5867 - val_dice_coefficient: 0.4411 - val_iou: 0.2922 - val_accuracy: 0.9198 - lr: 1.0000e-05\n",
      "Epoch 33/100\n",
      "49/49 [==============================] - 9s 162ms/step - loss: 2.2664 - dice_coefficient: 0.6801 - iou: 0.5198 - accuracy: 0.9412 - val_loss: 2.5898 - val_dice_coefficient: 0.4422 - val_iou: 0.2929 - val_accuracy: 0.9175 - lr: 1.0000e-05\n",
      "Epoch 34/100\n",
      "49/49 [==============================] - 9s 164ms/step - loss: 2.2519 - dice_coefficient: 0.6895 - iou: 0.5298 - accuracy: 0.9420 - val_loss: 2.5939 - val_dice_coefficient: 0.4445 - val_iou: 0.2954 - val_accuracy: 0.9187 - lr: 1.0000e-05\n",
      "Epoch 35/100\n",
      "49/49 [==============================] - 9s 163ms/step - loss: 2.2527 - dice_coefficient: 0.6877 - iou: 0.5269 - accuracy: 0.9421 - val_loss: 2.5953 - val_dice_coefficient: 0.4388 - val_iou: 0.2894 - val_accuracy: 0.9148 - lr: 1.0000e-05\n",
      "Epoch 36/100\n",
      "49/49 [==============================] - 9s 164ms/step - loss: 2.2580 - dice_coefficient: 0.6829 - iou: 0.5226 - accuracy: 0.9415 - val_loss: 2.6489 - val_dice_coefficient: 0.4303 - val_iou: 0.2814 - val_accuracy: 0.8999 - lr: 1.0000e-05\n",
      "Epoch 37/100\n",
      "49/49 [==============================] - 10s 164ms/step - loss: 2.2391 - dice_coefficient: 0.6992 - iou: 0.5422 - accuracy: 0.9435 - val_loss: 2.5891 - val_dice_coefficient: 0.4472 - val_iou: 0.2975 - val_accuracy: 0.9186 - lr: 1.0000e-05\n",
      "Epoch 38/100\n",
      "49/49 [==============================] - 9s 163ms/step - loss: 2.2314 - dice_coefficient: 0.6986 - iou: 0.5403 - accuracy: 0.9438 - val_loss: 2.6233 - val_dice_coefficient: 0.4327 - val_iou: 0.2839 - val_accuracy: 0.9085 - lr: 1.0000e-05\n",
      "Epoch 39/100\n",
      "49/49 [==============================] - 9s 163ms/step - loss: 2.2287 - dice_coefficient: 0.7019 - iou: 0.5444 - accuracy: 0.9443 - val_loss: 2.6067 - val_dice_coefficient: 0.4422 - val_iou: 0.2927 - val_accuracy: 0.9137 - lr: 1.0000e-05\n",
      "Epoch 40/100\n",
      "49/49 [==============================] - 9s 163ms/step - loss: 2.2129 - dice_coefficient: 0.7105 - iou: 0.5540 - accuracy: 0.9461 - val_loss: 2.5917 - val_dice_coefficient: 0.4414 - val_iou: 0.2923 - val_accuracy: 0.9175 - lr: 1.0000e-05\n",
      "Epoch 41/100\n",
      "49/49 [==============================] - 9s 166ms/step - loss: 2.2118 - dice_coefficient: 0.7093 - iou: 0.5529 - accuracy: 0.9464 - val_loss: 2.6118 - val_dice_coefficient: 0.4389 - val_iou: 0.2898 - val_accuracy: 0.9122 - lr: 1.0000e-05\n",
      "Epoch 42/100\n",
      "49/49 [==============================] - 10s 164ms/step - loss: 2.1997 - dice_coefficient: 0.7169 - iou: 0.5622 - accuracy: 0.9479 - val_loss: 2.5959 - val_dice_coefficient: 0.4362 - val_iou: 0.2895 - val_accuracy: 0.9228 - lr: 1.0000e-05\n",
      "Epoch 43/100\n",
      "49/49 [==============================] - 9s 164ms/step - loss: 2.1985 - dice_coefficient: 0.7168 - iou: 0.5644 - accuracy: 0.9473 - val_loss: 2.5929 - val_dice_coefficient: 0.4461 - val_iou: 0.2964 - val_accuracy: 0.9176 - lr: 1.0000e-05\n",
      "Epoch 44/100\n",
      "49/49 [==============================] - 10s 164ms/step - loss: 2.1852 - dice_coefficient: 0.7261 - iou: 0.5724 - accuracy: 0.9487 - val_loss: 2.6057 - val_dice_coefficient: 0.4435 - val_iou: 0.2938 - val_accuracy: 0.9143 - lr: 1.0000e-05\n",
      "Epoch 45/100\n",
      "49/49 [==============================] - 10s 164ms/step - loss: 2.1975 - dice_coefficient: 0.7187 - iou: 0.5663 - accuracy: 0.9473 - val_loss: 2.6089 - val_dice_coefficient: 0.4437 - val_iou: 0.2939 - val_accuracy: 0.9132 - lr: 1.0000e-06\n",
      "Epoch 46/100\n",
      "49/49 [==============================] - 9s 164ms/step - loss: 2.1945 - dice_coefficient: 0.7163 - iou: 0.5630 - accuracy: 0.9484 - val_loss: 2.6108 - val_dice_coefficient: 0.4441 - val_iou: 0.2941 - val_accuracy: 0.9126 - lr: 1.0000e-06\n",
      "Epoch 47/100\n",
      "49/49 [==============================] - 9s 165ms/step - loss: 2.1903 - dice_coefficient: 0.7208 - iou: 0.5695 - accuracy: 0.9485 - val_loss: 2.6165 - val_dice_coefficient: 0.4409 - val_iou: 0.2912 - val_accuracy: 0.9110 - lr: 1.0000e-06\n",
      "Epoch 48/100\n",
      "49/49 [==============================] - 10s 163ms/step - loss: 2.1807 - dice_coefficient: 0.7278 - iou: 0.5766 - accuracy: 0.9493 - val_loss: 2.6199 - val_dice_coefficient: 0.4399 - val_iou: 0.2904 - val_accuracy: 0.9103 - lr: 1.0000e-06\n",
      "Epoch 49/100\n",
      "49/49 [==============================] - 9s 163ms/step - loss: 2.1781 - dice_coefficient: 0.7297 - iou: 0.5782 - accuracy: 0.9498 - val_loss: 2.6290 - val_dice_coefficient: 0.4390 - val_iou: 0.2894 - val_accuracy: 0.9077 - lr: 1.0000e-06\n",
      "Epoch 50/100\n",
      "49/49 [==============================] - 10s 164ms/step - loss: 2.1772 - dice_coefficient: 0.7301 - iou: 0.5791 - accuracy: 0.9491 - val_loss: 2.6180 - val_dice_coefficient: 0.4418 - val_iou: 0.2921 - val_accuracy: 0.9107 - lr: 1.0000e-06\n"
     ]
    }
   ],
   "execution_count": 15
  }
 ],
 "metadata": {
  "kernelspec": {
   "display_name": "Python 3",
   "language": "python",
   "name": "python3"
  },
  "language_info": {
   "codemirror_mode": {
    "name": "ipython",
    "version": 2
   },
   "file_extension": ".py",
   "mimetype": "text/x-python",
   "name": "python",
   "nbconvert_exporter": "python",
   "pygments_lexer": "ipython2",
   "version": "2.7.6"
  }
 },
 "nbformat": 4,
 "nbformat_minor": 5
}
