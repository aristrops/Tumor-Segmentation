{
 "cells": [
  {
   "cell_type": "code",
   "id": "initial_id",
   "metadata": {
    "collapsed": true,
    "ExecuteTime": {
     "end_time": "2025-02-03T19:35:30.583942Z",
     "start_time": "2025-02-03T19:35:27.329312Z"
    }
   },
   "source": [
    "%%capture\n",
    "import os\n",
    "os.environ['TF_CPP_MIN_LOG_LEVEL'] = '3'\n",
    "import matplotlib.pyplot as plt\n",
    "from PIL import Image\n",
    "import cv2\n",
    "import numpy as np\n",
    "import utils"
   ],
   "outputs": [],
   "execution_count": 1
  },
  {
   "metadata": {
    "ExecuteTime": {
     "end_time": "2025-02-03T19:35:32.712093Z",
     "start_time": "2025-02-03T19:35:32.421809Z"
    }
   },
   "cell_type": "code",
   "source": [
    "import tensorflow as tf\n",
    "print(\"Num GPUs Available: \", len(tf.config.list_physical_devices('GPU')))\n",
    "print(tf.__version__)\n",
    "\n",
    "gpus = tf.config.list_physical_devices('GPU')\n",
    "if gpus:\n",
    "  # Restrict TensorFlow to only allocate 1GB of memory on the first GPU\n",
    "  try:\n",
    "    tf.config.set_logical_device_configuration(\n",
    "        gpus[0],\n",
    "        [tf.config.LogicalDeviceConfiguration(memory_limit=6000)])\n",
    "    logical_gpus = tf.config.list_logical_devices('GPU')\n",
    "    print(len(gpus), \"Physical GPUs,\", len(logical_gpus), \"Logical GPUs\")\n",
    "  except RuntimeError as e:\n",
    "    # Virtual devices must be set before GPUs have been initialized\n",
    "    print(e)"
   ],
   "id": "d9e0b9108ef86baf",
   "outputs": [
    {
     "name": "stdout",
     "output_type": "stream",
     "text": [
      "Num GPUs Available:  1\n",
      "2.15.0\n",
      "1 Physical GPUs, 1 Logical GPUs\n"
     ]
    }
   ],
   "execution_count": 2
  },
  {
   "metadata": {
    "ExecuteTime": {
     "end_time": "2025-02-03T19:35:34.289362Z",
     "start_time": "2025-02-03T19:35:34.285253Z"
    }
   },
   "cell_type": "code",
   "source": [
    "#set the necessary seeds\n",
    "seed = 42\n",
    "tf.random.set_seed(seed)\n",
    "np.random.seed(seed)"
   ],
   "id": "c6d97967b621eb5f",
   "outputs": [],
   "execution_count": 3
  },
  {
   "metadata": {},
   "cell_type": "markdown",
   "source": "## Import datasets",
   "id": "55a2334686c1a125"
  },
  {
   "metadata": {},
   "cell_type": "markdown",
   "source": "### Breast cancer dataset",
   "id": "f780449362bd07ac"
  },
  {
   "metadata": {
    "ExecuteTime": {
     "end_time": "2025-02-03T19:35:35.729179Z",
     "start_time": "2025-02-03T19:35:35.703852Z"
    }
   },
   "cell_type": "code",
   "source": [
    "train_pairs_breast, val_pairs_breast, test_pairs_breast = utils.split_dataset(utils.create_list())\n",
    "print(f\"Number of training pairs: {len(train_pairs_breast)}\")\n",
    "print(f\"Number of val pairs: {len(val_pairs_breast)}\")\n",
    "print(f\"Number of test_pairs pairs: {len(test_pairs_breast)}\")"
   ],
   "id": "f009cf5f9a31e17d",
   "outputs": [
    {
     "name": "stdout",
     "output_type": "stream",
     "text": [
      "Number of training pairs: 452\n",
      "Number of val pairs: 97\n",
      "Number of test_pairs pairs: 98\n"
     ]
    }
   ],
   "execution_count": 4
  },
  {
   "metadata": {
    "ExecuteTime": {
     "end_time": "2025-02-03T19:35:39.100341Z",
     "start_time": "2025-02-03T19:35:38.077881Z"
    }
   },
   "cell_type": "code",
   "source": [
    "train_dataset_breast = utils.create_dataset(train_pairs_breast, augment=True)\n",
    "val_dataset_breast = utils.create_dataset(val_pairs_breast)\n",
    "test_dataset_breast = utils.create_dataset(test_pairs_breast)"
   ],
   "id": "27d201329406d40a",
   "outputs": [],
   "execution_count": 5
  },
  {
   "metadata": {
    "ExecuteTime": {
     "end_time": "2025-02-03T19:35:40.853718Z",
     "start_time": "2025-02-03T19:35:40.850195Z"
    }
   },
   "cell_type": "code",
   "source": "batch_size = 8",
   "id": "aad938991469ef0d",
   "outputs": [],
   "execution_count": 6
  },
  {
   "metadata": {
    "ExecuteTime": {
     "end_time": "2025-02-03T19:35:44.274572Z",
     "start_time": "2025-02-03T19:35:43.390719Z"
    }
   },
   "cell_type": "code",
   "source": [
    "#batch the dataset and shuffle the training set\n",
    "\n",
    "train_dataset_breast = train_dataset_breast.shuffle(buffer_size=len(train_pairs_breast)).batch(batch_size)\n",
    "val_dataset_breast = val_dataset_breast.batch(batch_size)\n",
    "test_dataset_breast = test_dataset_breast.batch(batch_size)"
   ],
   "id": "7ed6c3668f6a3afb",
   "outputs": [],
   "execution_count": 7
  },
  {
   "metadata": {},
   "cell_type": "markdown",
   "source": "### Skin cancer dataset",
   "id": "6aa5b3c9b4978713"
  },
  {
   "metadata": {},
   "cell_type": "code",
   "outputs": [],
   "execution_count": null,
   "source": [
    "train_dataset_skin = utils.create_dataset(utils.create_list_skin(\"ISIC-2017_Training_Data\", \"ISIC-2017_Training_Part1_GroundTruth\"), augment=True)\n",
    "val_dataset_skin = utils.create_dataset(utils.create_list_skin(\"ISIC-2017_Validation_Data\", \"ISIC-2017_Validation_Part1_GroundTruth\"))\n",
    "test_dataset_skin = utils.create_dataset(utils.create_list_skin(\"ISIC-2017_Test_v2_Data\", \"ISIC-2017_Test_v2_Part1_GroundTruth\"))"
   ],
   "id": "ccafcecbdc618175"
  },
  {
   "metadata": {},
   "cell_type": "code",
   "outputs": [],
   "execution_count": null,
   "source": [
    "train_dataset_skin = train_dataset_skin.shuffle(buffer_size=2000).batch(batch_size)\n",
    "val_dataset_skin = val_dataset_skin.batch(batch_size)\n",
    "test_dataset_skin = test_dataset_skin.batch(batch_size)"
   ],
   "id": "c6a47a9455034307"
  },
  {
   "metadata": {},
   "cell_type": "markdown",
   "source": "### Brain cancer dataset",
   "id": "d913a5e01697de2a"
  },
  {
   "metadata": {},
   "cell_type": "code",
   "outputs": [],
   "execution_count": null,
   "source": [
    "train_pairs_brain, val_pairs_brain, test_pairs_brain = utils.split_dataset(utils.create_list_brain())\n",
    "print(f\"Number of training pairs: {len(train_pairs_brain)}\")\n",
    "print(f\"Number of val pairs: {len(val_pairs_brain)}\")\n",
    "print(f\"Number of test_pairs pairs: {len(test_pairs_brain)}\")"
   ],
   "id": "7fa676ff7c2a22a1"
  },
  {
   "metadata": {},
   "cell_type": "code",
   "outputs": [],
   "execution_count": null,
   "source": [
    "train_dataset_brain = utils.create_dataset(train_pairs_brain, augment=True)\n",
    "val_dataset_brain = utils.create_dataset(val_pairs_brain)\n",
    "test_dataset_brain = utils.create_dataset(test_pairs_brain)"
   ],
   "id": "3e3e6a20ccbe9279"
  },
  {
   "metadata": {},
   "cell_type": "code",
   "outputs": [],
   "execution_count": null,
   "source": [
    "train_dataset_brain = train_dataset_brain.shuffle(buffer_size=len(train_pairs_brain)).batch(batch_size)\n",
    "val_dataset_brain = val_dataset_brain.batch(batch_size)\n",
    "test_dataset_brain = test_dataset_brain.batch(batch_size)"
   ],
   "id": "37dc6c78f9795dfd"
  },
  {
   "metadata": {},
   "cell_type": "markdown",
   "source": "## Architecture definition",
   "id": "3b113d75af828a76"
  },
  {
   "metadata": {
    "ExecuteTime": {
     "end_time": "2025-02-03T19:35:47.188064Z",
     "start_time": "2025-02-03T19:35:47.183880Z"
    }
   },
   "cell_type": "code",
   "source": [
    "from keras import layers\n",
    "\n",
    "#batch normalization and activation\n",
    "def batchnorm_relu(input):\n",
    "    x = layers.BatchNormalization()(input)\n",
    "    x = layers.Activation(\"relu\")(x)\n",
    "    return x"
   ],
   "id": "e0e48738fca0f937",
   "outputs": [],
   "execution_count": 8
  },
  {
   "metadata": {
    "ExecuteTime": {
     "end_time": "2025-02-03T19:35:51.542786Z",
     "start_time": "2025-02-03T19:35:51.537356Z"
    }
   },
   "cell_type": "code",
   "source": [
    "#residual block\n",
    "def residual_block(input, filters, kernel_size=3, strides=1, initializer=\"he_normal\"):\n",
    "\n",
    "    regularizer = tf.keras.regularizers.L2(0.001)\n",
    "\n",
    "    #first convolutional layer\n",
    "    x = batchnorm_relu(input)\n",
    "    x = layers.Conv2D(filters, kernel_size, strides=strides, padding=\"same\", kernel_initializer=initializer, kernel_regularizer=regularizer)(x)\n",
    "\n",
    "    #second convolutional layer\n",
    "    x = batchnorm_relu(x)\n",
    "    x = layers.Conv2D(filters, kernel_size, strides=1, padding=\"same\", kernel_initializer=initializer)(x)\n",
    "\n",
    "    #shortcut connection\n",
    "    shortcut = layers.Conv2D(filters, kernel_size=1, strides=strides, padding=\"same\", kernel_initializer=initializer, kernel_regularizer=regularizer)(input)\n",
    "\n",
    "    output = layers.Add()([x, shortcut])\n",
    "    return output"
   ],
   "id": "3783cf18f5e73078",
   "outputs": [],
   "execution_count": 9
  },
  {
   "metadata": {
    "ExecuteTime": {
     "end_time": "2025-02-03T19:35:53.198243Z",
     "start_time": "2025-02-03T19:35:53.193667Z"
    }
   },
   "cell_type": "code",
   "source": [
    "#upsampling\n",
    "def decoder(input, skip, filters, kernel_size=3, initializer=\"he_normal\"):\n",
    "    #upsample the input\n",
    "    x = layers.UpSampling2D((2, 2))(input)\n",
    "\n",
    "    #concantenate the skip connection\n",
    "    x = layers.concatenate([x, skip], axis=-1)\n",
    "\n",
    "    #residual block\n",
    "    x = residual_block(x, filters, kernel_size, strides=1, initializer = initializer)\n",
    "\n",
    "    return x"
   ],
   "id": "62fec6c78a401d3d",
   "outputs": [],
   "execution_count": 10
  },
  {
   "metadata": {
    "ExecuteTime": {
     "end_time": "2025-02-03T19:41:25.607991Z",
     "start_time": "2025-02-03T19:41:25.599506Z"
    }
   },
   "cell_type": "code",
   "source": [
    "def res_unet(input_size, filters=16):\n",
    "    input = layers.Input(input_size)\n",
    "    regularizer = tf.keras.regularizers.L2(0.001)\n",
    "\n",
    "    #stem block\n",
    "    x = layers.Conv2D(filters, 3, strides=1, padding=\"same\", kernel_initializer=\"he_normal\", kernel_regularizer=regularizer)(input)\n",
    "    x = batchnorm_relu(x)\n",
    "    x = layers.Conv2D(filters, 3, strides=1, padding=\"same\", kernel_initializer=\"he_normal\", kernel_regularizer=regularizer)(x)\n",
    "    s = layers.Conv2D(filters, 1, strides=1, padding=\"same\", kernel_initializer=\"he_normal\", kernel_regularizer=regularizer)(x)\n",
    "    skip_1 = layers.add([x, s])\n",
    "\n",
    "    #encoder\n",
    "    skip_2 = residual_block(skip_1, filters * 2, strides=2)\n",
    "    skip_3 = residual_block(skip_2, filters * 4, strides=2)\n",
    "    skip_4 = residual_block(skip_3, filters * 8, strides=2)\n",
    "    # skip_5 = residual_block(skip_4, filters * 16, strides=2)\n",
    "\n",
    "    skip_4 = layers.Conv2D(filters * 16, kernel_size=(3, 3), strides=1, padding=\"same\", kernel_initializer=\"he_normal\", kernel_regularizer=regularizer)(skip_4)\n",
    "    skip_4 = batchnorm_relu(skip_4)\n",
    "    skip_4 = layers.Conv2D(filters * 16, kernel_size=(3, 3), strides=1, padding=\"same\", kernel_initializer=\"he_normal\", kernel_regularizer=regularizer)(skip_4)\n",
    "    skip_4 = batchnorm_relu(skip_4)\n",
    "\n",
    "    #decoder\n",
    "    # first_decoder = decoder(skip_5, skip_4, filters * 8, initializer=\"he_normal\")\n",
    "    second_decoder = decoder(skip_4, skip_3, filters * 4, initializer=\"he_normal\")\n",
    "    third_decoder = decoder(second_decoder, skip_2, filters * 2, initializer=\"he_normal\")\n",
    "    fourth_decoder = decoder(third_decoder, skip_1, filters, initializer=\"he_normal\")\n",
    "\n",
    "    output = layers.Conv2D(1, kernel_size=(1, 1), padding=\"same\", activation=\"sigmoid\")(fourth_decoder)\n",
    "\n",
    "    res_unet = tf.keras.Model(inputs=input, outputs=output)\n",
    "\n",
    "    return res_unet"
   ],
   "id": "3323fdd052eed6ff",
   "outputs": [],
   "execution_count": 18
  },
  {
   "metadata": {
    "ExecuteTime": {
     "end_time": "2025-02-03T19:35:59.861834Z",
     "start_time": "2025-02-03T19:35:59.841350Z"
    }
   },
   "cell_type": "code",
   "source": [
    "tf.keras.utils.get_custom_objects()[\"dice_loss\"] = utils.dice_loss\n",
    "tf.keras.utils.get_custom_objects()[\"bce_dice_loss\"] = utils.bce_dice_loss\n",
    "tf.keras.utils.get_custom_objects()[\"tversky_loss\"] = utils.tversky_loss\n",
    "tf.keras.utils.get_custom_objects()[\"dice_coefficient\"] = utils.dice_coefficient\n",
    "tf.keras.utils.get_custom_objects()[\"iou\"] = utils.iou"
   ],
   "id": "eb1593489996cedc",
   "outputs": [],
   "execution_count": 12
  },
  {
   "metadata": {
    "ExecuteTime": {
     "end_time": "2025-02-03T19:41:27.959435Z",
     "start_time": "2025-02-03T19:41:27.456293Z"
    }
   },
   "cell_type": "code",
   "source": [
    "basic_unet = res_unet(input_size=(256, 256, 3))\n",
    "\n",
    "optimizer = tf.keras.optimizers.Adam(learning_rate=1e-4)\n",
    "lr_adapter = tf.keras.callbacks.ReduceLROnPlateau(monitor=\"val_dice_coefficient\", mode = \"max\", factor=0.1, patience=7, min_lr=5e-6)\n",
    "early_stopping = tf.keras.callbacks.EarlyStopping(monitor=\"val_dice_coefficient\", mode= \"max\", patience=13, restore_best_weights=True)\n",
    "\n",
    "basic_unet.compile(optimizer=optimizer, loss=utils.tversky_loss, metrics=[utils.dice_coefficient, utils.iou, \"accuracy\"])"
   ],
   "id": "f0a6b66447ae2e0",
   "outputs": [],
   "execution_count": 19
  },
  {
   "metadata": {
    "ExecuteTime": {
     "end_time": "2025-02-03T19:41:29.768422Z",
     "start_time": "2025-02-03T19:41:29.611241Z"
    }
   },
   "cell_type": "code",
   "source": "basic_unet.summary()",
   "id": "ab812dd7118f6e45",
   "outputs": [
    {
     "name": "stdout",
     "output_type": "stream",
     "text": [
      "Model: \"model_1\"\n",
      "__________________________________________________________________________________________________\n",
      " Layer (type)                Output Shape                 Param #   Connected to                  \n",
      "==================================================================================================\n",
      " input_3 (InputLayer)        [(None, 256, 256, 3)]        0         []                            \n",
      "                                                                                                  \n",
      " conv2d_32 (Conv2D)          (None, 256, 256, 16)         448       ['input_3[0][0]']             \n",
      "                                                                                                  \n",
      " batch_normalization_20 (Ba  (None, 256, 256, 16)         64        ['conv2d_32[0][0]']           \n",
      " tchNormalization)                                                                                \n",
      "                                                                                                  \n",
      " activation_20 (Activation)  (None, 256, 256, 16)         0         ['batch_normalization_20[0][0]\n",
      "                                                                    ']                            \n",
      "                                                                                                  \n",
      " conv2d_33 (Conv2D)          (None, 256, 256, 16)         2320      ['activation_20[0][0]']       \n",
      "                                                                                                  \n",
      " conv2d_34 (Conv2D)          (None, 256, 256, 16)         272       ['conv2d_33[0][0]']           \n",
      "                                                                                                  \n",
      " add_9 (Add)                 (None, 256, 256, 16)         0         ['conv2d_33[0][0]',           \n",
      "                                                                     'conv2d_34[0][0]']           \n",
      "                                                                                                  \n",
      " batch_normalization_21 (Ba  (None, 256, 256, 16)         64        ['add_9[0][0]']               \n",
      " tchNormalization)                                                                                \n",
      "                                                                                                  \n",
      " activation_21 (Activation)  (None, 256, 256, 16)         0         ['batch_normalization_21[0][0]\n",
      "                                                                    ']                            \n",
      "                                                                                                  \n",
      " conv2d_35 (Conv2D)          (None, 128, 128, 32)         4640      ['activation_21[0][0]']       \n",
      "                                                                                                  \n",
      " batch_normalization_22 (Ba  (None, 128, 128, 32)         128       ['conv2d_35[0][0]']           \n",
      " tchNormalization)                                                                                \n",
      "                                                                                                  \n",
      " activation_22 (Activation)  (None, 128, 128, 32)         0         ['batch_normalization_22[0][0]\n",
      "                                                                    ']                            \n",
      "                                                                                                  \n",
      " conv2d_36 (Conv2D)          (None, 128, 128, 32)         9248      ['activation_22[0][0]']       \n",
      "                                                                                                  \n",
      " conv2d_37 (Conv2D)          (None, 128, 128, 32)         544       ['add_9[0][0]']               \n",
      "                                                                                                  \n",
      " add_10 (Add)                (None, 128, 128, 32)         0         ['conv2d_36[0][0]',           \n",
      "                                                                     'conv2d_37[0][0]']           \n",
      "                                                                                                  \n",
      " batch_normalization_23 (Ba  (None, 128, 128, 32)         128       ['add_10[0][0]']              \n",
      " tchNormalization)                                                                                \n",
      "                                                                                                  \n",
      " activation_23 (Activation)  (None, 128, 128, 32)         0         ['batch_normalization_23[0][0]\n",
      "                                                                    ']                            \n",
      "                                                                                                  \n",
      " conv2d_38 (Conv2D)          (None, 64, 64, 64)           18496     ['activation_23[0][0]']       \n",
      "                                                                                                  \n",
      " batch_normalization_24 (Ba  (None, 64, 64, 64)           256       ['conv2d_38[0][0]']           \n",
      " tchNormalization)                                                                                \n",
      "                                                                                                  \n",
      " activation_24 (Activation)  (None, 64, 64, 64)           0         ['batch_normalization_24[0][0]\n",
      "                                                                    ']                            \n",
      "                                                                                                  \n",
      " conv2d_39 (Conv2D)          (None, 64, 64, 64)           36928     ['activation_24[0][0]']       \n",
      "                                                                                                  \n",
      " conv2d_40 (Conv2D)          (None, 64, 64, 64)           2112      ['add_10[0][0]']              \n",
      "                                                                                                  \n",
      " add_11 (Add)                (None, 64, 64, 64)           0         ['conv2d_39[0][0]',           \n",
      "                                                                     'conv2d_40[0][0]']           \n",
      "                                                                                                  \n",
      " batch_normalization_25 (Ba  (None, 64, 64, 64)           256       ['add_11[0][0]']              \n",
      " tchNormalization)                                                                                \n",
      "                                                                                                  \n",
      " activation_25 (Activation)  (None, 64, 64, 64)           0         ['batch_normalization_25[0][0]\n",
      "                                                                    ']                            \n",
      "                                                                                                  \n",
      " conv2d_41 (Conv2D)          (None, 32, 32, 128)          73856     ['activation_25[0][0]']       \n",
      "                                                                                                  \n",
      " batch_normalization_26 (Ba  (None, 32, 32, 128)          512       ['conv2d_41[0][0]']           \n",
      " tchNormalization)                                                                                \n",
      "                                                                                                  \n",
      " activation_26 (Activation)  (None, 32, 32, 128)          0         ['batch_normalization_26[0][0]\n",
      "                                                                    ']                            \n",
      "                                                                                                  \n",
      " conv2d_42 (Conv2D)          (None, 32, 32, 128)          147584    ['activation_26[0][0]']       \n",
      "                                                                                                  \n",
      " conv2d_43 (Conv2D)          (None, 32, 32, 128)          8320      ['add_11[0][0]']              \n",
      "                                                                                                  \n",
      " add_12 (Add)                (None, 32, 32, 128)          0         ['conv2d_42[0][0]',           \n",
      "                                                                     'conv2d_43[0][0]']           \n",
      "                                                                                                  \n",
      " conv2d_44 (Conv2D)          (None, 32, 32, 256)          295168    ['add_12[0][0]']              \n",
      "                                                                                                  \n",
      " batch_normalization_27 (Ba  (None, 32, 32, 256)          1024      ['conv2d_44[0][0]']           \n",
      " tchNormalization)                                                                                \n",
      "                                                                                                  \n",
      " activation_27 (Activation)  (None, 32, 32, 256)          0         ['batch_normalization_27[0][0]\n",
      "                                                                    ']                            \n",
      "                                                                                                  \n",
      " conv2d_45 (Conv2D)          (None, 32, 32, 256)          590080    ['activation_27[0][0]']       \n",
      "                                                                                                  \n",
      " batch_normalization_28 (Ba  (None, 32, 32, 256)          1024      ['conv2d_45[0][0]']           \n",
      " tchNormalization)                                                                                \n",
      "                                                                                                  \n",
      " activation_28 (Activation)  (None, 32, 32, 256)          0         ['batch_normalization_28[0][0]\n",
      "                                                                    ']                            \n",
      "                                                                                                  \n",
      " up_sampling2d_3 (UpSamplin  (None, 64, 64, 256)          0         ['activation_28[0][0]']       \n",
      " g2D)                                                                                             \n",
      "                                                                                                  \n",
      " concatenate_3 (Concatenate  (None, 64, 64, 320)          0         ['up_sampling2d_3[0][0]',     \n",
      " )                                                                   'add_11[0][0]']              \n",
      "                                                                                                  \n",
      " batch_normalization_29 (Ba  (None, 64, 64, 320)          1280      ['concatenate_3[0][0]']       \n",
      " tchNormalization)                                                                                \n",
      "                                                                                                  \n",
      " activation_29 (Activation)  (None, 64, 64, 320)          0         ['batch_normalization_29[0][0]\n",
      "                                                                    ']                            \n",
      "                                                                                                  \n",
      " conv2d_46 (Conv2D)          (None, 64, 64, 64)           184384    ['activation_29[0][0]']       \n",
      "                                                                                                  \n",
      " batch_normalization_30 (Ba  (None, 64, 64, 64)           256       ['conv2d_46[0][0]']           \n",
      " tchNormalization)                                                                                \n",
      "                                                                                                  \n",
      " activation_30 (Activation)  (None, 64, 64, 64)           0         ['batch_normalization_30[0][0]\n",
      "                                                                    ']                            \n",
      "                                                                                                  \n",
      " conv2d_47 (Conv2D)          (None, 64, 64, 64)           36928     ['activation_30[0][0]']       \n",
      "                                                                                                  \n",
      " conv2d_48 (Conv2D)          (None, 64, 64, 64)           20544     ['concatenate_3[0][0]']       \n",
      "                                                                                                  \n",
      " add_13 (Add)                (None, 64, 64, 64)           0         ['conv2d_47[0][0]',           \n",
      "                                                                     'conv2d_48[0][0]']           \n",
      "                                                                                                  \n",
      " up_sampling2d_4 (UpSamplin  (None, 128, 128, 64)         0         ['add_13[0][0]']              \n",
      " g2D)                                                                                             \n",
      "                                                                                                  \n",
      " concatenate_4 (Concatenate  (None, 128, 128, 96)         0         ['up_sampling2d_4[0][0]',     \n",
      " )                                                                   'add_10[0][0]']              \n",
      "                                                                                                  \n",
      " batch_normalization_31 (Ba  (None, 128, 128, 96)         384       ['concatenate_4[0][0]']       \n",
      " tchNormalization)                                                                                \n",
      "                                                                                                  \n",
      " activation_31 (Activation)  (None, 128, 128, 96)         0         ['batch_normalization_31[0][0]\n",
      "                                                                    ']                            \n",
      "                                                                                                  \n",
      " conv2d_49 (Conv2D)          (None, 128, 128, 32)         27680     ['activation_31[0][0]']       \n",
      "                                                                                                  \n",
      " batch_normalization_32 (Ba  (None, 128, 128, 32)         128       ['conv2d_49[0][0]']           \n",
      " tchNormalization)                                                                                \n",
      "                                                                                                  \n",
      " activation_32 (Activation)  (None, 128, 128, 32)         0         ['batch_normalization_32[0][0]\n",
      "                                                                    ']                            \n",
      "                                                                                                  \n",
      " conv2d_50 (Conv2D)          (None, 128, 128, 32)         9248      ['activation_32[0][0]']       \n",
      "                                                                                                  \n",
      " conv2d_51 (Conv2D)          (None, 128, 128, 32)         3104      ['concatenate_4[0][0]']       \n",
      "                                                                                                  \n",
      " add_14 (Add)                (None, 128, 128, 32)         0         ['conv2d_50[0][0]',           \n",
      "                                                                     'conv2d_51[0][0]']           \n",
      "                                                                                                  \n",
      " up_sampling2d_5 (UpSamplin  (None, 256, 256, 32)         0         ['add_14[0][0]']              \n",
      " g2D)                                                                                             \n",
      "                                                                                                  \n",
      " concatenate_5 (Concatenate  (None, 256, 256, 48)         0         ['up_sampling2d_5[0][0]',     \n",
      " )                                                                   'add_9[0][0]']               \n",
      "                                                                                                  \n",
      " batch_normalization_33 (Ba  (None, 256, 256, 48)         192       ['concatenate_5[0][0]']       \n",
      " tchNormalization)                                                                                \n",
      "                                                                                                  \n",
      " activation_33 (Activation)  (None, 256, 256, 48)         0         ['batch_normalization_33[0][0]\n",
      "                                                                    ']                            \n",
      "                                                                                                  \n",
      " conv2d_52 (Conv2D)          (None, 256, 256, 16)         6928      ['activation_33[0][0]']       \n",
      "                                                                                                  \n",
      " batch_normalization_34 (Ba  (None, 256, 256, 16)         64        ['conv2d_52[0][0]']           \n",
      " tchNormalization)                                                                                \n",
      "                                                                                                  \n",
      " activation_34 (Activation)  (None, 256, 256, 16)         0         ['batch_normalization_34[0][0]\n",
      "                                                                    ']                            \n",
      "                                                                                                  \n",
      " conv2d_53 (Conv2D)          (None, 256, 256, 16)         2320      ['activation_34[0][0]']       \n",
      "                                                                                                  \n",
      " conv2d_54 (Conv2D)          (None, 256, 256, 16)         784       ['concatenate_5[0][0]']       \n",
      "                                                                                                  \n",
      " add_15 (Add)                (None, 256, 256, 16)         0         ['conv2d_53[0][0]',           \n",
      "                                                                     'conv2d_54[0][0]']           \n",
      "                                                                                                  \n",
      " conv2d_55 (Conv2D)          (None, 256, 256, 1)          17        ['add_15[0][0]']              \n",
      "                                                                                                  \n",
      "==================================================================================================\n",
      "Total params: 1487713 (5.68 MB)\n",
      "Trainable params: 1484833 (5.66 MB)\n",
      "Non-trainable params: 2880 (11.25 KB)\n",
      "__________________________________________________________________________________________________\n"
     ]
    }
   ],
   "execution_count": 20
  },
  {
   "metadata": {
    "ExecuteTime": {
     "end_time": "2025-02-03T19:47:50.512136Z",
     "start_time": "2025-02-03T19:41:37.792666Z"
    }
   },
   "cell_type": "code",
   "source": "history = basic_unet.fit(train_dataset_breast, validation_data=val_dataset_breast, epochs=100, callbacks=[lr_adapter, early_stopping])",
   "id": "37364e4c2a77f0a",
   "outputs": [
    {
     "name": "stdout",
     "output_type": "stream",
     "text": [
      "Epoch 1/100\n",
      "57/57 [==============================] - 28s 221ms/step - loss: 3.0804 - dice_coefficient: 0.2376 - iou: 0.1371 - accuracy: 0.4129 - val_loss: 3.0626 - val_dice_coefficient: 0.1817 - val_iou: 0.1022 - val_accuracy: 0.4136 - lr: 1.0000e-04\n",
      "Epoch 2/100\n",
      "57/57 [==============================] - 8s 119ms/step - loss: 2.8942 - dice_coefficient: 0.2837 - iou: 0.1687 - accuracy: 0.5426 - val_loss: 2.9325 - val_dice_coefficient: 0.1707 - val_iou: 0.0952 - val_accuracy: 0.2779 - lr: 1.0000e-04\n",
      "Epoch 3/100\n",
      "57/57 [==============================] - 8s 120ms/step - loss: 2.7291 - dice_coefficient: 0.3264 - iou: 0.1987 - accuracy: 0.6526 - val_loss: 2.8137 - val_dice_coefficient: 0.1757 - val_iou: 0.0984 - val_accuracy: 0.3025 - lr: 1.0000e-04\n",
      "Epoch 4/100\n",
      "57/57 [==============================] - 8s 121ms/step - loss: 2.6000 - dice_coefficient: 0.3635 - iou: 0.2258 - accuracy: 0.7279 - val_loss: 2.7104 - val_dice_coefficient: 0.1863 - val_iou: 0.1051 - val_accuracy: 0.3685 - lr: 1.0000e-04\n",
      "Epoch 5/100\n",
      "57/57 [==============================] - 8s 121ms/step - loss: 2.5097 - dice_coefficient: 0.3797 - iou: 0.2394 - accuracy: 0.7626 - val_loss: 2.6408 - val_dice_coefficient: 0.1817 - val_iou: 0.1021 - val_accuracy: 0.3193 - lr: 1.0000e-04\n",
      "Epoch 6/100\n",
      "57/57 [==============================] - 9s 127ms/step - loss: 2.4229 - dice_coefficient: 0.3896 - iou: 0.2453 - accuracy: 0.7574 - val_loss: 2.5414 - val_dice_coefficient: 0.2084 - val_iou: 0.1190 - val_accuracy: 0.4544 - lr: 1.0000e-04\n",
      "Epoch 7/100\n",
      "57/57 [==============================] - 9s 133ms/step - loss: 2.3411 - dice_coefficient: 0.4111 - iou: 0.2643 - accuracy: 0.7714 - val_loss: 2.4167 - val_dice_coefficient: 0.2741 - val_iou: 0.1626 - val_accuracy: 0.7007 - lr: 1.0000e-04\n",
      "Epoch 8/100\n",
      "57/57 [==============================] - 10s 141ms/step - loss: 2.2893 - dice_coefficient: 0.4120 - iou: 0.2640 - accuracy: 0.7874 - val_loss: 2.4101 - val_dice_coefficient: 0.2237 - val_iou: 0.1290 - val_accuracy: 0.5168 - lr: 1.0000e-04\n",
      "Epoch 9/100\n",
      "57/57 [==============================] - 10s 151ms/step - loss: 2.2223 - dice_coefficient: 0.4249 - iou: 0.2750 - accuracy: 0.7892 - val_loss: 2.3162 - val_dice_coefficient: 0.2952 - val_iou: 0.1763 - val_accuracy: 0.7884 - lr: 1.0000e-04\n",
      "Epoch 10/100\n",
      "57/57 [==============================] - 10s 148ms/step - loss: 2.1560 - dice_coefficient: 0.4555 - iou: 0.2995 - accuracy: 0.8257 - val_loss: 2.1767 - val_dice_coefficient: 0.3926 - val_iou: 0.2524 - val_accuracy: 0.8663 - lr: 1.0000e-04\n",
      "Epoch 11/100\n",
      "57/57 [==============================] - 10s 152ms/step - loss: 2.0909 - dice_coefficient: 0.4699 - iou: 0.3138 - accuracy: 0.8263 - val_loss: 2.2148 - val_dice_coefficient: 0.3596 - val_iou: 0.2234 - val_accuracy: 0.8916 - lr: 1.0000e-04\n",
      "Epoch 12/100\n",
      "57/57 [==============================] - 10s 141ms/step - loss: 2.0540 - dice_coefficient: 0.4663 - iou: 0.3094 - accuracy: 0.8236 - val_loss: 2.1363 - val_dice_coefficient: 0.4184 - val_iou: 0.2684 - val_accuracy: 0.9104 - lr: 1.0000e-04\n",
      "Epoch 13/100\n",
      "57/57 [==============================] - 10s 144ms/step - loss: 2.0001 - dice_coefficient: 0.4740 - iou: 0.3179 - accuracy: 0.8221 - val_loss: 2.0589 - val_dice_coefficient: 0.3777 - val_iou: 0.2412 - val_accuracy: 0.8489 - lr: 1.0000e-04\n",
      "Epoch 14/100\n",
      "57/57 [==============================] - 11s 158ms/step - loss: 1.9705 - dice_coefficient: 0.4699 - iou: 0.3147 - accuracy: 0.8205 - val_loss: 2.1287 - val_dice_coefficient: 0.3096 - val_iou: 0.1859 - val_accuracy: 0.8357 - lr: 1.0000e-04\n",
      "Epoch 15/100\n",
      "57/57 [==============================] - 10s 153ms/step - loss: 1.9156 - dice_coefficient: 0.5036 - iou: 0.3438 - accuracy: 0.8452 - val_loss: 1.9900 - val_dice_coefficient: 0.4069 - val_iou: 0.2634 - val_accuracy: 0.8822 - lr: 1.0000e-04\n",
      "Epoch 16/100\n",
      "57/57 [==============================] - 10s 156ms/step - loss: 1.8592 - dice_coefficient: 0.5217 - iou: 0.3581 - accuracy: 0.8480 - val_loss: 1.9775 - val_dice_coefficient: 0.3799 - val_iou: 0.2398 - val_accuracy: 0.8583 - lr: 1.0000e-04\n",
      "Epoch 17/100\n",
      "57/57 [==============================] - 11s 159ms/step - loss: 1.8544 - dice_coefficient: 0.5108 - iou: 0.3494 - accuracy: 0.8568 - val_loss: 1.9829 - val_dice_coefficient: 0.4149 - val_iou: 0.2686 - val_accuracy: 0.9174 - lr: 1.0000e-04\n",
      "Epoch 18/100\n",
      "57/57 [==============================] - 11s 159ms/step - loss: 1.8051 - dice_coefficient: 0.5267 - iou: 0.3671 - accuracy: 0.8585 - val_loss: 1.8750 - val_dice_coefficient: 0.4162 - val_iou: 0.2713 - val_accuracy: 0.8697 - lr: 1.0000e-04\n",
      "Epoch 19/100\n",
      "57/57 [==============================] - 11s 160ms/step - loss: 1.7551 - dice_coefficient: 0.5710 - iou: 0.4043 - accuracy: 0.8819 - val_loss: 1.8910 - val_dice_coefficient: 0.3745 - val_iou: 0.2381 - val_accuracy: 0.8477 - lr: 1.0000e-04\n",
      "Epoch 20/100\n",
      "57/57 [==============================] - 11s 160ms/step - loss: 1.7203 - dice_coefficient: 0.5697 - iou: 0.4047 - accuracy: 0.8687 - val_loss: 1.8379 - val_dice_coefficient: 0.4399 - val_iou: 0.2913 - val_accuracy: 0.8883 - lr: 1.0000e-05\n",
      "Epoch 21/100\n",
      "57/57 [==============================] - 10s 153ms/step - loss: 1.7041 - dice_coefficient: 0.5959 - iou: 0.4331 - accuracy: 0.8877 - val_loss: 1.8798 - val_dice_coefficient: 0.4482 - val_iou: 0.2941 - val_accuracy: 0.9115 - lr: 1.0000e-05\n",
      "Epoch 22/100\n",
      "57/57 [==============================] - 11s 160ms/step - loss: 1.6935 - dice_coefficient: 0.6078 - iou: 0.4442 - accuracy: 0.8943 - val_loss: 1.8626 - val_dice_coefficient: 0.4484 - val_iou: 0.2945 - val_accuracy: 0.9057 - lr: 1.0000e-05\n",
      "Epoch 23/100\n",
      "57/57 [==============================] - 10s 156ms/step - loss: 1.6823 - dice_coefficient: 0.6237 - iou: 0.4588 - accuracy: 0.9025 - val_loss: 1.8666 - val_dice_coefficient: 0.4447 - val_iou: 0.2932 - val_accuracy: 0.9102 - lr: 1.0000e-05\n",
      "Epoch 24/100\n",
      "57/57 [==============================] - 11s 159ms/step - loss: 1.6837 - dice_coefficient: 0.6187 - iou: 0.4548 - accuracy: 0.8994 - val_loss: 1.8761 - val_dice_coefficient: 0.4422 - val_iou: 0.2913 - val_accuracy: 0.9136 - lr: 1.0000e-05\n",
      "Epoch 25/100\n",
      "57/57 [==============================] - 11s 162ms/step - loss: 1.6709 - dice_coefficient: 0.6260 - iou: 0.4628 - accuracy: 0.8998 - val_loss: 1.8621 - val_dice_coefficient: 0.4298 - val_iou: 0.2802 - val_accuracy: 0.8985 - lr: 1.0000e-05\n",
      "Epoch 26/100\n",
      "57/57 [==============================] - 11s 161ms/step - loss: 1.6696 - dice_coefficient: 0.6264 - iou: 0.4654 - accuracy: 0.9016 - val_loss: 1.8539 - val_dice_coefficient: 0.4257 - val_iou: 0.2770 - val_accuracy: 0.8921 - lr: 1.0000e-05\n",
      "Epoch 27/100\n",
      "57/57 [==============================] - 10s 157ms/step - loss: 1.6651 - dice_coefficient: 0.6323 - iou: 0.4707 - accuracy: 0.9046 - val_loss: 1.8378 - val_dice_coefficient: 0.4318 - val_iou: 0.2835 - val_accuracy: 0.8908 - lr: 1.0000e-05\n",
      "Epoch 28/100\n",
      "57/57 [==============================] - 11s 159ms/step - loss: 1.6634 - dice_coefficient: 0.6306 - iou: 0.4705 - accuracy: 0.9048 - val_loss: 1.8692 - val_dice_coefficient: 0.4322 - val_iou: 0.2832 - val_accuracy: 0.9089 - lr: 1.0000e-05\n",
      "Epoch 29/100\n",
      "57/57 [==============================] - 10s 156ms/step - loss: 1.6531 - dice_coefficient: 0.6408 - iou: 0.4789 - accuracy: 0.9051 - val_loss: 1.8466 - val_dice_coefficient: 0.4391 - val_iou: 0.2895 - val_accuracy: 0.9044 - lr: 1.0000e-05\n",
      "Epoch 30/100\n",
      "57/57 [==============================] - 10s 157ms/step - loss: 1.6430 - dice_coefficient: 0.6482 - iou: 0.4890 - accuracy: 0.9100 - val_loss: 1.8406 - val_dice_coefficient: 0.4303 - val_iou: 0.2813 - val_accuracy: 0.8934 - lr: 5.0000e-06\n",
      "Epoch 31/100\n",
      "57/57 [==============================] - 11s 157ms/step - loss: 1.6376 - dice_coefficient: 0.6525 - iou: 0.4913 - accuracy: 0.9104 - val_loss: 1.8323 - val_dice_coefficient: 0.4110 - val_iou: 0.2661 - val_accuracy: 0.8679 - lr: 5.0000e-06\n",
      "Epoch 32/100\n",
      "57/57 [==============================] - 11s 159ms/step - loss: 1.6340 - dice_coefficient: 0.6553 - iou: 0.4927 - accuracy: 0.9117 - val_loss: 1.8407 - val_dice_coefficient: 0.4101 - val_iou: 0.2647 - val_accuracy: 0.8737 - lr: 5.0000e-06\n",
      "Epoch 33/100\n",
      "57/57 [==============================] - 11s 158ms/step - loss: 1.6366 - dice_coefficient: 0.6570 - iou: 0.4985 - accuracy: 0.9126 - val_loss: 1.8438 - val_dice_coefficient: 0.4253 - val_iou: 0.2771 - val_accuracy: 0.8930 - lr: 5.0000e-06\n",
      "Epoch 34/100\n",
      "57/57 [==============================] - 11s 157ms/step - loss: 1.6329 - dice_coefficient: 0.6591 - iou: 0.4997 - accuracy: 0.9142 - val_loss: 1.8377 - val_dice_coefficient: 0.4260 - val_iou: 0.2782 - val_accuracy: 0.8908 - lr: 5.0000e-06\n",
      "Epoch 35/100\n",
      "57/57 [==============================] - 10s 148ms/step - loss: 1.6226 - dice_coefficient: 0.6665 - iou: 0.5062 - accuracy: 0.9134 - val_loss: 1.8283 - val_dice_coefficient: 0.4167 - val_iou: 0.2708 - val_accuracy: 0.8750 - lr: 5.0000e-06\n"
     ]
    }
   ],
   "execution_count": 21
  }
 ],
 "metadata": {
  "kernelspec": {
   "display_name": "Python 3",
   "language": "python",
   "name": "python3"
  },
  "language_info": {
   "codemirror_mode": {
    "name": "ipython",
    "version": 2
   },
   "file_extension": ".py",
   "mimetype": "text/x-python",
   "name": "python",
   "nbconvert_exporter": "python",
   "pygments_lexer": "ipython2",
   "version": "2.7.6"
  }
 },
 "nbformat": 4,
 "nbformat_minor": 5
}
