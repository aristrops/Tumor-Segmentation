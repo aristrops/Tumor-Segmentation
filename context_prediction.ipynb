{
 "cells": [
  {
   "cell_type": "code",
   "id": "initial_id",
   "metadata": {
    "collapsed": true,
    "ExecuteTime": {
     "end_time": "2025-01-07T16:27:23.116506Z",
     "start_time": "2025-01-07T16:27:14.119563Z"
    }
   },
   "source": [
    "import tensorflow as tf\n",
    "import matplotlib.pyplot as plt\n",
    "import numpy as np\n",
    "import os, time, random\n",
    "import random\n",
    "import cv2"
   ],
   "outputs": [],
   "execution_count": 2
  },
  {
   "metadata": {
    "ExecuteTime": {
     "end_time": "2025-01-07T16:27:25.406068Z",
     "start_time": "2025-01-07T16:27:24.138210Z"
    }
   },
   "cell_type": "code",
   "source": [
    "train_data = np.load(r\"train_data.npy\")\n",
    "val_data = np.load(r\"val_data.npy\")\n",
    "test_data = np.load(r\"test_data.npy\")"
   ],
   "id": "2895873a4fe125f4",
   "outputs": [],
   "execution_count": 3
  },
  {
   "metadata": {
    "ExecuteTime": {
     "end_time": "2025-01-07T16:27:27.137578Z",
     "start_time": "2025-01-07T16:27:27.121930Z"
    }
   },
   "cell_type": "code",
   "source": "train_data.shape",
   "id": "bc8ed7433b2e4847",
   "outputs": [
    {
     "data": {
      "text/plain": [
       "(100000, 64, 64, 3)"
      ]
     },
     "execution_count": 4,
     "metadata": {},
     "output_type": "execute_result"
    }
   ],
   "execution_count": 4
  },
  {
   "metadata": {},
   "cell_type": "markdown",
   "source": "### Create patches and preprocess them",
   "id": "70684802f93caa70"
  },
  {
   "metadata": {},
   "cell_type": "markdown",
   "source": "Our images are of size 64x64, so we have to choose an appropriate size for the patch. We maintain pretty much the same number of patches within a single images (roughly around 32 in the original paper) by choosing 12x12 patches. We allow for a gap of around half the size of the patch and we jitter the location of the patch by -2 to 2 pixels in each direction.",
   "id": "c33c9ef54f603876"
  },
  {
   "metadata": {
    "ExecuteTime": {
     "end_time": "2025-01-07T17:01:09.020301Z",
     "start_time": "2025-01-07T17:01:08.988343Z"
    }
   },
   "cell_type": "code",
   "source": [
    "def sample_patch(x, y, grid_start_x, grid_start_y, patch_size, gap_size, jitter_size, image_size):\n",
    "\n",
    "    #initial position of the patch\n",
    "    x_start = grid_start_x + x * (patch_size[1] + gap_size) + random.randint(-jitter_size, jitter_size)\n",
    "    y_start = grid_start_y + y * (patch_size[0] + gap_size) + random.randint(-jitter_size, jitter_size)\n",
    "\n",
    "    #ensure the patch stays inside image boundaries\n",
    "    x_start_2 = min(max(x_start, 0), image_size[1] - patch_size[1])\n",
    "    y_start_2 = min(max(y_start, 0), image_size[0] - patch_size[0])\n",
    "\n",
    "    #return the coordinates of the upper-left corner\n",
    "    return (x_start_2, y_start_2)"
   ],
   "id": "befbbaf0adfc86bc",
   "outputs": [],
   "execution_count": 5
  },
  {
   "metadata": {
    "ExecuteTime": {
     "end_time": "2025-01-07T17:28:26.826163Z",
     "start_time": "2025-01-07T17:28:26.794230Z"
    }
   },
   "cell_type": "code",
   "source": [
    "def preprocess_patch(patch):\n",
    "    #randomly drop all but one color channel\n",
    "    kept_channel = random.randint(0, 2)\n",
    "\n",
    "    mean = [123.68, 116.779, 103.939]\n",
    "\n",
    "    for i in range(0, 3):\n",
    "        if i == kept_channel:\n",
    "            patch[:,:,i] -= np.mean(patch[:,:,i])\n",
    "        else:\n",
    "            patch[:,:,i] = np.random.uniform(0, 1, (patch.shape[0], patch.shape[1])) - 0.5\n",
    "\n",
    "    #normalize mean and variance\n",
    "    patch = patch/np.sqrt(np.mean(patch**2))*50\n",
    "\n",
    "    return patch"
   ],
   "id": "44a0665265a98985",
   "outputs": [],
   "execution_count": 1
  },
  {
   "metadata": {},
   "cell_type": "code",
   "outputs": [],
   "execution_count": null,
   "source": "",
   "id": "c8dbf3468ac94bda"
  }
 ],
 "metadata": {
  "kernelspec": {
   "display_name": "Python 3",
   "language": "python",
   "name": "python3"
  },
  "language_info": {
   "codemirror_mode": {
    "name": "ipython",
    "version": 2
   },
   "file_extension": ".py",
   "mimetype": "text/x-python",
   "name": "python",
   "nbconvert_exporter": "python",
   "pygments_lexer": "ipython2",
   "version": "2.7.6"
  }
 },
 "nbformat": 4,
 "nbformat_minor": 5
}
