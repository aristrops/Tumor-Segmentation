{
 "cells": [
  {
   "cell_type": "code",
   "id": "eb5aea72",
   "metadata": {
    "ExecuteTime": {
     "end_time": "2025-02-15T18:58:37.505529Z",
     "start_time": "2025-02-15T18:58:32.645662Z"
    }
   },
   "source": [
    "import numpy as np\n",
    "import utils\n",
    "import network_layers\n",
    "import tensorflow as tf\n",
    "from keras import layers, Model"
   ],
   "outputs": [],
   "execution_count": 1
  },
  {
   "cell_type": "code",
   "id": "c95345b7",
   "metadata": {
    "ExecuteTime": {
     "end_time": "2025-02-15T18:58:41.991669Z",
     "start_time": "2025-02-15T18:58:41.986842Z"
    }
   },
   "source": [
    "#set the necessary seeds\n",
    "seed = 42\n",
    "tf.random.set_seed(seed)\n",
    "np.random.seed(seed)"
   ],
   "outputs": [],
   "execution_count": 3
  },
  {
   "cell_type": "markdown",
   "id": "60030ee7",
   "metadata": {},
   "source": "## Import datasets"
  },
  {
   "cell_type": "markdown",
   "id": "20d188a5",
   "metadata": {},
   "source": [
    "### Breast cancer dataset"
   ]
  },
  {
   "cell_type": "code",
   "id": "a6e5aef3",
   "metadata": {
    "ExecuteTime": {
     "end_time": "2025-02-15T18:58:44.210063Z",
     "start_time": "2025-02-15T18:58:44.183545Z"
    }
   },
   "source": [
    "train_pairs_breast, val_pairs_breast, test_pairs_breast = utils.split_dataset(utils.create_list())\n",
    "print(f\"Number of training pairs: {len(train_pairs_breast)}\")\n",
    "print(f\"Number of val pairs: {len(val_pairs_breast)}\")\n",
    "print(f\"Number of test_pairs pairs: {len(test_pairs_breast)}\")"
   ],
   "outputs": [
    {
     "name": "stdout",
     "output_type": "stream",
     "text": [
      "Number of training pairs: 388\n",
      "Number of val pairs: 129\n",
      "Number of test_pairs pairs: 130\n"
     ]
    }
   ],
   "execution_count": 4
  },
  {
   "cell_type": "code",
   "id": "eb0d7347",
   "metadata": {
    "ExecuteTime": {
     "end_time": "2025-02-15T18:58:46.663698Z",
     "start_time": "2025-02-15T18:58:45.592929Z"
    }
   },
   "source": [
    "train_dataset_breast = utils.create_dataset(train_pairs_breast, augment=False)\n",
    "val_dataset_breast = utils.create_dataset(val_pairs_breast)\n",
    "test_dataset_breast = utils.create_dataset(test_pairs_breast)"
   ],
   "outputs": [],
   "execution_count": 5
  },
  {
   "cell_type": "code",
   "id": "f5de0ddf",
   "metadata": {
    "ExecuteTime": {
     "end_time": "2025-02-15T18:58:47.685853Z",
     "start_time": "2025-02-15T18:58:47.681273Z"
    }
   },
   "source": "batch_size = 8",
   "outputs": [],
   "execution_count": 6
  },
  {
   "cell_type": "code",
   "id": "d76c3727",
   "metadata": {
    "ExecuteTime": {
     "end_time": "2025-02-15T18:58:50.076818Z",
     "start_time": "2025-02-15T18:58:49.063890Z"
    }
   },
   "source": [
    "train_dataset_breast = train_dataset_breast.shuffle(buffer_size=len(train_pairs_breast)).batch(batch_size)\n",
    "val_dataset_breast = val_dataset_breast.batch(batch_size)\n",
    "test_dataset_breast = test_dataset_breast.batch(batch_size)"
   ],
   "outputs": [],
   "execution_count": 7
  },
  {
   "cell_type": "markdown",
   "id": "c3da1d9b",
   "metadata": {},
   "source": [
    "### Skin cancer dataset"
   ]
  },
  {
   "cell_type": "code",
   "id": "c1ed7daf",
   "metadata": {
    "ExecuteTime": {
     "end_time": "2025-02-13T19:29:39.375164Z",
     "start_time": "2025-02-13T19:29:38.003981Z"
    }
   },
   "source": [
    "train_dataset_skin = utils.create_dataset(utils.create_list_skin(\"Datasets/ISIC-2017_Training_Data\", \"Datasets/ISIC-2017_Training_Part1_GroundTruth\"), augment=True)\n",
    "val_dataset_skin = utils.create_dataset(utils.create_list_skin(\"Datasets/ISIC-2017_Validation_Data\", \"Datasets/ISIC-2017_Validation_Part1_GroundTruth\"))\n",
    "test_dataset_skin =utils. create_dataset(utils.create_list_skin(\"Datasets/ISIC-2017_Test_v2_Data\", \"Datasets/ISIC-2017_Test_v2_Part1_GroundTruth\"))"
   ],
   "outputs": [],
   "execution_count": 4
  },
  {
   "cell_type": "code",
   "id": "ee77ae12",
   "metadata": {
    "ExecuteTime": {
     "end_time": "2025-02-13T19:29:46.542996Z",
     "start_time": "2025-02-13T19:29:46.525508Z"
    }
   },
   "source": [
    "train_dataset_skin = train_dataset_skin.shuffle(buffer_size=2000).batch(batch_size)\n",
    "val_dataset_skin = val_dataset_skin.batch(batch_size)\n",
    "test_dataset_skin = test_dataset_skin.batch(batch_size)"
   ],
   "outputs": [],
   "execution_count": 7
  },
  {
   "cell_type": "markdown",
   "id": "d5dc33e8",
   "metadata": {},
   "source": [
    "### Brain cancer dataset"
   ]
  },
  {
   "cell_type": "code",
   "id": "f0140685",
   "metadata": {
    "ExecuteTime": {
     "end_time": "2025-02-14T11:26:31.946034Z",
     "start_time": "2025-02-14T11:26:31.906818Z"
    }
   },
   "source": [
    "train_pairs_brain, val_pairs_brain, test_pairs_brain = utils.split_dataset(utils.create_list_brain())\n",
    "print(f\"Number of training pairs: {len(train_pairs_brain)}\")\n",
    "print(f\"Number of val pairs: {len(val_pairs_brain)}\")\n",
    "print(f\"Number of test_pairs pairs: {len(test_pairs_brain)}\")"
   ],
   "outputs": [
    {
     "name": "stdout",
     "output_type": "stream",
     "text": [
      "Number of training pairs: 1838\n",
      "Number of val pairs: 613\n",
      "Number of test_pairs pairs: 613\n"
     ]
    }
   ],
   "execution_count": 4
  },
  {
   "cell_type": "code",
   "id": "e0c56ed9",
   "metadata": {
    "ExecuteTime": {
     "end_time": "2025-02-14T11:26:35.167319Z",
     "start_time": "2025-02-14T11:26:33.813432Z"
    }
   },
   "source": [
    "train_dataset_brain = utils.create_dataset(train_pairs_brain, augment=True)\n",
    "val_dataset_brain = utils.create_dataset(val_pairs_brain)\n",
    "test_dataset_brain = utils.create_dataset(test_pairs_brain)"
   ],
   "outputs": [],
   "execution_count": 5
  },
  {
   "cell_type": "code",
   "id": "991be315",
   "metadata": {
    "ExecuteTime": {
     "end_time": "2025-02-14T11:26:38.954924Z",
     "start_time": "2025-02-14T11:26:37.851467Z"
    }
   },
   "source": [
    "train_dataset_brain = train_dataset_brain.shuffle(buffer_size=len(train_pairs_brain)).batch(batch_size)\n",
    "val_dataset_brain = val_dataset_brain.batch(batch_size)\n",
    "test_dataset_brain = test_dataset_brain.batch(batch_size)"
   ],
   "outputs": [],
   "execution_count": 7
  },
  {
   "cell_type": "markdown",
   "id": "2de71631",
   "metadata": {},
   "source": [
    "## Architecture definition"
   ]
  },
  {
   "metadata": {
    "ExecuteTime": {
     "end_time": "2025-02-15T18:58:55.056529Z",
     "start_time": "2025-02-15T18:58:55.042630Z"
    }
   },
   "cell_type": "code",
   "source": [
    "def UCTransNet(input_shape=(256, 256, 3), num_filters=16):\n",
    "    inputs = layers.Input(shape=input_shape)\n",
    "\n",
    "    #encoder (as in the original U-Net)\n",
    "    first_conv = network_layers.convolutional_layer(inputs, num_filters)\n",
    "    first_pool = layers.MaxPooling2D(pool_size=(2, 2))(first_conv)\n",
    "\n",
    "    second_conv = network_layers.convolutional_layer(first_pool, num_filters * 2)\n",
    "    second_pool = layers.MaxPooling2D(pool_size=(2, 2))(second_conv)\n",
    "\n",
    "    third_conv = network_layers.convolutional_layer(second_pool, num_filters * 4)\n",
    "    third_pool = layers.MaxPooling2D(pool_size=(2, 2))(third_conv)\n",
    "\n",
    "    fourth_conv = network_layers.convolutional_layer(third_pool, num_filters * 8)\n",
    "    fourth_pool = layers.MaxPooling2D(pool_size=(2, 2))(fourth_conv)\n",
    "\n",
    "    #bottleneck\n",
    "    fifth_conv = network_layers.convolutional_layer(fourth_pool, num_filters * 16)\n",
    "\n",
    "    #apply ChannelTransformer on the bottleneck\n",
    "    transformer_input = layers.Conv2D(256, (1, 1), padding='same')(fifth_conv)\n",
    "    transformer_output = network_layers.ChannelTransformer(num_heads=4, embed_dim=256, mlp_dim=512)(transformer_input)\n",
    "\n",
    "    #decoder\n",
    "    d1 = layers.UpSampling2D((2, 2), interpolation = \"bilinear\")(transformer_output)\n",
    "    trans_up1 = layers.UpSampling2D((2, 2), interpolation = \"bilinear\")(transformer_output)\n",
    "    trans_proj1 = layers.Conv2D(num_filters * 8, (1,1), padding='same')(trans_up1)\n",
    "    fused1 = network_layers.CCA(F_g=num_filters * 8, F_x=num_filters * 8)(d1, trans_proj1)\n",
    "    concat1 = layers.Concatenate()([d1, fused1])\n",
    "    dec1 = network_layers.convolutional_layer(concat1, num_filters * 8, dropout = True)\n",
    "\n",
    "    d2 = layers.UpSampling2D((2, 2), interpolation = \"bilinear\")(dec1)\n",
    "    trans_up2 = layers.UpSampling2D((2, 2), interpolation = \"bilinear\")(trans_proj1)\n",
    "    trans_proj2 = layers.Conv2D(num_filters * 4, (1,1), padding='same')(trans_up2)\n",
    "    fused2 = network_layers.CCA(F_g=num_filters * 4, F_x=num_filters * 4)(d2, trans_proj2)\n",
    "    concat2 = layers.Concatenate()([d2, fused2])\n",
    "    dec2 = network_layers.convolutional_layer(concat2, num_filters * 4, dropout = True)\n",
    "\n",
    "    d3 = layers.UpSampling2D((2, 2), interpolation = \"bilinear\")(dec2)\n",
    "    trans_up3 = layers.UpSampling2D((2, 2), interpolation = \"bilinear\")(trans_proj2)\n",
    "    trans_proj3 = layers.Conv2D(num_filters * 2, (1,1), padding='same')(trans_up3)\n",
    "    fused3 = network_layers.CCA(F_g=num_filters * 2, F_x=num_filters * 2)(d3, trans_proj3)\n",
    "    concat3 = layers.Concatenate()([d3, fused3])\n",
    "    dec3 = network_layers.convolutional_layer(concat3, num_filters * 2, dropout = True)\n",
    "\n",
    "    d4 = layers.UpSampling2D((2, 2), interpolation = \"bilinear\")(dec3)\n",
    "    trans_up4 = layers.UpSampling2D((2, 2), interpolation = \"bilinear\")(trans_proj3)\n",
    "    trans_proj4 = layers.Conv2D(num_filters, (1,1), padding='same')(trans_up4)\n",
    "    fused4 = network_layers.CCA(F_g=num_filters, F_x=num_filters)(d4, trans_proj4)\n",
    "    concat4 = layers.Concatenate()([d4, fused4])\n",
    "    dec4 = network_layers.convolutional_layer(concat4, num_filters, dropout = True)\n",
    "\n",
    "    #output\n",
    "    output = layers.Conv2D(1, (1, 1), activation=\"sigmoid\")(dec4)\n",
    "\n",
    "    return Model(inputs, output)"
   ],
   "id": "61f52a6a8490c0e3",
   "outputs": [],
   "execution_count": 8
  },
  {
   "metadata": {
    "ExecuteTime": {
     "end_time": "2025-02-13T19:02:35.855909Z",
     "start_time": "2025-02-13T19:02:34.811432Z"
    }
   },
   "cell_type": "code",
   "source": "transnet_model = UCTransNet()",
   "id": "81cf09dc4547d75",
   "outputs": [],
   "execution_count": 15
  },
  {
   "metadata": {
    "ExecuteTime": {
     "end_time": "2025-02-13T18:57:34.864482Z",
     "start_time": "2025-02-13T18:57:34.579558Z"
    }
   },
   "cell_type": "code",
   "source": "transnet_model.summary()",
   "id": "c2af2ca3b395b38",
   "outputs": [
    {
     "name": "stdout",
     "output_type": "stream",
     "text": [
      "Model: \"model_1\"\n",
      "__________________________________________________________________________________________________\n",
      " Layer (type)                Output Shape                 Param #   Connected to                  \n",
      "==================================================================================================\n",
      " input_2 (InputLayer)        [(None, 256, 256, 3)]        0         []                            \n",
      "                                                                                                  \n",
      " conv2d_24 (Conv2D)          (None, 256, 256, 16)         448       ['input_2[0][0]']             \n",
      "                                                                                                  \n",
      " batch_normalization_18 (Ba  (None, 256, 256, 16)         64        ['conv2d_24[0][0]']           \n",
      " tchNormalization)                                                                                \n",
      "                                                                                                  \n",
      " activation_18 (Activation)  (None, 256, 256, 16)         0         ['batch_normalization_18[0][0]\n",
      "                                                                    ']                            \n",
      "                                                                                                  \n",
      " conv2d_25 (Conv2D)          (None, 256, 256, 16)         2320      ['activation_18[0][0]']       \n",
      "                                                                                                  \n",
      " batch_normalization_19 (Ba  (None, 256, 256, 16)         64        ['conv2d_25[0][0]']           \n",
      " tchNormalization)                                                                                \n",
      "                                                                                                  \n",
      " activation_19 (Activation)  (None, 256, 256, 16)         0         ['batch_normalization_19[0][0]\n",
      "                                                                    ']                            \n",
      "                                                                                                  \n",
      " max_pooling2d_4 (MaxPoolin  (None, 128, 128, 16)         0         ['activation_19[0][0]']       \n",
      " g2D)                                                                                             \n",
      "                                                                                                  \n",
      " conv2d_26 (Conv2D)          (None, 128, 128, 32)         4640      ['max_pooling2d_4[0][0]']     \n",
      "                                                                                                  \n",
      " batch_normalization_20 (Ba  (None, 128, 128, 32)         128       ['conv2d_26[0][0]']           \n",
      " tchNormalization)                                                                                \n",
      "                                                                                                  \n",
      " activation_20 (Activation)  (None, 128, 128, 32)         0         ['batch_normalization_20[0][0]\n",
      "                                                                    ']                            \n",
      "                                                                                                  \n",
      " conv2d_27 (Conv2D)          (None, 128, 128, 32)         9248      ['activation_20[0][0]']       \n",
      "                                                                                                  \n",
      " batch_normalization_21 (Ba  (None, 128, 128, 32)         128       ['conv2d_27[0][0]']           \n",
      " tchNormalization)                                                                                \n",
      "                                                                                                  \n",
      " activation_21 (Activation)  (None, 128, 128, 32)         0         ['batch_normalization_21[0][0]\n",
      "                                                                    ']                            \n",
      "                                                                                                  \n",
      " max_pooling2d_5 (MaxPoolin  (None, 64, 64, 32)           0         ['activation_21[0][0]']       \n",
      " g2D)                                                                                             \n",
      "                                                                                                  \n",
      " conv2d_28 (Conv2D)          (None, 64, 64, 64)           18496     ['max_pooling2d_5[0][0]']     \n",
      "                                                                                                  \n",
      " batch_normalization_22 (Ba  (None, 64, 64, 64)           256       ['conv2d_28[0][0]']           \n",
      " tchNormalization)                                                                                \n",
      "                                                                                                  \n",
      " activation_22 (Activation)  (None, 64, 64, 64)           0         ['batch_normalization_22[0][0]\n",
      "                                                                    ']                            \n",
      "                                                                                                  \n",
      " conv2d_29 (Conv2D)          (None, 64, 64, 64)           36928     ['activation_22[0][0]']       \n",
      "                                                                                                  \n",
      " batch_normalization_23 (Ba  (None, 64, 64, 64)           256       ['conv2d_29[0][0]']           \n",
      " tchNormalization)                                                                                \n",
      "                                                                                                  \n",
      " activation_23 (Activation)  (None, 64, 64, 64)           0         ['batch_normalization_23[0][0]\n",
      "                                                                    ']                            \n",
      "                                                                                                  \n",
      " max_pooling2d_6 (MaxPoolin  (None, 32, 32, 64)           0         ['activation_23[0][0]']       \n",
      " g2D)                                                                                             \n",
      "                                                                                                  \n",
      " conv2d_30 (Conv2D)          (None, 32, 32, 128)          73856     ['max_pooling2d_6[0][0]']     \n",
      "                                                                                                  \n",
      " batch_normalization_24 (Ba  (None, 32, 32, 128)          512       ['conv2d_30[0][0]']           \n",
      " tchNormalization)                                                                                \n",
      "                                                                                                  \n",
      " activation_24 (Activation)  (None, 32, 32, 128)          0         ['batch_normalization_24[0][0]\n",
      "                                                                    ']                            \n",
      "                                                                                                  \n",
      " conv2d_31 (Conv2D)          (None, 32, 32, 128)          147584    ['activation_24[0][0]']       \n",
      "                                                                                                  \n",
      " batch_normalization_25 (Ba  (None, 32, 32, 128)          512       ['conv2d_31[0][0]']           \n",
      " tchNormalization)                                                                                \n",
      "                                                                                                  \n",
      " activation_25 (Activation)  (None, 32, 32, 128)          0         ['batch_normalization_25[0][0]\n",
      "                                                                    ']                            \n",
      "                                                                                                  \n",
      " max_pooling2d_7 (MaxPoolin  (None, 16, 16, 128)          0         ['activation_25[0][0]']       \n",
      " g2D)                                                                                             \n",
      "                                                                                                  \n",
      " conv2d_32 (Conv2D)          (None, 16, 16, 256)          295168    ['max_pooling2d_7[0][0]']     \n",
      "                                                                                                  \n",
      " batch_normalization_26 (Ba  (None, 16, 16, 256)          1024      ['conv2d_32[0][0]']           \n",
      " tchNormalization)                                                                                \n",
      "                                                                                                  \n",
      " activation_26 (Activation)  (None, 16, 16, 256)          0         ['batch_normalization_26[0][0]\n",
      "                                                                    ']                            \n",
      "                                                                                                  \n",
      " conv2d_33 (Conv2D)          (None, 16, 16, 256)          590080    ['activation_26[0][0]']       \n",
      "                                                                                                  \n",
      " batch_normalization_27 (Ba  (None, 16, 16, 256)          1024      ['conv2d_33[0][0]']           \n",
      " tchNormalization)                                                                                \n",
      "                                                                                                  \n",
      " activation_27 (Activation)  (None, 16, 16, 256)          0         ['batch_normalization_27[0][0]\n",
      "                                                                    ']                            \n",
      "                                                                                                  \n",
      " conv2d_34 (Conv2D)          (None, 16, 16, 256)          65792     ['activation_27[0][0]']       \n",
      "                                                                                                  \n",
      " channel_transformer_1 (Cha  (None, 16, 16, 256)          1315840   ['conv2d_34[0][0]']           \n",
      " nnelTransformer)                                                                                 \n",
      "                                                                                                  \n",
      " up_sampling2d_9 (UpSamplin  (None, 32, 32, 256)          0         ['channel_transformer_1[0][0]'\n",
      " g2D)                                                               ]                             \n",
      "                                                                                                  \n",
      " up_sampling2d_8 (UpSamplin  (None, 32, 32, 256)          0         ['channel_transformer_1[0][0]'\n",
      " g2D)                                                               ]                             \n",
      "                                                                                                  \n",
      " conv2d_35 (Conv2D)          (None, 32, 32, 128)          32896     ['up_sampling2d_9[0][0]']     \n",
      "                                                                                                  \n",
      " cca_4 (CCA)                 (None, 32, 32, 128)          49408     ['up_sampling2d_8[0][0]',     \n",
      "                                                                     'conv2d_35[0][0]']           \n",
      "                                                                                                  \n",
      " concatenate_4 (Concatenate  (None, 32, 32, 384)          0         ['up_sampling2d_8[0][0]',     \n",
      " )                                                                   'cca_4[0][0]']               \n",
      "                                                                                                  \n",
      " conv2d_36 (Conv2D)          (None, 32, 32, 128)          442496    ['concatenate_4[0][0]']       \n",
      "                                                                                                  \n",
      " batch_normalization_28 (Ba  (None, 32, 32, 128)          512       ['conv2d_36[0][0]']           \n",
      " tchNormalization)                                                                                \n",
      "                                                                                                  \n",
      " activation_28 (Activation)  (None, 32, 32, 128)          0         ['batch_normalization_28[0][0]\n",
      "                                                                    ']                            \n",
      "                                                                                                  \n",
      " dropout_6 (Dropout)         (None, 32, 32, 128)          0         ['activation_28[0][0]']       \n",
      "                                                                                                  \n",
      " conv2d_37 (Conv2D)          (None, 32, 32, 128)          147584    ['dropout_6[0][0]']           \n",
      "                                                                                                  \n",
      " batch_normalization_29 (Ba  (None, 32, 32, 128)          512       ['conv2d_37[0][0]']           \n",
      " tchNormalization)                                                                                \n",
      "                                                                                                  \n",
      " activation_29 (Activation)  (None, 32, 32, 128)          0         ['batch_normalization_29[0][0]\n",
      "                                                                    ']                            \n",
      "                                                                                                  \n",
      " up_sampling2d_11 (UpSampli  (None, 64, 64, 128)          0         ['conv2d_35[0][0]']           \n",
      " ng2D)                                                                                            \n",
      "                                                                                                  \n",
      " up_sampling2d_10 (UpSampli  (None, 64, 64, 128)          0         ['activation_29[0][0]']       \n",
      " ng2D)                                                                                            \n",
      "                                                                                                  \n",
      " conv2d_38 (Conv2D)          (None, 64, 64, 64)           8256      ['up_sampling2d_11[0][0]']    \n",
      "                                                                                                  \n",
      " cca_5 (CCA)                 (None, 64, 64, 64)           12416     ['up_sampling2d_10[0][0]',    \n",
      "                                                                     'conv2d_38[0][0]']           \n",
      "                                                                                                  \n",
      " concatenate_5 (Concatenate  (None, 64, 64, 192)          0         ['up_sampling2d_10[0][0]',    \n",
      " )                                                                   'cca_5[0][0]']               \n",
      "                                                                                                  \n",
      " conv2d_39 (Conv2D)          (None, 64, 64, 64)           110656    ['concatenate_5[0][0]']       \n",
      "                                                                                                  \n",
      " batch_normalization_30 (Ba  (None, 64, 64, 64)           256       ['conv2d_39[0][0]']           \n",
      " tchNormalization)                                                                                \n",
      "                                                                                                  \n",
      " activation_30 (Activation)  (None, 64, 64, 64)           0         ['batch_normalization_30[0][0]\n",
      "                                                                    ']                            \n",
      "                                                                                                  \n",
      " dropout_7 (Dropout)         (None, 64, 64, 64)           0         ['activation_30[0][0]']       \n",
      "                                                                                                  \n",
      " conv2d_40 (Conv2D)          (None, 64, 64, 64)           36928     ['dropout_7[0][0]']           \n",
      "                                                                                                  \n",
      " batch_normalization_31 (Ba  (None, 64, 64, 64)           256       ['conv2d_40[0][0]']           \n",
      " tchNormalization)                                                                                \n",
      "                                                                                                  \n",
      " activation_31 (Activation)  (None, 64, 64, 64)           0         ['batch_normalization_31[0][0]\n",
      "                                                                    ']                            \n",
      "                                                                                                  \n",
      " up_sampling2d_13 (UpSampli  (None, 128, 128, 64)         0         ['conv2d_38[0][0]']           \n",
      " ng2D)                                                                                            \n",
      "                                                                                                  \n",
      " up_sampling2d_12 (UpSampli  (None, 128, 128, 64)         0         ['activation_31[0][0]']       \n",
      " ng2D)                                                                                            \n",
      "                                                                                                  \n",
      " conv2d_41 (Conv2D)          (None, 128, 128, 32)         2080      ['up_sampling2d_13[0][0]']    \n",
      "                                                                                                  \n",
      " cca_6 (CCA)                 (None, 128, 128, 32)         3136      ['up_sampling2d_12[0][0]',    \n",
      "                                                                     'conv2d_41[0][0]']           \n",
      "                                                                                                  \n",
      " concatenate_6 (Concatenate  (None, 128, 128, 96)         0         ['up_sampling2d_12[0][0]',    \n",
      " )                                                                   'cca_6[0][0]']               \n",
      "                                                                                                  \n",
      " conv2d_42 (Conv2D)          (None, 128, 128, 32)         27680     ['concatenate_6[0][0]']       \n",
      "                                                                                                  \n",
      " batch_normalization_32 (Ba  (None, 128, 128, 32)         128       ['conv2d_42[0][0]']           \n",
      " tchNormalization)                                                                                \n",
      "                                                                                                  \n",
      " activation_32 (Activation)  (None, 128, 128, 32)         0         ['batch_normalization_32[0][0]\n",
      "                                                                    ']                            \n",
      "                                                                                                  \n",
      " dropout_8 (Dropout)         (None, 128, 128, 32)         0         ['activation_32[0][0]']       \n",
      "                                                                                                  \n",
      " conv2d_43 (Conv2D)          (None, 128, 128, 32)         9248      ['dropout_8[0][0]']           \n",
      "                                                                                                  \n",
      " batch_normalization_33 (Ba  (None, 128, 128, 32)         128       ['conv2d_43[0][0]']           \n",
      " tchNormalization)                                                                                \n",
      "                                                                                                  \n",
      " activation_33 (Activation)  (None, 128, 128, 32)         0         ['batch_normalization_33[0][0]\n",
      "                                                                    ']                            \n",
      "                                                                                                  \n",
      " up_sampling2d_15 (UpSampli  (None, 256, 256, 32)         0         ['conv2d_41[0][0]']           \n",
      " ng2D)                                                                                            \n",
      "                                                                                                  \n",
      " up_sampling2d_14 (UpSampli  (None, 256, 256, 32)         0         ['activation_33[0][0]']       \n",
      " ng2D)                                                                                            \n",
      "                                                                                                  \n",
      " conv2d_44 (Conv2D)          (None, 256, 256, 16)         528       ['up_sampling2d_15[0][0]']    \n",
      "                                                                                                  \n",
      " cca_7 (CCA)                 (None, 256, 256, 16)         800       ['up_sampling2d_14[0][0]',    \n",
      "                                                                     'conv2d_44[0][0]']           \n",
      "                                                                                                  \n",
      " concatenate_7 (Concatenate  (None, 256, 256, 48)         0         ['up_sampling2d_14[0][0]',    \n",
      " )                                                                   'cca_7[0][0]']               \n",
      "                                                                                                  \n",
      " conv2d_45 (Conv2D)          (None, 256, 256, 16)         6928      ['concatenate_7[0][0]']       \n",
      "                                                                                                  \n",
      " batch_normalization_34 (Ba  (None, 256, 256, 16)         64        ['conv2d_45[0][0]']           \n",
      " tchNormalization)                                                                                \n",
      "                                                                                                  \n",
      " activation_34 (Activation)  (None, 256, 256, 16)         0         ['batch_normalization_34[0][0]\n",
      "                                                                    ']                            \n",
      "                                                                                                  \n",
      " dropout_9 (Dropout)         (None, 256, 256, 16)         0         ['activation_34[0][0]']       \n",
      "                                                                                                  \n",
      " conv2d_46 (Conv2D)          (None, 256, 256, 16)         2320      ['dropout_9[0][0]']           \n",
      "                                                                                                  \n",
      " batch_normalization_35 (Ba  (None, 256, 256, 16)         64        ['conv2d_46[0][0]']           \n",
      " tchNormalization)                                                                                \n",
      "                                                                                                  \n",
      " activation_35 (Activation)  (None, 256, 256, 16)         0         ['batch_normalization_35[0][0]\n",
      "                                                                    ']                            \n",
      "                                                                                                  \n",
      " conv2d_47 (Conv2D)          (None, 256, 256, 1)          17        ['activation_35[0][0]']       \n",
      "                                                                                                  \n",
      "==================================================================================================\n",
      "Total params: 3459665 (13.20 MB)\n",
      "Trainable params: 3456721 (13.19 MB)\n",
      "Non-trainable params: 2944 (11.50 KB)\n",
      "__________________________________________________________________________________________________\n"
     ]
    }
   ],
   "execution_count": 12
  },
  {
   "metadata": {},
   "cell_type": "markdown",
   "source": "## Fit on the breast cancer dataset",
   "id": "4774ad1998773965"
  },
  {
   "metadata": {
    "ExecuteTime": {
     "end_time": "2025-02-15T20:46:55.304710Z",
     "start_time": "2025-02-15T18:59:06.353081Z"
    }
   },
   "cell_type": "code",
   "source": [
    "from tensorflow.keras.callbacks import EarlyStopping, ReduceLROnPlateau\n",
    "import time\n",
    "\n",
    "dice_scores = []\n",
    "iou_scores = []\n",
    "precision_scores = []\n",
    "recall_scores = []\n",
    "accuracy_scores = []\n",
    "training_times = []\n",
    "\n",
    "num_experiments = 5\n",
    "input_size = (256, 256, 3)\n",
    "\n",
    "best_dice = 0.0\n",
    "\n",
    "for i in range(num_experiments):\n",
    "    print(f\"Training experiment {i+1}/{num_experiments}\")\n",
    "\n",
    "    transnet_model = UCTransNet(input_size)\n",
    "\n",
    "    optimizer = tf.keras.optimizers.Adam(learning_rate=1e-4)\n",
    "\n",
    "    transnet_model.compile(optimizer=optimizer,\n",
    "                       loss=utils.tversky_loss,\n",
    "                       metrics=[utils.dice_coefficient, utils.iou, \"accuracy\", tf.keras.metrics.Precision(name=\"precision_metric\"), tf.keras.metrics.Recall(name=\"recall_metric\")])\n",
    "\n",
    "    callbacks = [\n",
    "        EarlyStopping(monitor='val_dice_coefficient', patience=25, restore_best_weights=True, mode='max', verbose=0),\n",
    "        ReduceLROnPlateau(monitor='val_dice_coefficient', factor=0.1, patience=7, min_lr=1e-6, mode='max', verbose=0)\n",
    "    ]\n",
    "\n",
    "    start_time = time.time()\n",
    "\n",
    "    history = transnet_model.fit(train_dataset_breast, validation_data=val_dataset_breast, epochs=200, callbacks=callbacks, verbose=0)\n",
    "\n",
    "    elapsed_time = time.time() - start_time\n",
    "    training_times.append(elapsed_time)\n",
    "    print(f\"Training Time for Experiment {i+1}: {elapsed_time:.2f} seconds\")\n",
    "\n",
    "    #select best epoch in terms of dice\n",
    "    best_epoch_index = np.argmax(history.history['val_dice_coefficient'])\n",
    "\n",
    "    #get the metrics for that epoch\n",
    "    final_dice = history.history['val_dice_coefficient'][best_epoch_index]\n",
    "    final_iou = history.history['val_iou'][best_epoch_index]\n",
    "    final_precision = history.history['val_precision_metric'][best_epoch_index]\n",
    "    final_recall = history.history['val_recall_metric'][best_epoch_index]\n",
    "    final_accuracy = history.history['val_accuracy'][best_epoch_index]\n",
    "\n",
    "    #store the results\n",
    "    dice_scores.append(final_dice)\n",
    "    iou_scores.append(final_iou)\n",
    "    precision_scores.append(final_precision)\n",
    "    recall_scores.append(final_recall)\n",
    "    accuracy_scores.append(final_accuracy)\n",
    "\n",
    "    print(f\"Dice Coefficient: {final_dice}\", f\"IoU: {final_iou}\", f\"Precision: {final_precision}\", f\"Recall: {final_recall}\", f\"Accuracy: {final_accuracy}\")\n",
    "\n",
    "    #save best model based on Dice score\n",
    "    if final_dice > best_dice:\n",
    "        best_dice = final_dice\n",
    "        best_model = transnet_model\n",
    "        transnet_model.save(\"best_uctransnet_breast.h5\")\n",
    "        print(f\"New best model saved\")\n",
    "\n",
    "#compute mean ± std\n",
    "dice_mean, dice_std = np.mean(dice_scores), np.std(dice_scores)\n",
    "iou_mean, iou_std = np.mean(iou_scores), np.std(iou_scores)\n",
    "precision_mean, precision_std = np.mean(precision_scores), np.std(precision_scores)\n",
    "recall_mean, recall_std = np.mean(recall_scores), np.std(recall_scores)\n",
    "accuracy_mean, accuracy_std = np.mean(accuracy_scores), np.std(accuracy_scores)\n",
    "time_mean, time_std = np.mean(training_times), np.std(training_times)\n",
    "\n",
    "print(\"Final Results (Across All Runs):\")\n",
    "print(f\"Dice Score: {dice_mean:.2f} ± {dice_std:.2f}\")\n",
    "print(f\"IoU Score: {iou_mean:.2f} ± {iou_std:.2f}\")\n",
    "print(f\"Precision Score: {precision_mean:.2f} ± {precision_std:.2f}\")\n",
    "print(f\"Recall Score: {recall_mean:.2f} ± {recall_std:.2f}\")\n",
    "print(f\"Accuracy Score: {accuracy_mean:.2f} ± {accuracy_std:.2f}\")\n",
    "print(f\"Training Time: {time_mean:.2f} ± {time_std:.2f} seconds\")\n",
    "print(f\"Best Model Dice Score: {best_dice:.4f} (Saved as 'best_uctransnet_breast.h5')\")"
   ],
   "id": "b33b0462ad72d361",
   "outputs": [
    {
     "name": "stdout",
     "output_type": "stream",
     "text": [
      "Training experiment 1/5\n"
     ]
    },
    {
     "name": "stderr",
     "output_type": "stream",
     "text": [
      "WARNING: All log messages before absl::InitializeLog() is called are written to STDERR\n",
      "I0000 00:00:1739645962.580128    1592 device_compiler.h:186] Compiled cluster using XLA!  This line is logged at most once for the lifetime of the process.\n"
     ]
    },
    {
     "name": "stdout",
     "output_type": "stream",
     "text": [
      "Training Time for Experiment 1: 1306.57 seconds\n",
      "Dice Coefficient: 0.6850504875183105 IoU: 0.5326430797576904 Precision: 0.7286571264266968 Recall: 0.757993221282959 Accuracy: 0.9534263014793396\n"
     ]
    },
    {
     "name": "stderr",
     "output_type": "stream",
     "text": [
      "/usr/local/lib/python3.11/dist-packages/keras/src/engine/training.py:3103: UserWarning: You are saving your model as an HDF5 file via `model.save()`. This file format is considered legacy. We recommend using instead the native Keras format, e.g. `model.save('my_model.keras')`.\n",
      "  saving_api.save_model(\n"
     ]
    },
    {
     "name": "stdout",
     "output_type": "stream",
     "text": [
      "New best model saved\n",
      "Training experiment 2/5\n",
      "Training Time for Experiment 2: 1571.21 seconds\n",
      "Dice Coefficient: 0.6857962608337402 IoU: 0.5360905528068542 Precision: 0.7394036650657654 Recall: 0.7208526134490967 Accuracy: 0.9527877569198608\n",
      "New best model saved\n",
      "Training experiment 3/5\n",
      "Training Time for Experiment 3: 938.26 seconds\n",
      "Dice Coefficient: 0.6825423240661621 IoU: 0.5291728973388672 Precision: 0.7235123515129089 Recall: 0.7249425053596497 Accuracy: 0.9511235952377319\n",
      "Training experiment 4/5\n",
      "Training Time for Experiment 4: 1029.52 seconds\n",
      "Dice Coefficient: 0.693922758102417 IoU: 0.5411513447761536 Precision: 0.7346683740615845 Recall: 0.7373513579368591 Accuracy: 0.9529690742492676\n",
      "New best model saved\n",
      "Training experiment 5/5\n",
      "Training Time for Experiment 5: 1615.95 seconds\n",
      "Dice Coefficient: 0.7044288516044617 IoU: 0.5495595335960388 Precision: 0.7478236556053162 Recall: 0.7200204730033875 Accuracy: 0.953664243221283\n",
      "New best model saved\n",
      "Final Results (Across All Runs):\n",
      "Dice Score: 0.69 ± 0.01\n",
      "IoU Score: 0.54 ± 0.01\n",
      "Precision Score: 0.73 ± 0.01\n",
      "Recall Score: 0.73 ± 0.01\n",
      "Accuracy Score: 0.95 ± 0.00\n",
      "Training Time: 1292.30 ± 274.64 seconds\n",
      "Best Model Dice Score: 0.7044 (Saved as 'best_uctransnet_breast.h5')\n"
     ]
    }
   ],
   "execution_count": 9
  },
  {
   "metadata": {},
   "cell_type": "markdown",
   "source": "### Fit on the skin cancer dataset",
   "id": "464bb3eda9f1ba80"
  },
  {
   "metadata": {
    "ExecuteTime": {
     "end_time": "2025-02-14T02:26:07.616616Z",
     "start_time": "2025-02-13T19:30:13.293391Z"
    }
   },
   "cell_type": "code",
   "source": [
    "dice_scores = []\n",
    "iou_scores = []\n",
    "precision_scores = []\n",
    "recall_scores = []\n",
    "accuracy_scores = []\n",
    "training_times = []\n",
    "\n",
    "num_experiments = 5\n",
    "input_size = (256, 256, 3)\n",
    "\n",
    "best_dice = 0.0\n",
    "\n",
    "for i in range(num_experiments):\n",
    "    print(f\"Training experiment {i+1}/{num_experiments}\")\n",
    "\n",
    "    transnet_model = UCTransNet(input_size)\n",
    "\n",
    "    optimizer = tf.keras.optimizers.Adam(learning_rate=1e-4)\n",
    "\n",
    "    transnet_model.compile(optimizer=optimizer,\n",
    "                       loss=utils.tversky_loss,\n",
    "                       metrics=[utils.dice_coefficient, utils.iou, \"accuracy\", tf.keras.metrics.Precision(name=\"precision_metric\"), tf.keras.metrics.Recall(name=\"recall_metric\")])\n",
    "\n",
    "    callbacks = [\n",
    "        EarlyStopping(monitor='val_dice_coefficient', patience=25, restore_best_weights=True, mode='max', verbose=0),\n",
    "        ReduceLROnPlateau(monitor='val_dice_coefficient', factor=0.1, patience=7, min_lr=1e-6, mode='max', verbose=0)\n",
    "    ]\n",
    "\n",
    "    start_time = time.time()\n",
    "\n",
    "    history = transnet_model.fit(train_dataset_skin, validation_data=val_dataset_skin, epochs=200, callbacks=callbacks, verbose=0)\n",
    "\n",
    "    elapsed_time = time.time() - start_time\n",
    "    training_times.append(elapsed_time)\n",
    "    print(f\"Training Time for Experiment {i+1}: {elapsed_time:.2f} seconds\")\n",
    "\n",
    "    #select best epoch in terms of dice\n",
    "    best_epoch_index = np.argmax(history.history['val_dice_coefficient'])\n",
    "\n",
    "    #get the metrics for that epoch\n",
    "    final_dice = history.history['val_dice_coefficient'][best_epoch_index]\n",
    "    final_iou = history.history['val_iou'][best_epoch_index]\n",
    "    final_precision = history.history['val_precision_metric'][best_epoch_index]\n",
    "    final_recall = history.history['val_recall_metric'][best_epoch_index]\n",
    "    final_accuracy = history.history['val_accuracy'][best_epoch_index]\n",
    "\n",
    "    #store the results\n",
    "    dice_scores.append(final_dice)\n",
    "    iou_scores.append(final_iou)\n",
    "    precision_scores.append(final_precision)\n",
    "    recall_scores.append(final_recall)\n",
    "    accuracy_scores.append(final_accuracy)\n",
    "\n",
    "    print(f\"Dice Coefficient: {final_dice}\", f\"IoU: {final_iou}\", f\"Precision: {final_precision}\", f\"Recall: {final_recall}\", f\"Accuracy: {final_accuracy}\")\n",
    "\n",
    "    #save best model based on Dice score\n",
    "    if final_dice > best_dice:\n",
    "        best_dice = final_dice\n",
    "        best_model = transnet_model\n",
    "        transnet_model.save(\"best_uctransnet_skin.h5\")\n",
    "        print(f\"New best model saved\")\n",
    "\n",
    "#compute mean ± std\n",
    "dice_mean, dice_std = np.mean(dice_scores), np.std(dice_scores)\n",
    "iou_mean, iou_std = np.mean(iou_scores), np.std(iou_scores)\n",
    "precision_mean, precision_std = np.mean(precision_scores), np.std(precision_scores)\n",
    "recall_mean, recall_std = np.mean(recall_scores), np.std(recall_scores)\n",
    "accuracy_mean, accuracy_std = np.mean(accuracy_scores), np.std(accuracy_scores)\n",
    "time_mean, time_std = np.mean(training_times), np.std(training_times)\n",
    "\n",
    "print(\"Final Results (Across All Runs):\")\n",
    "print(f\"Dice Score: {dice_mean:.2f} ± {dice_std:.2f}\")\n",
    "print(f\"IoU Score: {iou_mean:.2f} ± {iou_std:.2f}\")\n",
    "print(f\"Precision Score: {precision_mean:.2f} ± {precision_std:.2f}\")\n",
    "print(f\"Recall Score: {recall_mean:.2f} ± {recall_std:.2f}\")\n",
    "print(f\"Accuracy Score: {accuracy_mean:.2f} ± {accuracy_std:.2f}\")\n",
    "print(f\"Training Time: {time_mean:.2f} ± {time_std:.2f} seconds\")\n",
    "print(f\"Best Model Dice Score: {best_dice:.4f} (Saved as 'best_uctransnet_skin.h5')\")"
   ],
   "id": "70025a34dd988f64",
   "outputs": [
    {
     "name": "stdout",
     "output_type": "stream",
     "text": [
      "Training experiment 1/5\n"
     ]
    },
    {
     "name": "stderr",
     "output_type": "stream",
     "text": [
      "WARNING: All log messages before absl::InitializeLog() is called are written to STDERR\n",
      "I0000 00:00:1739475065.193683   12951 device_compiler.h:186] Compiled cluster using XLA!  This line is logged at most once for the lifetime of the process.\n"
     ]
    },
    {
     "name": "stdout",
     "output_type": "stream",
     "text": [
      "Training Time for Experiment 1: 4170.69 seconds\n",
      "Dice Coefficient: 0.7984616756439209 IoU: 0.6737697720527649 Precision: 0.8398386240005493 Recall: 0.7707529067993164 Accuracy: 0.9345341920852661\n"
     ]
    },
    {
     "name": "stderr",
     "output_type": "stream",
     "text": [
      "/usr/local/lib/python3.11/dist-packages/keras/src/engine/training.py:3103: UserWarning: You are saving your model as an HDF5 file via `model.save()`. This file format is considered legacy. We recommend using instead the native Keras format, e.g. `model.save('my_model.keras')`.\n",
      "  saving_api.save_model(\n"
     ]
    },
    {
     "name": "stdout",
     "output_type": "stream",
     "text": [
      "New best model saved\n",
      "Training experiment 2/5\n",
      "Training Time for Experiment 2: 5120.38 seconds\n",
      "Dice Coefficient: 0.8043211102485657 IoU: 0.6823873519897461 Precision: 0.8263492584228516 Recall: 0.7850642204284668 Accuracy: 0.9338929057121277\n",
      "New best model saved\n",
      "Training experiment 3/5\n",
      "Training Time for Experiment 3: 6173.03 seconds\n",
      "Dice Coefficient: 0.8124055862426758 IoU: 0.6945287585258484 Precision: 0.8760154247283936 Recall: 0.7860246300697327 Accuracy: 0.943415105342865\n",
      "New best model saved\n",
      "Training experiment 4/5\n",
      "Training Time for Experiment 4: 4531.30 seconds\n",
      "Dice Coefficient: 0.8075373768806458 IoU: 0.6883435249328613 Precision: 0.8253182172775269 Recall: 0.8222740292549133 Accuracy: 0.9387778639793396\n",
      "Training experiment 5/5\n",
      "Training Time for Experiment 5: 4951.73 seconds\n",
      "Dice Coefficient: 0.7912952303886414 IoU: 0.6643930673599243 Precision: 0.8210409879684448 Recall: 0.7880485653877258 Accuracy: 0.9332371950149536\n",
      "Final Results (Across All Runs):\n",
      "Dice Score: 0.80 ± 0.01\n",
      "IoU Score: 0.68 ± 0.01\n",
      "Precision Score: 0.84 ± 0.02\n",
      "Recall Score: 0.79 ± 0.02\n",
      "Accuracy Score: 0.94 ± 0.00\n",
      "Training Time: 4989.42 ± 678.19 seconds\n",
      "Best Model Dice Score: 0.8124 (Saved as 'best_uctransnet_skin.h5')\n"
     ]
    }
   ],
   "execution_count": 10
  },
  {
   "metadata": {},
   "cell_type": "markdown",
   "source": "## Fit on the brain cancer dataset",
   "id": "9a807ce0855db383"
  },
  {
   "metadata": {
    "ExecuteTime": {
     "end_time": "2025-02-14T17:39:50.665094Z",
     "start_time": "2025-02-14T11:26:45.052321Z"
    }
   },
   "cell_type": "code",
   "source": [
    "dice_scores = []\n",
    "iou_scores = []\n",
    "precision_scores = []\n",
    "recall_scores = []\n",
    "accuracy_scores = []\n",
    "training_times = []\n",
    "\n",
    "num_experiments = 5\n",
    "input_size = (256, 256, 3)\n",
    "\n",
    "best_dice = 0.0\n",
    "\n",
    "for i in range(num_experiments):\n",
    "    print(f\"Training experiment {i+1}/{num_experiments}\")\n",
    "\n",
    "    transnet_model = UCTransNet(input_size)\n",
    "\n",
    "    optimizer = tf.keras.optimizers.Adam(learning_rate=1e-4)\n",
    "\n",
    "    transnet_model.compile(optimizer=optimizer,\n",
    "                       loss=utils.tversky_loss,\n",
    "                       metrics=[utils.dice_coefficient, utils.iou, \"accuracy\", tf.keras.metrics.Precision(name=\"precision_metric\"), tf.keras.metrics.Recall(name=\"recall_metric\")])\n",
    "\n",
    "    callbacks = [\n",
    "        EarlyStopping(monitor='val_dice_coefficient', patience=25, restore_best_weights=True, mode='max', verbose=0),\n",
    "        ReduceLROnPlateau(monitor='val_dice_coefficient', factor=0.1, patience=7, min_lr=1e-6, mode='max', verbose=0)\n",
    "    ]\n",
    "\n",
    "    start_time = time.time()\n",
    "\n",
    "    history = transnet_model.fit(train_dataset_brain, validation_data=val_dataset_brain, epochs=200, callbacks=callbacks, verbose=0)\n",
    "\n",
    "    elapsed_time = time.time() - start_time\n",
    "    training_times.append(elapsed_time)\n",
    "    print(f\"Training Time for Experiment {i+1}: {elapsed_time:.2f} seconds\")\n",
    "\n",
    "    #select best epoch in terms of dice\n",
    "    best_epoch_index = np.argmax(history.history['val_dice_coefficient'])\n",
    "\n",
    "    #get the metrics for that epoch\n",
    "    final_dice = history.history['val_dice_coefficient'][best_epoch_index]\n",
    "    final_iou = history.history['val_iou'][best_epoch_index]\n",
    "    final_precision = history.history['val_precision_metric'][best_epoch_index]\n",
    "    final_recall = history.history['val_recall_metric'][best_epoch_index]\n",
    "    final_accuracy = history.history['val_accuracy'][best_epoch_index]\n",
    "\n",
    "    #store the results\n",
    "    dice_scores.append(final_dice)\n",
    "    iou_scores.append(final_iou)\n",
    "    precision_scores.append(final_precision)\n",
    "    recall_scores.append(final_recall)\n",
    "    accuracy_scores.append(final_accuracy)\n",
    "\n",
    "    print(f\"Dice Coefficient: {final_dice}\", f\"IoU: {final_iou}\", f\"Precision: {final_precision}\", f\"Recall: {final_recall}\", f\"Accuracy: {final_accuracy}\")\n",
    "\n",
    "    #save best model based on Dice score\n",
    "    if final_dice > best_dice:\n",
    "        best_dice = final_dice\n",
    "        best_model = transnet_model\n",
    "        transnet_model.save(\"best_uctransnet_brain.h5\")\n",
    "        print(f\"New best model saved\")\n",
    "\n",
    "#compute mean ± std\n",
    "dice_mean, dice_std = np.mean(dice_scores), np.std(dice_scores)\n",
    "iou_mean, iou_std = np.mean(iou_scores), np.std(iou_scores)\n",
    "precision_mean, precision_std = np.mean(precision_scores), np.std(precision_scores)\n",
    "recall_mean, recall_std = np.mean(recall_scores), np.std(recall_scores)\n",
    "accuracy_mean, accuracy_std = np.mean(accuracy_scores), np.std(accuracy_scores)\n",
    "time_mean, time_std = np.mean(training_times), np.std(training_times)\n",
    "\n",
    "print(\"Final Results (Across All Runs):\")\n",
    "print(f\"Dice Score: {dice_mean:.2f} ± {dice_std:.2f}\")\n",
    "print(f\"IoU Score: {iou_mean:.2f} ± {iou_std:.2f}\")\n",
    "print(f\"Precision Score: {precision_mean:.2f} ± {precision_std:.2f}\")\n",
    "print(f\"Recall Score: {recall_mean:.2f} ± {recall_std:.2f}\")\n",
    "print(f\"Accuracy Score: {accuracy_mean:.2f} ± {accuracy_std:.2f}\")\n",
    "print(f\"Training Time: {time_mean:.2f} ± {time_std:.2f} seconds\")\n",
    "print(f\"Best Model Dice Score: {best_dice:.4f} (Saved as 'best_uctransnet_brain.h5')\")"
   ],
   "id": "4749db6bdbd69ba0",
   "outputs": [
    {
     "name": "stdout",
     "output_type": "stream",
     "text": [
      "Training experiment 1/5\n"
     ]
    },
    {
     "name": "stderr",
     "output_type": "stream",
     "text": [
      "WARNING: All log messages before absl::InitializeLog() is called are written to STDERR\n",
      "I0000 00:00:1739532427.837396   10269 device_compiler.h:186] Compiled cluster using XLA!  This line is logged at most once for the lifetime of the process.\n"
     ]
    },
    {
     "name": "stdout",
     "output_type": "stream",
     "text": [
      "Training Time for Experiment 1: 5228.23 seconds\n",
      "Dice Coefficient: 0.6648396849632263 IoU: 0.5081547498703003 Precision: 0.7275176048278809 Recall: 0.6342777013778687 Accuracy: 0.9887841939926147\n"
     ]
    },
    {
     "name": "stderr",
     "output_type": "stream",
     "text": [
      "/usr/local/lib/python3.11/dist-packages/keras/src/engine/training.py:3103: UserWarning: You are saving your model as an HDF5 file via `model.save()`. This file format is considered legacy. We recommend using instead the native Keras format, e.g. `model.save('my_model.keras')`.\n",
      "  saving_api.save_model(\n"
     ]
    },
    {
     "name": "stdout",
     "output_type": "stream",
     "text": [
      "New best model saved\n",
      "Training experiment 2/5\n",
      "Training Time for Experiment 2: 4181.70 seconds\n",
      "Dice Coefficient: 0.6447569727897644 IoU: 0.4875197410583496 Precision: 0.7137389779090881 Recall: 0.6043141484260559 Accuracy: 0.9881910681724548\n",
      "Training experiment 3/5\n",
      "Training Time for Experiment 3: 3177.79 seconds\n",
      "Dice Coefficient: 0.6494719982147217 IoU: 0.4903183579444885 Precision: 0.6831292510032654 Recall: 0.6385229229927063 Accuracy: 0.9877679944038391\n",
      "Training experiment 4/5\n",
      "Training Time for Experiment 4: 4966.76 seconds\n",
      "Dice Coefficient: 0.6655905842781067 IoU: 0.5098310112953186 Precision: 0.7059208154678345 Recall: 0.6463741660118103 Accuracy: 0.9884274005889893\n",
      "New best model saved\n",
      "Training experiment 5/5\n",
      "Training Time for Experiment 5: 4823.57 seconds\n",
      "Dice Coefficient: 0.6615387797355652 IoU: 0.5049335956573486 Precision: 0.7428768277168274 Recall: 0.6095962524414062 Accuracy: 0.9888470768928528\n",
      "Final Results (Across All Runs):\n",
      "Dice Score: 0.66 ± 0.01\n",
      "IoU Score: 0.50 ± 0.01\n",
      "Precision Score: 0.71 ± 0.02\n",
      "Recall Score: 0.63 ± 0.02\n",
      "Accuracy Score: 0.99 ± 0.00\n",
      "Training Time: 4475.61 ± 734.77 seconds\n",
      "Best Model Dice Score: 0.6656 (Saved as 'best_uctransnet_brain.h5')\n"
     ]
    }
   ],
   "execution_count": 9
  }
 ],
 "metadata": {
  "kernelspec": {
   "display_name": "Python 3 (ipykernel)",
   "language": "python",
   "name": "python3"
  },
  "language_info": {
   "codemirror_mode": {
    "name": "ipython",
    "version": 3
   },
   "file_extension": ".py",
   "mimetype": "text/x-python",
   "name": "python",
   "nbconvert_exporter": "python",
   "pygments_lexer": "ipython3",
   "version": "3.11.4"
  }
 },
 "nbformat": 4,
 "nbformat_minor": 5
}
