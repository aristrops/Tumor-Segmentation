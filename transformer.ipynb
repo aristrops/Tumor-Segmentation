{
 "cells": [
  {
   "cell_type": "code",
   "id": "initial_id",
   "metadata": {
    "collapsed": true,
    "ExecuteTime": {
     "end_time": "2025-02-04T11:19:00.688082Z",
     "start_time": "2025-02-04T11:18:57.262890Z"
    }
   },
   "source": [
    "from sympy.codegen.scipy_nodes import powm1\n",
    "%%capture\n",
    "import os\n",
    "os.environ['TF_CPP_MIN_LOG_LEVEL'] = '3'\n",
    "import matplotlib.pyplot as plt\n",
    "from PIL import Image\n",
    "import cv2\n",
    "import numpy as np\n",
    "import utils"
   ],
   "outputs": [],
   "execution_count": 1
  },
  {
   "metadata": {
    "ExecuteTime": {
     "end_time": "2025-02-04T11:19:28.348515Z",
     "start_time": "2025-02-04T11:19:28.078722Z"
    }
   },
   "cell_type": "code",
   "source": [
    "import tensorflow as tf\n",
    "print(\"Num GPUs Available: \", len(tf.config.list_physical_devices('GPU')))\n",
    "print(tf.__version__)\n",
    "\n",
    "gpus = tf.config.list_physical_devices('GPU')\n",
    "if gpus:\n",
    "  # Restrict TensorFlow to only allocate 1GB of memory on the first GPU\n",
    "  try:\n",
    "    tf.config.set_logical_device_configuration(\n",
    "        gpus[0],\n",
    "        [tf.config.LogicalDeviceConfiguration(memory_limit=6000)])\n",
    "    logical_gpus = tf.config.list_logical_devices('GPU')\n",
    "    print(len(gpus), \"Physical GPUs,\", len(logical_gpus), \"Logical GPUs\")\n",
    "  except RuntimeError as e:\n",
    "    # Virtual devices must be set before GPUs have been initialized\n",
    "    print(e)"
   ],
   "id": "aebc17e1ee886d9f",
   "outputs": [
    {
     "name": "stdout",
     "output_type": "stream",
     "text": [
      "Num GPUs Available:  1\n",
      "2.15.0\n",
      "1 Physical GPUs, 1 Logical GPUs\n"
     ]
    }
   ],
   "execution_count": 2
  },
  {
   "metadata": {
    "ExecuteTime": {
     "end_time": "2025-02-04T11:19:40.835320Z",
     "start_time": "2025-02-04T11:19:40.829203Z"
    }
   },
   "cell_type": "code",
   "source": [
    "seed = 42\n",
    "tf.random.set_seed(seed)\n",
    "np.random.seed(seed)"
   ],
   "id": "bdf971e2848b2323",
   "outputs": [],
   "execution_count": 3
  },
  {
   "metadata": {},
   "cell_type": "markdown",
   "source": "## Import datasets",
   "id": "fbcb38afa4d60dd7"
  },
  {
   "metadata": {},
   "cell_type": "markdown",
   "source": "### Breast cancer dataset",
   "id": "45c5783a191988d2"
  },
  {
   "metadata": {
    "ExecuteTime": {
     "end_time": "2025-02-04T11:21:45.073545Z",
     "start_time": "2025-02-04T11:21:45.049325Z"
    }
   },
   "cell_type": "code",
   "source": "train_pairs_breast, val_pairs_breast, test_pairs_breast = utils.split_dataset(utils.create_list())",
   "id": "69e36ed8b33325c2",
   "outputs": [],
   "execution_count": 8
  },
  {
   "metadata": {
    "ExecuteTime": {
     "end_time": "2025-02-04T11:20:18.583686Z",
     "start_time": "2025-02-04T11:20:18.578656Z"
    }
   },
   "cell_type": "code",
   "source": [
    "print(f\"Number of training pairs: {len(train_pairs_breast)}\")\n",
    "print(f\"Number of val pairs: {len(val_pairs_breast)}\")\n",
    "print(f\"Number of test_pairs pairs: {len(test_pairs_breast)}\")"
   ],
   "id": "763387bd03434597",
   "outputs": [
    {
     "name": "stdout",
     "output_type": "stream",
     "text": [
      "Number of training pairs: 517\n",
      "Number of val pairs: 65\n",
      "Number of test_pairs pairs: 65\n"
     ]
    }
   ],
   "execution_count": 5
  },
  {
   "metadata": {
    "ExecuteTime": {
     "end_time": "2025-02-04T11:21:48.157743Z",
     "start_time": "2025-02-04T11:21:47.798869Z"
    }
   },
   "cell_type": "code",
   "source": [
    "train_dataset_breast = utils.create_dataset(train_pairs_breast, augment=True)\n",
    "val_dataset_breast = utils.create_dataset(val_pairs_breast)\n",
    "test_dataset_breast = utils.create_dataset(test_pairs_breast)"
   ],
   "id": "30c171ffe55894bf",
   "outputs": [],
   "execution_count": 9
  },
  {
   "metadata": {
    "ExecuteTime": {
     "end_time": "2025-02-04T11:22:12.369806Z",
     "start_time": "2025-02-04T11:22:11.188932Z"
    }
   },
   "cell_type": "code",
   "source": [
    "#batch the dataset and shuffle the training set\n",
    "batch_size = 8\n",
    "\n",
    "train_dataset_breast = train_dataset_breast.shuffle(buffer_size=len(train_pairs_breast)).batch(batch_size)\n",
    "val_dataset_breast = val_dataset_breast.batch(batch_size)\n",
    "test_dataset_breast = test_dataset_breast.batch(batch_size)"
   ],
   "id": "6339aab98cee0f34",
   "outputs": [],
   "execution_count": 10
  },
  {
   "metadata": {},
   "cell_type": "markdown",
   "source": "### Skin cancer dataset",
   "id": "c7c422c1cd7908fa"
  },
  {
   "metadata": {
    "ExecuteTime": {
     "end_time": "2025-02-04T11:22:54.306018Z",
     "start_time": "2025-02-04T11:22:53.693202Z"
    }
   },
   "cell_type": "code",
   "source": [
    "train_dataset_skin = utils.create_dataset(utils.create_list_skin(\"ISIC-2017_Training_Data\", \"ISIC-2017_Training_Part1_GroundTruth\"), augment=True)\n",
    "val_dataset_skin = utils.create_dataset(utils.create_list_skin(\"ISIC-2017_Validation_Data\", \"ISIC-2017_Validation_Part1_GroundTruth\"))\n",
    "test_dataset_skin = utils.create_dataset(utils.create_list_skin(\"ISIC-2017_Test_v2_Data\", \"ISIC-2017_Test_v2_Part1_GroundTruth\"))"
   ],
   "id": "251dd43eb04c003",
   "outputs": [],
   "execution_count": 11
  },
  {
   "metadata": {
    "ExecuteTime": {
     "end_time": "2025-02-04T11:23:06.920714Z",
     "start_time": "2025-02-04T11:23:06.905482Z"
    }
   },
   "cell_type": "code",
   "source": [
    "train_dataset_skin = train_dataset_skin.shuffle(buffer_size=2000).batch(batch_size)\n",
    "val_dataset_skin = val_dataset_skin.batch(batch_size)\n",
    "test_dataset_skin = test_dataset_skin.batch(batch_size)"
   ],
   "id": "e81186c50858ec68",
   "outputs": [],
   "execution_count": 12
  },
  {
   "metadata": {},
   "cell_type": "markdown",
   "source": "### Brain cancer dataset",
   "id": "926afb32985d8b12"
  },
  {
   "metadata": {
    "ExecuteTime": {
     "end_time": "2025-02-04T11:24:27.701341Z",
     "start_time": "2025-02-04T11:24:27.665734Z"
    }
   },
   "cell_type": "code",
   "source": [
    "train_pairs_brain, val_pairs_brain, test_pairs_brain = utils.split_dataset(utils.create_list_brain())\n",
    "print(f\"Number of training pairs: {len(train_pairs_brain)}\")\n",
    "print(f\"Number of val pairs: {len(val_pairs_brain)}\")\n",
    "print(f\"Number of test_pairs pairs: {len(test_pairs_brain)}\")"
   ],
   "id": "2c7356487ddfb086",
   "outputs": [
    {
     "name": "stdout",
     "output_type": "stream",
     "text": [
      "Number of training pairs: 2451\n",
      "Number of val pairs: 306\n",
      "Number of test_pairs pairs: 307\n"
     ]
    }
   ],
   "execution_count": 13
  },
  {
   "metadata": {
    "ExecuteTime": {
     "end_time": "2025-02-04T11:24:37.451688Z",
     "start_time": "2025-02-04T11:24:37.063362Z"
    }
   },
   "cell_type": "code",
   "source": [
    "train_dataset_brain = utils.create_dataset(train_pairs_brain, augment=True)\n",
    "val_dataset_brain = utils.create_dataset(val_pairs_brain)\n",
    "test_dataset_brain = utils.create_dataset(test_pairs_brain)"
   ],
   "id": "613ef1104b37aabf",
   "outputs": [],
   "execution_count": 14
  },
  {
   "metadata": {
    "ExecuteTime": {
     "end_time": "2025-02-04T11:24:46.583009Z",
     "start_time": "2025-02-04T11:24:46.570073Z"
    }
   },
   "cell_type": "code",
   "source": [
    "train_dataset_brain = train_dataset_brain.shuffle(buffer_size=len(train_pairs_brain)).batch(batch_size)\n",
    "val_dataset_brain = val_dataset_brain.batch(batch_size)\n",
    "test_dataset_brain = test_dataset_brain.batch(batch_size)"
   ],
   "id": "90e6ea543f4556c5",
   "outputs": [],
   "execution_count": 15
  },
  {
   "metadata": {},
   "cell_type": "markdown",
   "source": "## Architecture definition",
   "id": "e1c1dbb52a6fcf00"
  },
  {
   "metadata": {},
   "cell_type": "markdown",
   "source": "### Basic U-net",
   "id": "e98699251177bb40"
  },
  {
   "metadata": {
    "ExecuteTime": {
     "end_time": "2025-02-04T11:30:35.930783Z",
     "start_time": "2025-02-04T11:30:35.925157Z"
    }
   },
   "cell_type": "code",
   "source": [
    "def convolutional_layer(input, num_filters, kernel_size=(3, 3), initializer='he_normal'):\n",
    "\n",
    "    #first convolution\n",
    "    x = layers.Conv2D(filters=num_filters, kernel_size = kernel_size, padding='same', kernel_initializer=initializer)(input)\n",
    "    x = layers.BatchNormalization()(x)\n",
    "    x = layers.Activation('relu')(x)\n",
    "\n",
    "    #second convolution\n",
    "    x = layers.Conv2D(filters=num_filters, kernel_size=kernel_size, padding='same', kernel_initializer=initializer)(x)\n",
    "    x = layers.BatchNormalization()(x)\n",
    "    x = layers.Activation('relu')(x)\n",
    "\n",
    "    return x"
   ],
   "id": "9f682338be0c314",
   "outputs": [],
   "execution_count": 17
  },
  {
   "metadata": {
    "ExecuteTime": {
     "end_time": "2025-02-04T11:30:38.296569Z",
     "start_time": "2025-02-04T11:30:38.284442Z"
    }
   },
   "cell_type": "code",
   "source": [
    "def basic_unet(input_size, num_filters=16):\n",
    "    inputs = tf.keras.Input(shape=input_size)\n",
    "\n",
    "    #encoder block\n",
    "    first_conv = convolutional_layer(inputs, num_filters)\n",
    "    first_layer = layers.MaxPool2D(pool_size=(2, 2))(first_conv)\n",
    "    first_layer = layers.Dropout(0.3)(first_layer)\n",
    "\n",
    "    second_conv = convolutional_layer(first_layer, num_filters * 2)\n",
    "    second_layer = layers.MaxPool2D(pool_size=(2, 2))(second_conv)\n",
    "    second_layer = layers.Dropout(0.3)(second_layer)\n",
    "\n",
    "    third_conv = convolutional_layer(second_layer, num_filters * 4)\n",
    "    third_layer = layers.MaxPool2D(pool_size=(2, 2))(third_conv)\n",
    "    third_layer = layers.Dropout(0.3)(third_layer)\n",
    "\n",
    "    fourth_conv = convolutional_layer(third_layer, num_filters * 8)\n",
    "    fourth_layer = layers.MaxPool2D(pool_size=(2, 2))(fourth_conv)\n",
    "    fourth_layer = layers.Dropout(0.3)(fourth_layer)\n",
    "\n",
    "    fifth_conv = convolutional_layer(fourth_layer, num_filters * 16)\n",
    "\n",
    "    #decoder block\n",
    "    first_deconv = layers.Conv2DTranspose(num_filters * 8, kernel_size=(3, 3), strides=(2, 2), padding='same')(fifth_conv)\n",
    "    sixth_layer = layers.concatenate([first_deconv, fourth_conv])\n",
    "    sixth_layer = layers.Dropout(0.3)(sixth_layer)\n",
    "    sixth_conv = convolutional_layer(sixth_layer, num_filters * 8)\n",
    "\n",
    "    second_deconv = layers.Conv2DTranspose(num_filters * 4, kernel_size=(3, 3), strides=(2, 2), padding='same')(sixth_conv)\n",
    "    seventh_layer = layers.concatenate([second_deconv, third_conv])\n",
    "    seventh_layer = layers.Dropout(0.3)(seventh_layer)\n",
    "    seventh_conv = convolutional_layer(seventh_layer, num_filters * 4)\n",
    "\n",
    "    third_deconv = layers.Conv2DTranspose(num_filters * 2, kernel_size=(3, 3), strides=(2, 2), padding='same')(seventh_conv)\n",
    "    eighth_layer = layers.concatenate([third_deconv, second_conv])\n",
    "    eighth_layer = layers.Dropout(0.3)(eighth_layer)\n",
    "    eighth_conv = convolutional_layer(eighth_layer, num_filters * 2)\n",
    "\n",
    "    fourth_deconv = layers.Conv2DTranspose(num_filters, kernel_size=(3, 3), strides=(2, 2), padding='same')(eighth_conv)\n",
    "    ninth_layer = layers.concatenate([fourth_deconv, first_conv])\n",
    "    ninth_layer = layers.Dropout(0.3)(ninth_layer)\n",
    "    ninth_conv = convolutional_layer(ninth_layer, num_filters)\n",
    "\n",
    "    #output layer\n",
    "    output = layers.Conv2D(1, kernel_size=(1, 1), activation='sigmoid')(ninth_conv)\n",
    "\n",
    "    unet = Model(inputs=inputs, outputs=output)\n",
    "\n",
    "    return unet"
   ],
   "id": "c638dfc0b46d4d90",
   "outputs": [],
   "execution_count": 18
  },
  {
   "metadata": {},
   "cell_type": "markdown",
   "source": "### UC-Transnet",
   "id": "650a35171b1d6a46"
  },
  {
   "metadata": {
    "ExecuteTime": {
     "end_time": "2025-02-04T12:02:34.625550Z",
     "start_time": "2025-02-04T12:02:34.614275Z"
    }
   },
   "cell_type": "code",
   "source": [
    "from keras import layers, Model\n",
    "\n",
    "class ChannelTransformer(layers.Layer):\n",
    "    def __init__(self, num_heads=4, embed_dim=256, mlp_dim=512, dropout=0.1):\n",
    "        super(ChannelTransformer, self).__init__()\n",
    "\n",
    "        self.attention = layers.MultiHeadAttention(num_heads=num_heads, key_dim=embed_dim)\n",
    "        self.norm1 = layers.LayerNormalization(epsilon=1e-6)\n",
    "        self.norm2 = layers.LayerNormalization(epsilon=1e-6)\n",
    "\n",
    "        self.mlp = tf.keras.Sequential([\n",
    "            layers.Dense(mlp_dim, activation=\"gelu\"),\n",
    "            layers.Dense(embed_dim)\n",
    "        ])\n",
    "        self.dropout = layers.Dropout(dropout)\n",
    "\n",
    "    def call(self, x):\n",
    "        batch_size = tf.shape(x)[0]\n",
    "        H, W, C = x.shape[1], x.shape[2], x.shape[3]\n",
    "\n",
    "        x = tf.reshape(x, (batch_size, -1, C))\n",
    "        attn_output = self.attention(x, x)\n",
    "        x = self.norm1(x + attn_output)\n",
    "\n",
    "        mlp_output = self.mlp(x)\n",
    "        x = self.norm2(x + mlp_output)\n",
    "\n",
    "        x = tf.reshape(x, (batch_size, H, W, C))\n",
    "        return x\n",
    "\n",
    "# ==============================\n",
    "# 🔹 Channel-wise Cross Attention\n",
    "# ==============================\n",
    "class CCA(layers.Layer):\n",
    "    def __init__(self, F_g, F_x):\n",
    "        super(CCA, self).__init__()\n",
    "        self.mlp_x = tf.keras.Sequential([\n",
    "            layers.GlobalAveragePooling2D(),\n",
    "            layers.Dense(F_x, activation='relu')\n",
    "        ])\n",
    "        self.mlp_g = tf.keras.Sequential([\n",
    "            layers.GlobalAveragePooling2D(),\n",
    "            layers.Dense(F_x, activation='relu')\n",
    "        ])\n",
    "\n",
    "    def call(self, g, x):\n",
    "        channel_att_x = self.mlp_x(x)\n",
    "        channel_att_g = self.mlp_g(g)\n",
    "\n",
    "        scale = tf.expand_dims(tf.expand_dims(tf.nn.sigmoid((channel_att_x + channel_att_g) / 2.0), axis=1), axis=1)\n",
    "        return x * scale"
   ],
   "id": "6afc45de3c46faf2",
   "outputs": [],
   "execution_count": 23
  },
  {
   "metadata": {
    "ExecuteTime": {
     "end_time": "2025-02-04T12:03:46.436513Z",
     "start_time": "2025-02-04T12:03:46.419946Z"
    }
   },
   "cell_type": "code",
   "source": [
    "# ==============================\n",
    "# 🔹 UCTransNet con Unet Pre-addestrato\n",
    "# ==============================\n",
    "def UCTransNet(input_shape=(256, 256, 3), pretrained_unet=None):\n",
    "    inputs = layers.Input(shape=input_shape)\n",
    "\n",
    "    # Encoder\n",
    "    x1 = pretrained_unet.get_layer(index=1)(inputs) if pretrained_unet else convolutional_layer(inputs, 32)\n",
    "    p1 = layers.MaxPooling2D((2, 2))(x1)\n",
    "\n",
    "    x2 = pretrained_unet.get_layer(index=3)(p1) if pretrained_unet else convolutional_layer(p1, 64)\n",
    "    p2 = layers.MaxPooling2D((2, 2))(x2)\n",
    "\n",
    "    x3 = pretrained_unet.get_layer(index=5)(p2) if pretrained_unet else convolutional_layer(p2, 128)\n",
    "    p3 = layers.MaxPooling2D((2, 2))(x3)\n",
    "\n",
    "    # Adattiamo p3 a 256 canali prima di passarlo al Transformer\n",
    "    p3 = layers.Conv2D(256, (1, 1), padding='same')(p3)\n",
    "    x4 = ChannelTransformer(num_heads=4, embed_dim=256, mlp_dim=512)(p3)\n",
    "\n",
    "    # Decoder con CCA\n",
    "    d1 = layers.UpSampling2D((2, 2))(x4)\n",
    "    d1 = layers.Conv2D(128, (3, 3), padding='same', activation='relu')(d1)\n",
    "\n",
    "    x3 = layers.Conv2D(128, (1, 1), padding='same')(x3)  # 🔹 Correzione: x3 ora ha 128 canali\n",
    "    d1 = CCA(128, 128)(d1, x3)\n",
    "    d1 = layers.Concatenate()([d1, x3])\n",
    "\n",
    "    d2 = layers.UpSampling2D((2, 2))(d1)\n",
    "    d2 = layers.Conv2D(64, (3, 3), padding='same', activation='relu')(d2)\n",
    "\n",
    "    x2 = layers.Conv2D(64, (1, 1), padding='same')(x2)  # 🔹 Correzione per x2\n",
    "    d2 = CCA(64, 64)(d2, x2)\n",
    "    d2 = layers.Concatenate()([d2, x2])\n",
    "\n",
    "    d3 = layers.UpSampling2D((2, 2))(d2)\n",
    "    d3 = layers.Conv2D(32, (3, 3), padding='same', activation='relu')(d3)\n",
    "\n",
    "    x1 = layers.Conv2D(32, (1, 1), padding='same')(x1)  # 🔹 Correzione per x1\n",
    "    d3 = CCA(32, 32)(d3, x1)\n",
    "    d3 = layers.Concatenate()([d3, x1])\n",
    "\n",
    "    outputs = layers.Conv2D(1, (1, 1), activation='sigmoid')(d3)\n",
    "\n",
    "    return Model(inputs, outputs)"
   ],
   "id": "6ac911a99a678b4b",
   "outputs": [],
   "execution_count": 28
  },
  {
   "metadata": {
    "ExecuteTime": {
     "end_time": "2025-02-04T12:12:30.202229Z",
     "start_time": "2025-02-04T12:12:29.344900Z"
    }
   },
   "cell_type": "code",
   "source": [
    "optimizer = tf.keras.optimizers.Adam(learning_rate=0.0001)\n",
    "lr_adapter = tf.keras.callbacks.ReduceLROnPlateau(monitor=\"val_dice_coefficient\", mode = \"max\", factor=0.1, patience=5, min_lr=0.00001)\n",
    "early_stopping = tf.keras.callbacks.EarlyStopping(monitor=\"val_dice_coefficient\", mode= \"max\", patience=10, restore_best_weights=True)\n",
    "\n",
    "model = UCTransNet()\n",
    "model.compile(optimizer=optimizer,\n",
    "                         loss=utils.tversky_loss,\n",
    "                         metrics=[utils.dice_coefficient, utils.iou, 'accuracy'])"
   ],
   "id": "db658d5ec8e83e7f",
   "outputs": [],
   "execution_count": 35
  },
  {
   "metadata": {
    "ExecuteTime": {
     "end_time": "2025-02-04T12:12:32.564034Z",
     "start_time": "2025-02-04T12:12:32.392779Z"
    }
   },
   "cell_type": "code",
   "source": "model.summary()",
   "id": "368e0e74f630ec32",
   "outputs": [
    {
     "name": "stdout",
     "output_type": "stream",
     "text": [
      "Model: \"model_3\"\n",
      "__________________________________________________________________________________________________\n",
      " Layer (type)                Output Shape                 Param #   Connected to                  \n",
      "==================================================================================================\n",
      " input_6 (InputLayer)        [(None, 256, 256, 3)]        0         []                            \n",
      "                                                                                                  \n",
      " conv2d_96 (Conv2D)          (None, 256, 256, 16)         448       ['input_6[0][0]']             \n",
      "                                                                                                  \n",
      " batch_normalization_46 (Ba  (None, 256, 256, 16)         64        ['conv2d_96[0][0]']           \n",
      " tchNormalization)                                                                                \n",
      "                                                                                                  \n",
      " activation_46 (Activation)  (None, 256, 256, 16)         0         ['batch_normalization_46[0][0]\n",
      "                                                                    ']                            \n",
      "                                                                                                  \n",
      " conv2d_97 (Conv2D)          (None, 256, 256, 16)         2320      ['activation_46[0][0]']       \n",
      "                                                                                                  \n",
      " batch_normalization_47 (Ba  (None, 256, 256, 16)         64        ['conv2d_97[0][0]']           \n",
      " tchNormalization)                                                                                \n",
      "                                                                                                  \n",
      " activation_47 (Activation)  (None, 256, 256, 16)         0         ['batch_normalization_47[0][0]\n",
      "                                                                    ']                            \n",
      "                                                                                                  \n",
      " max_pooling2d_23 (MaxPooli  (None, 128, 128, 16)         0         ['activation_47[0][0]']       \n",
      " ng2D)                                                                                            \n",
      "                                                                                                  \n",
      " conv2d_98 (Conv2D)          (None, 128, 128, 32)         4640      ['max_pooling2d_23[0][0]']    \n",
      "                                                                                                  \n",
      " batch_normalization_48 (Ba  (None, 128, 128, 32)         128       ['conv2d_98[0][0]']           \n",
      " tchNormalization)                                                                                \n",
      "                                                                                                  \n",
      " activation_48 (Activation)  (None, 128, 128, 32)         0         ['batch_normalization_48[0][0]\n",
      "                                                                    ']                            \n",
      "                                                                                                  \n",
      " conv2d_99 (Conv2D)          (None, 128, 128, 32)         9248      ['activation_48[0][0]']       \n",
      "                                                                                                  \n",
      " batch_normalization_49 (Ba  (None, 128, 128, 32)         128       ['conv2d_99[0][0]']           \n",
      " tchNormalization)                                                                                \n",
      "                                                                                                  \n",
      " activation_49 (Activation)  (None, 128, 128, 32)         0         ['batch_normalization_49[0][0]\n",
      "                                                                    ']                            \n",
      "                                                                                                  \n",
      " max_pooling2d_24 (MaxPooli  (None, 64, 64, 32)           0         ['activation_49[0][0]']       \n",
      " ng2D)                                                                                            \n",
      "                                                                                                  \n",
      " conv2d_100 (Conv2D)         (None, 64, 64, 64)           18496     ['max_pooling2d_24[0][0]']    \n",
      "                                                                                                  \n",
      " batch_normalization_50 (Ba  (None, 64, 64, 64)           256       ['conv2d_100[0][0]']          \n",
      " tchNormalization)                                                                                \n",
      "                                                                                                  \n",
      " activation_50 (Activation)  (None, 64, 64, 64)           0         ['batch_normalization_50[0][0]\n",
      "                                                                    ']                            \n",
      "                                                                                                  \n",
      " conv2d_101 (Conv2D)         (None, 64, 64, 64)           36928     ['activation_50[0][0]']       \n",
      "                                                                                                  \n",
      " batch_normalization_51 (Ba  (None, 64, 64, 64)           256       ['conv2d_101[0][0]']          \n",
      " tchNormalization)                                                                                \n",
      "                                                                                                  \n",
      " activation_51 (Activation)  (None, 64, 64, 64)           0         ['batch_normalization_51[0][0]\n",
      "                                                                    ']                            \n",
      "                                                                                                  \n",
      " max_pooling2d_25 (MaxPooli  (None, 32, 32, 64)           0         ['activation_51[0][0]']       \n",
      " ng2D)                                                                                            \n",
      "                                                                                                  \n",
      " conv2d_102 (Conv2D)         (None, 32, 32, 128)          73856     ['max_pooling2d_25[0][0]']    \n",
      "                                                                                                  \n",
      " batch_normalization_52 (Ba  (None, 32, 32, 128)          512       ['conv2d_102[0][0]']          \n",
      " tchNormalization)                                                                                \n",
      "                                                                                                  \n",
      " activation_52 (Activation)  (None, 32, 32, 128)          0         ['batch_normalization_52[0][0]\n",
      "                                                                    ']                            \n",
      "                                                                                                  \n",
      " conv2d_103 (Conv2D)         (None, 32, 32, 128)          147584    ['activation_52[0][0]']       \n",
      "                                                                                                  \n",
      " batch_normalization_53 (Ba  (None, 32, 32, 128)          512       ['conv2d_103[0][0]']          \n",
      " tchNormalization)                                                                                \n",
      "                                                                                                  \n",
      " activation_53 (Activation)  (None, 32, 32, 128)          0         ['batch_normalization_53[0][0]\n",
      "                                                                    ']                            \n",
      "                                                                                                  \n",
      " max_pooling2d_26 (MaxPooli  (None, 16, 16, 128)          0         ['activation_53[0][0]']       \n",
      " ng2D)                                                                                            \n",
      "                                                                                                  \n",
      " conv2d_104 (Conv2D)         (None, 16, 16, 256)          295168    ['max_pooling2d_26[0][0]']    \n",
      "                                                                                                  \n",
      " batch_normalization_54 (Ba  (None, 16, 16, 256)          1024      ['conv2d_104[0][0]']          \n",
      " tchNormalization)                                                                                \n",
      "                                                                                                  \n",
      " activation_54 (Activation)  (None, 16, 16, 256)          0         ['batch_normalization_54[0][0]\n",
      "                                                                    ']                            \n",
      "                                                                                                  \n",
      " conv2d_105 (Conv2D)         (None, 16, 16, 256)          590080    ['activation_54[0][0]']       \n",
      "                                                                                                  \n",
      " batch_normalization_55 (Ba  (None, 16, 16, 256)          1024      ['conv2d_105[0][0]']          \n",
      " tchNormalization)                                                                                \n",
      "                                                                                                  \n",
      " activation_55 (Activation)  (None, 16, 16, 256)          0         ['batch_normalization_55[0][0]\n",
      "                                                                    ']                            \n",
      "                                                                                                  \n",
      " max_pooling2d_27 (MaxPooli  (None, 8, 8, 256)            0         ['activation_55[0][0]']       \n",
      " ng2D)                                                                                            \n",
      "                                                                                                  \n",
      " channel_transformer_5 (Cha  (None, 8, 8, 256)            1315840   ['max_pooling2d_27[0][0]']    \n",
      " nnelTransformer)                                                                                 \n",
      "                                                                                                  \n",
      " up_sampling2d_23 (UpSampli  (None, 16, 16, 256)          0         ['channel_transformer_5[0][0]'\n",
      " ng2D)                                                              ]                             \n",
      "                                                                                                  \n",
      " conv2d_106 (Conv2D)         (None, 16, 16, 256)          590080    ['up_sampling2d_23[0][0]']    \n",
      "                                                                                                  \n",
      " conv2d_107 (Conv2D)         (None, 16, 16, 256)          65792     ['activation_55[0][0]']       \n",
      "                                                                                                  \n",
      " cca_23 (CCA)                (None, 16, 16, 256)          131584    ['conv2d_106[0][0]',          \n",
      "                                                                     'conv2d_107[0][0]']          \n",
      "                                                                                                  \n",
      " concatenate_21 (Concatenat  (None, 16, 16, 512)          0         ['cca_23[0][0]',              \n",
      " e)                                                                  'conv2d_107[0][0]']          \n",
      "                                                                                                  \n",
      " up_sampling2d_24 (UpSampli  (None, 32, 32, 512)          0         ['concatenate_21[0][0]']      \n",
      " ng2D)                                                                                            \n",
      "                                                                                                  \n",
      " conv2d_108 (Conv2D)         (None, 32, 32, 128)          589952    ['up_sampling2d_24[0][0]']    \n",
      "                                                                                                  \n",
      " conv2d_109 (Conv2D)         (None, 32, 32, 128)          16512     ['activation_53[0][0]']       \n",
      "                                                                                                  \n",
      " cca_24 (CCA)                (None, 32, 32, 128)          33024     ['conv2d_108[0][0]',          \n",
      "                                                                     'conv2d_109[0][0]']          \n",
      "                                                                                                  \n",
      " concatenate_22 (Concatenat  (None, 32, 32, 256)          0         ['cca_24[0][0]',              \n",
      " e)                                                                  'conv2d_109[0][0]']          \n",
      "                                                                                                  \n",
      " up_sampling2d_25 (UpSampli  (None, 64, 64, 256)          0         ['concatenate_22[0][0]']      \n",
      " ng2D)                                                                                            \n",
      "                                                                                                  \n",
      " conv2d_110 (Conv2D)         (None, 64, 64, 64)           147520    ['up_sampling2d_25[0][0]']    \n",
      "                                                                                                  \n",
      " conv2d_111 (Conv2D)         (None, 64, 64, 64)           4160      ['activation_51[0][0]']       \n",
      "                                                                                                  \n",
      " cca_25 (CCA)                (None, 64, 64, 64)           8320      ['conv2d_110[0][0]',          \n",
      "                                                                     'conv2d_111[0][0]']          \n",
      "                                                                                                  \n",
      " concatenate_23 (Concatenat  (None, 64, 64, 128)          0         ['cca_25[0][0]',              \n",
      " e)                                                                  'conv2d_111[0][0]']          \n",
      "                                                                                                  \n",
      " up_sampling2d_26 (UpSampli  (None, 128, 128, 128)        0         ['concatenate_23[0][0]']      \n",
      " ng2D)                                                                                            \n",
      "                                                                                                  \n",
      " conv2d_112 (Conv2D)         (None, 128, 128, 32)         36896     ['up_sampling2d_26[0][0]']    \n",
      "                                                                                                  \n",
      " conv2d_113 (Conv2D)         (None, 128, 128, 32)         1056      ['activation_49[0][0]']       \n",
      "                                                                                                  \n",
      " cca_26 (CCA)                (None, 128, 128, 32)         2112      ['conv2d_112[0][0]',          \n",
      "                                                                     'conv2d_113[0][0]']          \n",
      "                                                                                                  \n",
      " concatenate_24 (Concatenat  (None, 128, 128, 64)         0         ['cca_26[0][0]',              \n",
      " e)                                                                  'conv2d_113[0][0]']          \n",
      "                                                                                                  \n",
      " up_sampling2d_27 (UpSampli  (None, 256, 256, 64)         0         ['concatenate_24[0][0]']      \n",
      " ng2D)                                                                                            \n",
      "                                                                                                  \n",
      " conv2d_114 (Conv2D)         (None, 256, 256, 16)         9232      ['up_sampling2d_27[0][0]']    \n",
      "                                                                                                  \n",
      " conv2d_115 (Conv2D)         (None, 256, 256, 16)         272       ['activation_47[0][0]']       \n",
      "                                                                                                  \n",
      " cca_27 (CCA)                (None, 256, 256, 16)         544       ['conv2d_114[0][0]',          \n",
      "                                                                     'conv2d_115[0][0]']          \n",
      "                                                                                                  \n",
      " concatenate_25 (Concatenat  (None, 256, 256, 32)         0         ['cca_27[0][0]',              \n",
      " e)                                                                  'conv2d_115[0][0]']          \n",
      "                                                                                                  \n",
      " conv2d_116 (Conv2D)         (None, 256, 256, 1)          33        ['concatenate_25[0][0]']      \n",
      "                                                                                                  \n",
      "==================================================================================================\n",
      "Total params: 4135665 (15.78 MB)\n",
      "Trainable params: 4133681 (15.77 MB)\n",
      "Non-trainable params: 1984 (7.75 KB)\n",
      "__________________________________________________________________________________________________\n"
     ]
    }
   ],
   "execution_count": 36
  },
  {
   "metadata": {
    "ExecuteTime": {
     "end_time": "2025-02-04T12:12:04.209482Z",
     "start_time": "2025-02-04T12:06:54.595605Z"
    }
   },
   "cell_type": "code",
   "source": "model.fit(train_dataset_skin, validation_data=val_dataset_skin, epochs=100, callbacks = [lr_adapter, early_stopping])",
   "id": "aa8614cb7082db8f",
   "outputs": [
    {
     "name": "stdout",
     "output_type": "stream",
     "text": [
      "Epoch 1/100\n",
      "65/65 [==============================] - 25s 118ms/step - loss: 0.7509 - dice_coefficient: 0.1895 - iou: 0.1059 - accuracy: 0.4937 - val_loss: 0.7866 - val_dice_coefficient: 0.1454 - val_iou: 0.0805 - val_accuracy: 0.6429 - lr: 1.0000e-04\n",
      "Epoch 2/100\n",
      "65/65 [==============================] - 9s 107ms/step - loss: 0.7169 - dice_coefficient: 0.2126 - iou: 0.1203 - accuracy: 0.4336 - val_loss: 0.7714 - val_dice_coefficient: 0.1557 - val_iou: 0.0869 - val_accuracy: 0.5448 - lr: 1.0000e-04\n",
      "Epoch 3/100\n",
      "65/65 [==============================] - 9s 117ms/step - loss: 0.7056 - dice_coefficient: 0.2189 - iou: 0.1249 - accuracy: 0.4387 - val_loss: 0.7536 - val_dice_coefficient: 0.1667 - val_iou: 0.0940 - val_accuracy: 0.4950 - lr: 1.0000e-04\n",
      "Epoch 4/100\n",
      "65/65 [==============================] - 10s 119ms/step - loss: 0.6940 - dice_coefficient: 0.2260 - iou: 0.1292 - accuracy: 0.4328 - val_loss: 0.7394 - val_dice_coefficient: 0.1745 - val_iou: 0.0991 - val_accuracy: 0.4675 - lr: 1.0000e-04\n",
      "Epoch 5/100\n",
      "65/65 [==============================] - 9s 117ms/step - loss: 0.6896 - dice_coefficient: 0.2298 - iou: 0.1322 - accuracy: 0.4301 - val_loss: 0.7304 - val_dice_coefficient: 0.1792 - val_iou: 0.1022 - val_accuracy: 0.4538 - lr: 1.0000e-04\n",
      "Epoch 6/100\n",
      "65/65 [==============================] - 9s 116ms/step - loss: 0.6897 - dice_coefficient: 0.2280 - iou: 0.1312 - accuracy: 0.4204 - val_loss: 0.7253 - val_dice_coefficient: 0.1816 - val_iou: 0.1038 - val_accuracy: 0.4434 - lr: 1.0000e-04\n",
      "Epoch 7/100\n",
      "65/65 [==============================] - 9s 116ms/step - loss: 0.6860 - dice_coefficient: 0.2298 - iou: 0.1320 - accuracy: 0.4190 - val_loss: 0.7222 - val_dice_coefficient: 0.1830 - val_iou: 0.1047 - val_accuracy: 0.4369 - lr: 1.0000e-04\n",
      "Epoch 8/100\n",
      "65/65 [==============================] - 10s 120ms/step - loss: 0.6835 - dice_coefficient: 0.2308 - iou: 0.1328 - accuracy: 0.4159 - val_loss: 0.7203 - val_dice_coefficient: 0.1838 - val_iou: 0.1053 - val_accuracy: 0.4312 - lr: 1.0000e-04\n",
      "Epoch 9/100\n",
      "65/65 [==============================] - 10s 121ms/step - loss: 0.6768 - dice_coefficient: 0.2349 - iou: 0.1350 - accuracy: 0.4140 - val_loss: 0.7186 - val_dice_coefficient: 0.1845 - val_iou: 0.1057 - val_accuracy: 0.4265 - lr: 1.0000e-04\n",
      "Epoch 10/100\n",
      "65/65 [==============================] - 10s 125ms/step - loss: 0.6774 - dice_coefficient: 0.2353 - iou: 0.1355 - accuracy: 0.4134 - val_loss: 0.7175 - val_dice_coefficient: 0.1848 - val_iou: 0.1060 - val_accuracy: 0.4204 - lr: 1.0000e-04\n",
      "Epoch 11/100\n",
      "65/65 [==============================] - 10s 122ms/step - loss: 0.6813 - dice_coefficient: 0.2326 - iou: 0.1338 - accuracy: 0.4078 - val_loss: 0.7166 - val_dice_coefficient: 0.1852 - val_iou: 0.1062 - val_accuracy: 0.4173 - lr: 1.0000e-04\n",
      "Epoch 12/100\n",
      "65/65 [==============================] - 10s 123ms/step - loss: 0.6771 - dice_coefficient: 0.2345 - iou: 0.1345 - accuracy: 0.4105 - val_loss: 0.7159 - val_dice_coefficient: 0.1854 - val_iou: 0.1063 - val_accuracy: 0.4148 - lr: 1.0000e-04\n",
      "Epoch 13/100\n",
      "65/65 [==============================] - 10s 124ms/step - loss: 0.6757 - dice_coefficient: 0.2354 - iou: 0.1356 - accuracy: 0.4089 - val_loss: 0.7153 - val_dice_coefficient: 0.1855 - val_iou: 0.1064 - val_accuracy: 0.4108 - lr: 1.0000e-04\n",
      "Epoch 14/100\n",
      "65/65 [==============================] - 10s 132ms/step - loss: 0.6734 - dice_coefficient: 0.2360 - iou: 0.1353 - accuracy: 0.4100 - val_loss: 0.7149 - val_dice_coefficient: 0.1857 - val_iou: 0.1065 - val_accuracy: 0.4085 - lr: 1.0000e-04\n",
      "Epoch 15/100\n",
      "65/65 [==============================] - 10s 121ms/step - loss: 0.6748 - dice_coefficient: 0.2363 - iou: 0.1364 - accuracy: 0.4102 - val_loss: 0.7145 - val_dice_coefficient: 0.1858 - val_iou: 0.1066 - val_accuracy: 0.4068 - lr: 1.0000e-04\n",
      "Epoch 16/100\n",
      "65/65 [==============================] - 10s 122ms/step - loss: 0.6709 - dice_coefficient: 0.2396 - iou: 0.1380 - accuracy: 0.4147 - val_loss: 0.7140 - val_dice_coefficient: 0.1861 - val_iou: 0.1069 - val_accuracy: 0.4080 - lr: 1.0000e-04\n",
      "Epoch 17/100\n",
      "65/65 [==============================] - 10s 128ms/step - loss: 0.6717 - dice_coefficient: 0.2373 - iou: 0.1366 - accuracy: 0.4110 - val_loss: 0.7138 - val_dice_coefficient: 0.1862 - val_iou: 0.1069 - val_accuracy: 0.4054 - lr: 1.0000e-04\n",
      "Epoch 18/100\n",
      "65/65 [==============================] - 10s 131ms/step - loss: 0.6730 - dice_coefficient: 0.2380 - iou: 0.1372 - accuracy: 0.4115 - val_loss: 0.7135 - val_dice_coefficient: 0.1863 - val_iou: 0.1069 - val_accuracy: 0.4044 - lr: 1.0000e-04\n",
      "Epoch 19/100\n",
      "65/65 [==============================] - 10s 127ms/step - loss: 0.6738 - dice_coefficient: 0.2368 - iou: 0.1365 - accuracy: 0.4121 - val_loss: 0.7132 - val_dice_coefficient: 0.1864 - val_iou: 0.1070 - val_accuracy: 0.4034 - lr: 1.0000e-04\n",
      "Epoch 20/100\n",
      "65/65 [==============================] - 10s 124ms/step - loss: 0.6717 - dice_coefficient: 0.2381 - iou: 0.1372 - accuracy: 0.4128 - val_loss: 0.7130 - val_dice_coefficient: 0.1865 - val_iou: 0.1071 - val_accuracy: 0.4038 - lr: 1.0000e-04\n",
      "Epoch 21/100\n",
      "65/65 [==============================] - 10s 124ms/step - loss: 0.6738 - dice_coefficient: 0.2372 - iou: 0.1368 - accuracy: 0.4149 - val_loss: 0.7127 - val_dice_coefficient: 0.1867 - val_iou: 0.1072 - val_accuracy: 0.4039 - lr: 1.0000e-04\n",
      "Epoch 22/100\n",
      "65/65 [==============================] - 10s 131ms/step - loss: 0.6700 - dice_coefficient: 0.2393 - iou: 0.1378 - accuracy: 0.4135 - val_loss: 0.7127 - val_dice_coefficient: 0.1866 - val_iou: 0.1072 - val_accuracy: 0.4017 - lr: 1.0000e-04\n",
      "Epoch 23/100\n",
      "65/65 [==============================] - 10s 127ms/step - loss: 0.6715 - dice_coefficient: 0.2379 - iou: 0.1370 - accuracy: 0.4124 - val_loss: 0.7126 - val_dice_coefficient: 0.1866 - val_iou: 0.1072 - val_accuracy: 0.4001 - lr: 1.0000e-04\n",
      "Epoch 24/100\n",
      "65/65 [==============================] - 10s 131ms/step - loss: 0.6725 - dice_coefficient: 0.2384 - iou: 0.1381 - accuracy: 0.4158 - val_loss: 0.7124 - val_dice_coefficient: 0.1868 - val_iou: 0.1073 - val_accuracy: 0.4001 - lr: 1.0000e-04\n",
      "Epoch 25/100\n",
      "65/65 [==============================] - 10s 128ms/step - loss: 0.6754 - dice_coefficient: 0.2372 - iou: 0.1371 - accuracy: 0.4138 - val_loss: 0.7122 - val_dice_coefficient: 0.1868 - val_iou: 0.1073 - val_accuracy: 0.3999 - lr: 1.0000e-04\n",
      "Epoch 26/100\n",
      "65/65 [==============================] - 10s 125ms/step - loss: 0.6714 - dice_coefficient: 0.2386 - iou: 0.1378 - accuracy: 0.4106 - val_loss: 0.7123 - val_dice_coefficient: 0.1866 - val_iou: 0.1072 - val_accuracy: 0.3964 - lr: 1.0000e-04\n",
      "Epoch 27/100\n",
      "65/65 [==============================] - 10s 135ms/step - loss: 0.6688 - dice_coefficient: 0.2403 - iou: 0.1386 - accuracy: 0.4132 - val_loss: 0.7121 - val_dice_coefficient: 0.1868 - val_iou: 0.1073 - val_accuracy: 0.3970 - lr: 1.0000e-04\n",
      "Epoch 28/100\n",
      "65/65 [==============================] - 10s 132ms/step - loss: 0.6737 - dice_coefficient: 0.2367 - iou: 0.1368 - accuracy: 0.4135 - val_loss: 0.7121 - val_dice_coefficient: 0.1868 - val_iou: 0.1073 - val_accuracy: 0.3966 - lr: 1.0000e-04\n",
      "Epoch 29/100\n",
      "65/65 [==============================] - 10s 129ms/step - loss: 0.6692 - dice_coefficient: 0.2409 - iou: 0.1394 - accuracy: 0.4104 - val_loss: 0.7120 - val_dice_coefficient: 0.1868 - val_iou: 0.1073 - val_accuracy: 0.3958 - lr: 1.0000e-04\n",
      "Epoch 30/100\n",
      "57/65 [=========================>....] - ETA: 1s - loss: 0.6697 - dice_coefficient: 0.2401 - iou: 0.1386 - accuracy: 0.4140"
     ]
    },
    {
     "ename": "KeyboardInterrupt",
     "evalue": "",
     "output_type": "error",
     "traceback": [
      "\u001B[0;31m---------------------------------------------------------------------------\u001B[0m",
      "\u001B[0;31mKeyboardInterrupt\u001B[0m                         Traceback (most recent call last)",
      "Cell \u001B[0;32mIn[34], line 1\u001B[0m\n\u001B[0;32m----> 1\u001B[0m \u001B[43mmodel\u001B[49m\u001B[38;5;241;43m.\u001B[39;49m\u001B[43mfit\u001B[49m\u001B[43m(\u001B[49m\u001B[43mtrain_dataset_breast\u001B[49m\u001B[43m,\u001B[49m\u001B[43m \u001B[49m\u001B[43mvalidation_data\u001B[49m\u001B[38;5;241;43m=\u001B[39;49m\u001B[43mval_dataset_breast\u001B[49m\u001B[43m,\u001B[49m\u001B[43m \u001B[49m\u001B[43mepochs\u001B[49m\u001B[38;5;241;43m=\u001B[39;49m\u001B[38;5;241;43m100\u001B[39;49m\u001B[43m,\u001B[49m\u001B[43m \u001B[49m\u001B[43mcallbacks\u001B[49m\u001B[43m \u001B[49m\u001B[38;5;241;43m=\u001B[39;49m\u001B[43m \u001B[49m\u001B[43m[\u001B[49m\u001B[43mlr_adapter\u001B[49m\u001B[43m,\u001B[49m\u001B[43m \u001B[49m\u001B[43mearly_stopping\u001B[49m\u001B[43m]\u001B[49m\u001B[43m)\u001B[49m\n",
      "File \u001B[0;32m/usr/local/lib/python3.11/dist-packages/keras/src/utils/traceback_utils.py:65\u001B[0m, in \u001B[0;36mfilter_traceback.<locals>.error_handler\u001B[0;34m(*args, **kwargs)\u001B[0m\n\u001B[1;32m     63\u001B[0m filtered_tb \u001B[38;5;241m=\u001B[39m \u001B[38;5;28;01mNone\u001B[39;00m\n\u001B[1;32m     64\u001B[0m \u001B[38;5;28;01mtry\u001B[39;00m:\n\u001B[0;32m---> 65\u001B[0m     \u001B[38;5;28;01mreturn\u001B[39;00m \u001B[43mfn\u001B[49m\u001B[43m(\u001B[49m\u001B[38;5;241;43m*\u001B[39;49m\u001B[43margs\u001B[49m\u001B[43m,\u001B[49m\u001B[43m \u001B[49m\u001B[38;5;241;43m*\u001B[39;49m\u001B[38;5;241;43m*\u001B[39;49m\u001B[43mkwargs\u001B[49m\u001B[43m)\u001B[49m\n\u001B[1;32m     66\u001B[0m \u001B[38;5;28;01mexcept\u001B[39;00m \u001B[38;5;167;01mException\u001B[39;00m \u001B[38;5;28;01mas\u001B[39;00m e:\n\u001B[1;32m     67\u001B[0m     filtered_tb \u001B[38;5;241m=\u001B[39m _process_traceback_frames(e\u001B[38;5;241m.\u001B[39m__traceback__)\n",
      "File \u001B[0;32m/usr/local/lib/python3.11/dist-packages/keras/src/engine/training.py:1807\u001B[0m, in \u001B[0;36mModel.fit\u001B[0;34m(self, x, y, batch_size, epochs, verbose, callbacks, validation_split, validation_data, shuffle, class_weight, sample_weight, initial_epoch, steps_per_epoch, validation_steps, validation_batch_size, validation_freq, max_queue_size, workers, use_multiprocessing)\u001B[0m\n\u001B[1;32m   1799\u001B[0m \u001B[38;5;28;01mwith\u001B[39;00m tf\u001B[38;5;241m.\u001B[39mprofiler\u001B[38;5;241m.\u001B[39mexperimental\u001B[38;5;241m.\u001B[39mTrace(\n\u001B[1;32m   1800\u001B[0m     \u001B[38;5;124m\"\u001B[39m\u001B[38;5;124mtrain\u001B[39m\u001B[38;5;124m\"\u001B[39m,\n\u001B[1;32m   1801\u001B[0m     epoch_num\u001B[38;5;241m=\u001B[39mepoch,\n\u001B[0;32m   (...)\u001B[0m\n\u001B[1;32m   1804\u001B[0m     _r\u001B[38;5;241m=\u001B[39m\u001B[38;5;241m1\u001B[39m,\n\u001B[1;32m   1805\u001B[0m ):\n\u001B[1;32m   1806\u001B[0m     callbacks\u001B[38;5;241m.\u001B[39mon_train_batch_begin(step)\n\u001B[0;32m-> 1807\u001B[0m     tmp_logs \u001B[38;5;241m=\u001B[39m \u001B[38;5;28;43mself\u001B[39;49m\u001B[38;5;241;43m.\u001B[39;49m\u001B[43mtrain_function\u001B[49m\u001B[43m(\u001B[49m\u001B[43miterator\u001B[49m\u001B[43m)\u001B[49m\n\u001B[1;32m   1808\u001B[0m     \u001B[38;5;28;01mif\u001B[39;00m data_handler\u001B[38;5;241m.\u001B[39mshould_sync:\n\u001B[1;32m   1809\u001B[0m         context\u001B[38;5;241m.\u001B[39masync_wait()\n",
      "File \u001B[0;32m/usr/local/lib/python3.11/dist-packages/tensorflow/python/util/traceback_utils.py:150\u001B[0m, in \u001B[0;36mfilter_traceback.<locals>.error_handler\u001B[0;34m(*args, **kwargs)\u001B[0m\n\u001B[1;32m    148\u001B[0m filtered_tb \u001B[38;5;241m=\u001B[39m \u001B[38;5;28;01mNone\u001B[39;00m\n\u001B[1;32m    149\u001B[0m \u001B[38;5;28;01mtry\u001B[39;00m:\n\u001B[0;32m--> 150\u001B[0m   \u001B[38;5;28;01mreturn\u001B[39;00m \u001B[43mfn\u001B[49m\u001B[43m(\u001B[49m\u001B[38;5;241;43m*\u001B[39;49m\u001B[43margs\u001B[49m\u001B[43m,\u001B[49m\u001B[43m \u001B[49m\u001B[38;5;241;43m*\u001B[39;49m\u001B[38;5;241;43m*\u001B[39;49m\u001B[43mkwargs\u001B[49m\u001B[43m)\u001B[49m\n\u001B[1;32m    151\u001B[0m \u001B[38;5;28;01mexcept\u001B[39;00m \u001B[38;5;167;01mException\u001B[39;00m \u001B[38;5;28;01mas\u001B[39;00m e:\n\u001B[1;32m    152\u001B[0m   filtered_tb \u001B[38;5;241m=\u001B[39m _process_traceback_frames(e\u001B[38;5;241m.\u001B[39m__traceback__)\n",
      "File \u001B[0;32m/usr/local/lib/python3.11/dist-packages/tensorflow/python/eager/polymorphic_function/polymorphic_function.py:832\u001B[0m, in \u001B[0;36mFunction.__call__\u001B[0;34m(self, *args, **kwds)\u001B[0m\n\u001B[1;32m    829\u001B[0m compiler \u001B[38;5;241m=\u001B[39m \u001B[38;5;124m\"\u001B[39m\u001B[38;5;124mxla\u001B[39m\u001B[38;5;124m\"\u001B[39m \u001B[38;5;28;01mif\u001B[39;00m \u001B[38;5;28mself\u001B[39m\u001B[38;5;241m.\u001B[39m_jit_compile \u001B[38;5;28;01melse\u001B[39;00m \u001B[38;5;124m\"\u001B[39m\u001B[38;5;124mnonXla\u001B[39m\u001B[38;5;124m\"\u001B[39m\n\u001B[1;32m    831\u001B[0m \u001B[38;5;28;01mwith\u001B[39;00m OptionalXlaContext(\u001B[38;5;28mself\u001B[39m\u001B[38;5;241m.\u001B[39m_jit_compile):\n\u001B[0;32m--> 832\u001B[0m   result \u001B[38;5;241m=\u001B[39m \u001B[38;5;28;43mself\u001B[39;49m\u001B[38;5;241;43m.\u001B[39;49m\u001B[43m_call\u001B[49m\u001B[43m(\u001B[49m\u001B[38;5;241;43m*\u001B[39;49m\u001B[43margs\u001B[49m\u001B[43m,\u001B[49m\u001B[43m \u001B[49m\u001B[38;5;241;43m*\u001B[39;49m\u001B[38;5;241;43m*\u001B[39;49m\u001B[43mkwds\u001B[49m\u001B[43m)\u001B[49m\n\u001B[1;32m    834\u001B[0m new_tracing_count \u001B[38;5;241m=\u001B[39m \u001B[38;5;28mself\u001B[39m\u001B[38;5;241m.\u001B[39mexperimental_get_tracing_count()\n\u001B[1;32m    835\u001B[0m without_tracing \u001B[38;5;241m=\u001B[39m (tracing_count \u001B[38;5;241m==\u001B[39m new_tracing_count)\n",
      "File \u001B[0;32m/usr/local/lib/python3.11/dist-packages/tensorflow/python/eager/polymorphic_function/polymorphic_function.py:868\u001B[0m, in \u001B[0;36mFunction._call\u001B[0;34m(self, *args, **kwds)\u001B[0m\n\u001B[1;32m    865\u001B[0m   \u001B[38;5;28mself\u001B[39m\u001B[38;5;241m.\u001B[39m_lock\u001B[38;5;241m.\u001B[39mrelease()\n\u001B[1;32m    866\u001B[0m   \u001B[38;5;66;03m# In this case we have created variables on the first call, so we run the\u001B[39;00m\n\u001B[1;32m    867\u001B[0m   \u001B[38;5;66;03m# defunned version which is guaranteed to never create variables.\u001B[39;00m\n\u001B[0;32m--> 868\u001B[0m   \u001B[38;5;28;01mreturn\u001B[39;00m \u001B[43mtracing_compilation\u001B[49m\u001B[38;5;241;43m.\u001B[39;49m\u001B[43mcall_function\u001B[49m\u001B[43m(\u001B[49m\n\u001B[1;32m    869\u001B[0m \u001B[43m      \u001B[49m\u001B[43margs\u001B[49m\u001B[43m,\u001B[49m\u001B[43m \u001B[49m\u001B[43mkwds\u001B[49m\u001B[43m,\u001B[49m\u001B[43m \u001B[49m\u001B[38;5;28;43mself\u001B[39;49m\u001B[38;5;241;43m.\u001B[39;49m\u001B[43m_no_variable_creation_config\u001B[49m\n\u001B[1;32m    870\u001B[0m \u001B[43m  \u001B[49m\u001B[43m)\u001B[49m\n\u001B[1;32m    871\u001B[0m \u001B[38;5;28;01melif\u001B[39;00m \u001B[38;5;28mself\u001B[39m\u001B[38;5;241m.\u001B[39m_variable_creation_config \u001B[38;5;129;01mis\u001B[39;00m \u001B[38;5;129;01mnot\u001B[39;00m \u001B[38;5;28;01mNone\u001B[39;00m:\n\u001B[1;32m    872\u001B[0m   \u001B[38;5;66;03m# Release the lock early so that multiple threads can perform the call\u001B[39;00m\n\u001B[1;32m    873\u001B[0m   \u001B[38;5;66;03m# in parallel.\u001B[39;00m\n\u001B[1;32m    874\u001B[0m   \u001B[38;5;28mself\u001B[39m\u001B[38;5;241m.\u001B[39m_lock\u001B[38;5;241m.\u001B[39mrelease()\n",
      "File \u001B[0;32m/usr/local/lib/python3.11/dist-packages/tensorflow/python/eager/polymorphic_function/tracing_compilation.py:139\u001B[0m, in \u001B[0;36mcall_function\u001B[0;34m(args, kwargs, tracing_options)\u001B[0m\n\u001B[1;32m    137\u001B[0m bound_args \u001B[38;5;241m=\u001B[39m function\u001B[38;5;241m.\u001B[39mfunction_type\u001B[38;5;241m.\u001B[39mbind(\u001B[38;5;241m*\u001B[39margs, \u001B[38;5;241m*\u001B[39m\u001B[38;5;241m*\u001B[39mkwargs)\n\u001B[1;32m    138\u001B[0m flat_inputs \u001B[38;5;241m=\u001B[39m function\u001B[38;5;241m.\u001B[39mfunction_type\u001B[38;5;241m.\u001B[39munpack_inputs(bound_args)\n\u001B[0;32m--> 139\u001B[0m \u001B[38;5;28;01mreturn\u001B[39;00m \u001B[43mfunction\u001B[49m\u001B[38;5;241;43m.\u001B[39;49m\u001B[43m_call_flat\u001B[49m\u001B[43m(\u001B[49m\u001B[43m  \u001B[49m\u001B[38;5;66;43;03m# pylint: disable=protected-access\u001B[39;49;00m\n\u001B[1;32m    140\u001B[0m \u001B[43m    \u001B[49m\u001B[43mflat_inputs\u001B[49m\u001B[43m,\u001B[49m\u001B[43m \u001B[49m\u001B[43mcaptured_inputs\u001B[49m\u001B[38;5;241;43m=\u001B[39;49m\u001B[43mfunction\u001B[49m\u001B[38;5;241;43m.\u001B[39;49m\u001B[43mcaptured_inputs\u001B[49m\n\u001B[1;32m    141\u001B[0m \u001B[43m\u001B[49m\u001B[43m)\u001B[49m\n",
      "File \u001B[0;32m/usr/local/lib/python3.11/dist-packages/tensorflow/python/eager/polymorphic_function/concrete_function.py:1323\u001B[0m, in \u001B[0;36mConcreteFunction._call_flat\u001B[0;34m(self, tensor_inputs, captured_inputs)\u001B[0m\n\u001B[1;32m   1319\u001B[0m possible_gradient_type \u001B[38;5;241m=\u001B[39m gradients_util\u001B[38;5;241m.\u001B[39mPossibleTapeGradientTypes(args)\n\u001B[1;32m   1320\u001B[0m \u001B[38;5;28;01mif\u001B[39;00m (possible_gradient_type \u001B[38;5;241m==\u001B[39m gradients_util\u001B[38;5;241m.\u001B[39mPOSSIBLE_GRADIENT_TYPES_NONE\n\u001B[1;32m   1321\u001B[0m     \u001B[38;5;129;01mand\u001B[39;00m executing_eagerly):\n\u001B[1;32m   1322\u001B[0m   \u001B[38;5;66;03m# No tape is watching; skip to running the function.\u001B[39;00m\n\u001B[0;32m-> 1323\u001B[0m   \u001B[38;5;28;01mreturn\u001B[39;00m \u001B[38;5;28;43mself\u001B[39;49m\u001B[38;5;241;43m.\u001B[39;49m\u001B[43m_inference_function\u001B[49m\u001B[38;5;241;43m.\u001B[39;49m\u001B[43mcall_preflattened\u001B[49m\u001B[43m(\u001B[49m\u001B[43margs\u001B[49m\u001B[43m)\u001B[49m\n\u001B[1;32m   1324\u001B[0m forward_backward \u001B[38;5;241m=\u001B[39m \u001B[38;5;28mself\u001B[39m\u001B[38;5;241m.\u001B[39m_select_forward_and_backward_functions(\n\u001B[1;32m   1325\u001B[0m     args,\n\u001B[1;32m   1326\u001B[0m     possible_gradient_type,\n\u001B[1;32m   1327\u001B[0m     executing_eagerly)\n\u001B[1;32m   1328\u001B[0m forward_function, args_with_tangents \u001B[38;5;241m=\u001B[39m forward_backward\u001B[38;5;241m.\u001B[39mforward()\n",
      "File \u001B[0;32m/usr/local/lib/python3.11/dist-packages/tensorflow/python/eager/polymorphic_function/atomic_function.py:216\u001B[0m, in \u001B[0;36mAtomicFunction.call_preflattened\u001B[0;34m(self, args)\u001B[0m\n\u001B[1;32m    214\u001B[0m \u001B[38;5;28;01mdef\u001B[39;00m \u001B[38;5;21mcall_preflattened\u001B[39m(\u001B[38;5;28mself\u001B[39m, args: Sequence[core\u001B[38;5;241m.\u001B[39mTensor]) \u001B[38;5;241m-\u001B[39m\u001B[38;5;241m>\u001B[39m Any:\n\u001B[1;32m    215\u001B[0m \u001B[38;5;250m  \u001B[39m\u001B[38;5;124;03m\"\"\"Calls with flattened tensor inputs and returns the structured output.\"\"\"\u001B[39;00m\n\u001B[0;32m--> 216\u001B[0m   flat_outputs \u001B[38;5;241m=\u001B[39m \u001B[38;5;28;43mself\u001B[39;49m\u001B[38;5;241;43m.\u001B[39;49m\u001B[43mcall_flat\u001B[49m\u001B[43m(\u001B[49m\u001B[38;5;241;43m*\u001B[39;49m\u001B[43margs\u001B[49m\u001B[43m)\u001B[49m\n\u001B[1;32m    217\u001B[0m   \u001B[38;5;28;01mreturn\u001B[39;00m \u001B[38;5;28mself\u001B[39m\u001B[38;5;241m.\u001B[39mfunction_type\u001B[38;5;241m.\u001B[39mpack_output(flat_outputs)\n",
      "File \u001B[0;32m/usr/local/lib/python3.11/dist-packages/tensorflow/python/eager/polymorphic_function/atomic_function.py:251\u001B[0m, in \u001B[0;36mAtomicFunction.call_flat\u001B[0;34m(self, *args)\u001B[0m\n\u001B[1;32m    249\u001B[0m \u001B[38;5;28;01mwith\u001B[39;00m record\u001B[38;5;241m.\u001B[39mstop_recording():\n\u001B[1;32m    250\u001B[0m   \u001B[38;5;28;01mif\u001B[39;00m \u001B[38;5;28mself\u001B[39m\u001B[38;5;241m.\u001B[39m_bound_context\u001B[38;5;241m.\u001B[39mexecuting_eagerly():\n\u001B[0;32m--> 251\u001B[0m     outputs \u001B[38;5;241m=\u001B[39m \u001B[38;5;28;43mself\u001B[39;49m\u001B[38;5;241;43m.\u001B[39;49m\u001B[43m_bound_context\u001B[49m\u001B[38;5;241;43m.\u001B[39;49m\u001B[43mcall_function\u001B[49m\u001B[43m(\u001B[49m\n\u001B[1;32m    252\u001B[0m \u001B[43m        \u001B[49m\u001B[38;5;28;43mself\u001B[39;49m\u001B[38;5;241;43m.\u001B[39;49m\u001B[43mname\u001B[49m\u001B[43m,\u001B[49m\n\u001B[1;32m    253\u001B[0m \u001B[43m        \u001B[49m\u001B[38;5;28;43mlist\u001B[39;49m\u001B[43m(\u001B[49m\u001B[43margs\u001B[49m\u001B[43m)\u001B[49m\u001B[43m,\u001B[49m\n\u001B[1;32m    254\u001B[0m \u001B[43m        \u001B[49m\u001B[38;5;28;43mlen\u001B[39;49m\u001B[43m(\u001B[49m\u001B[38;5;28;43mself\u001B[39;49m\u001B[38;5;241;43m.\u001B[39;49m\u001B[43mfunction_type\u001B[49m\u001B[38;5;241;43m.\u001B[39;49m\u001B[43mflat_outputs\u001B[49m\u001B[43m)\u001B[49m\u001B[43m,\u001B[49m\n\u001B[1;32m    255\u001B[0m \u001B[43m    \u001B[49m\u001B[43m)\u001B[49m\n\u001B[1;32m    256\u001B[0m   \u001B[38;5;28;01melse\u001B[39;00m:\n\u001B[1;32m    257\u001B[0m     outputs \u001B[38;5;241m=\u001B[39m make_call_op_in_graph(\n\u001B[1;32m    258\u001B[0m         \u001B[38;5;28mself\u001B[39m,\n\u001B[1;32m    259\u001B[0m         \u001B[38;5;28mlist\u001B[39m(args),\n\u001B[1;32m    260\u001B[0m         \u001B[38;5;28mself\u001B[39m\u001B[38;5;241m.\u001B[39m_bound_context\u001B[38;5;241m.\u001B[39mfunction_call_options\u001B[38;5;241m.\u001B[39mas_attrs(),\n\u001B[1;32m    261\u001B[0m     )\n",
      "File \u001B[0;32m/usr/local/lib/python3.11/dist-packages/tensorflow/python/eager/context.py:1486\u001B[0m, in \u001B[0;36mContext.call_function\u001B[0;34m(self, name, tensor_inputs, num_outputs)\u001B[0m\n\u001B[1;32m   1484\u001B[0m cancellation_context \u001B[38;5;241m=\u001B[39m cancellation\u001B[38;5;241m.\u001B[39mcontext()\n\u001B[1;32m   1485\u001B[0m \u001B[38;5;28;01mif\u001B[39;00m cancellation_context \u001B[38;5;129;01mis\u001B[39;00m \u001B[38;5;28;01mNone\u001B[39;00m:\n\u001B[0;32m-> 1486\u001B[0m   outputs \u001B[38;5;241m=\u001B[39m \u001B[43mexecute\u001B[49m\u001B[38;5;241;43m.\u001B[39;49m\u001B[43mexecute\u001B[49m\u001B[43m(\u001B[49m\n\u001B[1;32m   1487\u001B[0m \u001B[43m      \u001B[49m\u001B[43mname\u001B[49m\u001B[38;5;241;43m.\u001B[39;49m\u001B[43mdecode\u001B[49m\u001B[43m(\u001B[49m\u001B[38;5;124;43m\"\u001B[39;49m\u001B[38;5;124;43mutf-8\u001B[39;49m\u001B[38;5;124;43m\"\u001B[39;49m\u001B[43m)\u001B[49m\u001B[43m,\u001B[49m\n\u001B[1;32m   1488\u001B[0m \u001B[43m      \u001B[49m\u001B[43mnum_outputs\u001B[49m\u001B[38;5;241;43m=\u001B[39;49m\u001B[43mnum_outputs\u001B[49m\u001B[43m,\u001B[49m\n\u001B[1;32m   1489\u001B[0m \u001B[43m      \u001B[49m\u001B[43minputs\u001B[49m\u001B[38;5;241;43m=\u001B[39;49m\u001B[43mtensor_inputs\u001B[49m\u001B[43m,\u001B[49m\n\u001B[1;32m   1490\u001B[0m \u001B[43m      \u001B[49m\u001B[43mattrs\u001B[49m\u001B[38;5;241;43m=\u001B[39;49m\u001B[43mattrs\u001B[49m\u001B[43m,\u001B[49m\n\u001B[1;32m   1491\u001B[0m \u001B[43m      \u001B[49m\u001B[43mctx\u001B[49m\u001B[38;5;241;43m=\u001B[39;49m\u001B[38;5;28;43mself\u001B[39;49m\u001B[43m,\u001B[49m\n\u001B[1;32m   1492\u001B[0m \u001B[43m  \u001B[49m\u001B[43m)\u001B[49m\n\u001B[1;32m   1493\u001B[0m \u001B[38;5;28;01melse\u001B[39;00m:\n\u001B[1;32m   1494\u001B[0m   outputs \u001B[38;5;241m=\u001B[39m execute\u001B[38;5;241m.\u001B[39mexecute_with_cancellation(\n\u001B[1;32m   1495\u001B[0m       name\u001B[38;5;241m.\u001B[39mdecode(\u001B[38;5;124m\"\u001B[39m\u001B[38;5;124mutf-8\u001B[39m\u001B[38;5;124m\"\u001B[39m),\n\u001B[1;32m   1496\u001B[0m       num_outputs\u001B[38;5;241m=\u001B[39mnum_outputs,\n\u001B[0;32m   (...)\u001B[0m\n\u001B[1;32m   1500\u001B[0m       cancellation_manager\u001B[38;5;241m=\u001B[39mcancellation_context,\n\u001B[1;32m   1501\u001B[0m   )\n",
      "File \u001B[0;32m/usr/local/lib/python3.11/dist-packages/tensorflow/python/eager/execute.py:53\u001B[0m, in \u001B[0;36mquick_execute\u001B[0;34m(op_name, num_outputs, inputs, attrs, ctx, name)\u001B[0m\n\u001B[1;32m     51\u001B[0m \u001B[38;5;28;01mtry\u001B[39;00m:\n\u001B[1;32m     52\u001B[0m   ctx\u001B[38;5;241m.\u001B[39mensure_initialized()\n\u001B[0;32m---> 53\u001B[0m   tensors \u001B[38;5;241m=\u001B[39m \u001B[43mpywrap_tfe\u001B[49m\u001B[38;5;241;43m.\u001B[39;49m\u001B[43mTFE_Py_Execute\u001B[49m\u001B[43m(\u001B[49m\u001B[43mctx\u001B[49m\u001B[38;5;241;43m.\u001B[39;49m\u001B[43m_handle\u001B[49m\u001B[43m,\u001B[49m\u001B[43m \u001B[49m\u001B[43mdevice_name\u001B[49m\u001B[43m,\u001B[49m\u001B[43m \u001B[49m\u001B[43mop_name\u001B[49m\u001B[43m,\u001B[49m\n\u001B[1;32m     54\u001B[0m \u001B[43m                                      \u001B[49m\u001B[43minputs\u001B[49m\u001B[43m,\u001B[49m\u001B[43m \u001B[49m\u001B[43mattrs\u001B[49m\u001B[43m,\u001B[49m\u001B[43m \u001B[49m\u001B[43mnum_outputs\u001B[49m\u001B[43m)\u001B[49m\n\u001B[1;32m     55\u001B[0m \u001B[38;5;28;01mexcept\u001B[39;00m core\u001B[38;5;241m.\u001B[39m_NotOkStatusException \u001B[38;5;28;01mas\u001B[39;00m e:\n\u001B[1;32m     56\u001B[0m   \u001B[38;5;28;01mif\u001B[39;00m name \u001B[38;5;129;01mis\u001B[39;00m \u001B[38;5;129;01mnot\u001B[39;00m \u001B[38;5;28;01mNone\u001B[39;00m:\n",
      "\u001B[0;31mKeyboardInterrupt\u001B[0m: "
     ]
    }
   ],
   "execution_count": 34
  }
 ],
 "metadata": {
  "kernelspec": {
   "display_name": "Python 3",
   "language": "python",
   "name": "python3"
  },
  "language_info": {
   "codemirror_mode": {
    "name": "ipython",
    "version": 2
   },
   "file_extension": ".py",
   "mimetype": "text/x-python",
   "name": "python",
   "nbconvert_exporter": "python",
   "pygments_lexer": "ipython2",
   "version": "2.7.6"
  }
 },
 "nbformat": 4,
 "nbformat_minor": 5
}
